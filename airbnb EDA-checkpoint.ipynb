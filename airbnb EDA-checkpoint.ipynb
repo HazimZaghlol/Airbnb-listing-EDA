{
 "cells": [
  {
   "cell_type": "markdown",
   "metadata": {},
   "source": [
    "# Loading libraries and data"
   ]
  },
  {
   "cell_type": "code",
   "execution_count": 25,
   "metadata": {},
   "outputs": [],
   "source": [
    "import numpy as np\n",
    "import pandas as pd \n",
    "import matplotlib.pyplot as plt\n",
    "import seaborn as sns \n",
    "sns.set()\n",
    "from ipyleaflet import Map, MarkerCluster, Marker\n",
    "import plotly.express as px\n",
    "import plotly.offline as pyo"
   ]
  },
  {
   "cell_type": "code",
   "execution_count": 26,
   "metadata": {},
   "outputs": [],
   "source": [
    "listings = pd.read_csv('listings.csv', index_col= \"id\")\n",
    "listings_details = pd.read_csv(\"listings_details.csv.gz\", index_col= \"id\", low_memory=False)\n",
    "calendar = pd.read_csv(\"calendar.csv.gz\", parse_dates=['date'], index_col=['listing_id'])\n",
    "reviews_details = pd.read_csv(\"reviews_details.csv.gz\", parse_dates=['date'] , index_col=['id'])\n"
   ]
  },
  {
   "cell_type": "code",
   "execution_count": 27,
   "metadata": {},
   "outputs": [
    {
     "data": {
      "text/plain": [
       "Index(['name', 'host_id', 'host_name', 'neighbourhood_group', 'neighbourhood',\n",
       "       'latitude', 'longitude', 'room_type', 'price', 'minimum_nights',\n",
       "       'number_of_reviews', 'last_review', 'reviews_per_month',\n",
       "       'calculated_host_listings_count', 'availability_365',\n",
       "       'number_of_reviews_ltm', 'license'],\n",
       "      dtype='object')"
      ]
     },
     "execution_count": 27,
     "metadata": {},
     "output_type": "execute_result"
    }
   ],
   "source": [
    "listings.columns"
   ]
  },
  {
   "cell_type": "code",
   "execution_count": 28,
   "metadata": {},
   "outputs": [
    {
     "data": {
      "text/plain": [
       "Index(['listing_url', 'scrape_id', 'last_scraped', 'source', 'name',\n",
       "       'description', 'neighborhood_overview', 'picture_url', 'host_id',\n",
       "       'host_url', 'host_name', 'host_since', 'host_location', 'host_about',\n",
       "       'host_response_time', 'host_response_rate', 'host_acceptance_rate',\n",
       "       'host_is_superhost', 'host_thumbnail_url', 'host_picture_url',\n",
       "       'host_neighbourhood', 'host_listings_count',\n",
       "       'host_total_listings_count', 'host_verifications',\n",
       "       'host_has_profile_pic', 'host_identity_verified', 'neighbourhood',\n",
       "       'neighbourhood_cleansed', 'neighbourhood_group_cleansed', 'latitude',\n",
       "       'longitude', 'property_type', 'room_type', 'accommodates', 'bathrooms',\n",
       "       'bathrooms_text', 'bedrooms', 'beds', 'amenities', 'price',\n",
       "       'minimum_nights', 'maximum_nights', 'minimum_minimum_nights',\n",
       "       'maximum_minimum_nights', 'minimum_maximum_nights',\n",
       "       'maximum_maximum_nights', 'minimum_nights_avg_ntm',\n",
       "       'maximum_nights_avg_ntm', 'calendar_updated', 'has_availability',\n",
       "       'availability_30', 'availability_60', 'availability_90',\n",
       "       'availability_365', 'calendar_last_scraped', 'number_of_reviews',\n",
       "       'number_of_reviews_ltm', 'number_of_reviews_l30d', 'first_review',\n",
       "       'last_review', 'review_scores_rating', 'review_scores_accuracy',\n",
       "       'review_scores_cleanliness', 'review_scores_checkin',\n",
       "       'review_scores_communication', 'review_scores_location',\n",
       "       'review_scores_value', 'license', 'instant_bookable',\n",
       "       'calculated_host_listings_count',\n",
       "       'calculated_host_listings_count_entire_homes',\n",
       "       'calculated_host_listings_count_private_rooms',\n",
       "       'calculated_host_listings_count_shared_rooms', 'reviews_per_month'],\n",
       "      dtype='object')"
      ]
     },
     "execution_count": 28,
     "metadata": {},
     "output_type": "execute_result"
    }
   ],
   "source": [
    "listings_details.columns"
   ]
  },
  {
   "cell_type": "code",
   "execution_count": 29,
   "metadata": {},
   "outputs": [
    {
     "data": {
      "text/plain": [
       "Index(['date', 'available', 'price', 'adjusted_price', 'minimum_nights',\n",
       "       'maximum_nights'],\n",
       "      dtype='object')"
      ]
     },
     "execution_count": 29,
     "metadata": {},
     "output_type": "execute_result"
    }
   ],
   "source": [
    "calendar.columns"
   ]
  },
  {
   "cell_type": "code",
   "execution_count": 30,
   "metadata": {},
   "outputs": [
    {
     "data": {
      "text/plain": [
       "Index(['listing_id', 'date', 'reviewer_id', 'reviewer_name', 'comments'], dtype='object')"
      ]
     },
     "execution_count": 30,
     "metadata": {},
     "output_type": "execute_result"
    }
   ],
   "source": [
    "reviews_details.columns"
   ]
  },
  {
   "cell_type": "code",
   "execution_count": 31,
   "metadata": {},
   "outputs": [
    {
     "name": "stdout",
     "output_type": "stream",
     "text": [
      "<class 'pandas.core.frame.DataFrame'>\n",
      "Index: 7608 entries, 2818 to 906313802809767607\n",
      "Data columns (total 24 columns):\n",
      " #   Column                          Non-Null Count  Dtype  \n",
      "---  ------                          --------------  -----  \n",
      " 0   name                            7608 non-null   object \n",
      " 1   host_id                         7608 non-null   int64  \n",
      " 2   host_name                       7608 non-null   object \n",
      " 3   neighbourhood_group             0 non-null      float64\n",
      " 4   neighbourhood                   7608 non-null   object \n",
      " 5   latitude                        7608 non-null   float64\n",
      " 6   longitude                       7608 non-null   float64\n",
      " 7   room_type                       7608 non-null   object \n",
      " 8   price                           7608 non-null   int64  \n",
      " 9   minimum_nights                  7608 non-null   int64  \n",
      " 10  number_of_reviews               7608 non-null   int64  \n",
      " 11  last_review                     6898 non-null   object \n",
      " 12  reviews_per_month               6898 non-null   float64\n",
      " 13  calculated_host_listings_count  7608 non-null   int64  \n",
      " 14  availability_365                7608 non-null   int64  \n",
      " 15  number_of_reviews_ltm           7608 non-null   int64  \n",
      " 16  license                         6474 non-null   object \n",
      " 17  property_type                   7608 non-null   object \n",
      " 18  accommodates                    7608 non-null   int64  \n",
      " 19  review_scores_rating            6898 non-null   float64\n",
      " 20  host_is_superhost               6395 non-null   object \n",
      " 21  host_response_time              5349 non-null   object \n",
      " 22  host_response_rate              5349 non-null   object \n",
      " 23  review_scores_location          6893 non-null   float64\n",
      "dtypes: float64(6), int64(8), object(10)\n",
      "memory usage: 1.5+ MB\n"
     ]
    }
   ],
   "source": [
    "target_columns = [\"property_type\", \"accommodates\",  \"review_scores_rating\",  \"host_is_superhost\",  \"host_response_time\", \"host_response_rate\",'review_scores_location']\n",
    "df_listings= pd.merge(listings, listings_details[target_columns], on='id', how='left')\n",
    "df_listings.info()"
   ]
  },
  {
   "cell_type": "code",
   "execution_count": 32,
   "metadata": {},
   "outputs": [
    {
     "data": {
      "text/plain": [
       "name                                 0\n",
       "host_id                              0\n",
       "host_name                            0\n",
       "neighbourhood_group               7608\n",
       "neighbourhood                        0\n",
       "latitude                             0\n",
       "longitude                            0\n",
       "room_type                            0\n",
       "price                                0\n",
       "minimum_nights                       0\n",
       "number_of_reviews                    0\n",
       "last_review                        710\n",
       "reviews_per_month                  710\n",
       "calculated_host_listings_count       0\n",
       "availability_365                     0\n",
       "number_of_reviews_ltm                0\n",
       "license                           1134\n",
       "property_type                        0\n",
       "accommodates                         0\n",
       "review_scores_rating               710\n",
       "host_is_superhost                 1213\n",
       "host_response_time                2259\n",
       "host_response_rate                2259\n",
       "review_scores_location             715\n",
       "dtype: int64"
      ]
     },
     "execution_count": 32,
     "metadata": {},
     "output_type": "execute_result"
    }
   ],
   "source": [
    "df_listings.isnull().sum()"
   ]
  },
  {
   "cell_type": "markdown",
   "metadata": {},
   "source": [
    "# 1. Data Cleaning :-"
   ]
  },
  {
   "cell_type": "markdown",
   "metadata": {},
   "source": [
    "#### We see that (neighbourhood_group) is useless in Amsterdam, as it contains zero non-null objects. Below, I getting rid of this variable, and I am showing the head of the dataframe that I am going to work with."
   ]
  },
  {
   "cell_type": "code",
   "execution_count": 33,
   "metadata": {},
   "outputs": [
    {
     "data": {
      "text/html": [
       "<div>\n",
       "<style scoped>\n",
       "    .dataframe tbody tr th:only-of-type {\n",
       "        vertical-align: middle;\n",
       "    }\n",
       "\n",
       "    .dataframe tbody tr th {\n",
       "        vertical-align: top;\n",
       "    }\n",
       "\n",
       "    .dataframe thead th {\n",
       "        text-align: right;\n",
       "    }\n",
       "</style>\n",
       "<table border=\"1\" class=\"dataframe\">\n",
       "  <thead>\n",
       "    <tr style=\"text-align: right;\">\n",
       "      <th></th>\n",
       "      <th>name</th>\n",
       "      <th>host_id</th>\n",
       "      <th>host_name</th>\n",
       "      <th>neighbourhood</th>\n",
       "      <th>latitude</th>\n",
       "      <th>longitude</th>\n",
       "      <th>room_type</th>\n",
       "      <th>price</th>\n",
       "      <th>minimum_nights</th>\n",
       "      <th>number_of_reviews</th>\n",
       "      <th>...</th>\n",
       "      <th>availability_365</th>\n",
       "      <th>number_of_reviews_ltm</th>\n",
       "      <th>license</th>\n",
       "      <th>property_type</th>\n",
       "      <th>accommodates</th>\n",
       "      <th>review_scores_rating</th>\n",
       "      <th>host_is_superhost</th>\n",
       "      <th>host_response_time</th>\n",
       "      <th>host_response_rate</th>\n",
       "      <th>review_scores_location</th>\n",
       "    </tr>\n",
       "    <tr>\n",
       "      <th>id</th>\n",
       "      <th></th>\n",
       "      <th></th>\n",
       "      <th></th>\n",
       "      <th></th>\n",
       "      <th></th>\n",
       "      <th></th>\n",
       "      <th></th>\n",
       "      <th></th>\n",
       "      <th></th>\n",
       "      <th></th>\n",
       "      <th></th>\n",
       "      <th></th>\n",
       "      <th></th>\n",
       "      <th></th>\n",
       "      <th></th>\n",
       "      <th></th>\n",
       "      <th></th>\n",
       "      <th></th>\n",
       "      <th></th>\n",
       "      <th></th>\n",
       "      <th></th>\n",
       "    </tr>\n",
       "  </thead>\n",
       "  <tbody>\n",
       "    <tr>\n",
       "      <th>2818</th>\n",
       "      <td>Condo in Amsterdam · ★4.89 · 1 bedroom · 2 bed...</td>\n",
       "      <td>3159</td>\n",
       "      <td>Daniel</td>\n",
       "      <td>Oostelijk Havengebied - Indische Buurt</td>\n",
       "      <td>52.36435</td>\n",
       "      <td>4.94358</td>\n",
       "      <td>Private room</td>\n",
       "      <td>69</td>\n",
       "      <td>3</td>\n",
       "      <td>336</td>\n",
       "      <td>...</td>\n",
       "      <td>7</td>\n",
       "      <td>40</td>\n",
       "      <td>NaN</td>\n",
       "      <td>Private room in condo</td>\n",
       "      <td>2</td>\n",
       "      <td>4.89</td>\n",
       "      <td>NaN</td>\n",
       "      <td>within an hour</td>\n",
       "      <td>100.0</td>\n",
       "      <td>4.69</td>\n",
       "    </tr>\n",
       "    <tr>\n",
       "      <th>20168</th>\n",
       "      <td>Townhouse in Amsterdam · ★4.44 · 1 bedroom · 1...</td>\n",
       "      <td>59484</td>\n",
       "      <td>Alexander</td>\n",
       "      <td>Centrum-Oost</td>\n",
       "      <td>52.36407</td>\n",
       "      <td>4.89393</td>\n",
       "      <td>Private room</td>\n",
       "      <td>106</td>\n",
       "      <td>1</td>\n",
       "      <td>339</td>\n",
       "      <td>...</td>\n",
       "      <td>0</td>\n",
       "      <td>0</td>\n",
       "      <td>NaN</td>\n",
       "      <td>Private room in townhouse</td>\n",
       "      <td>2</td>\n",
       "      <td>4.44</td>\n",
       "      <td>NaN</td>\n",
       "      <td>within an hour</td>\n",
       "      <td>100.0</td>\n",
       "      <td>4.87</td>\n",
       "    </tr>\n",
       "    <tr>\n",
       "      <th>213371</th>\n",
       "      <td>Rental unit in Amsterdam · ★4.86 · 3 bedrooms ...</td>\n",
       "      <td>1100324</td>\n",
       "      <td>Hendrik</td>\n",
       "      <td>De Pijp - Rivierenbuurt</td>\n",
       "      <td>52.35150</td>\n",
       "      <td>4.89656</td>\n",
       "      <td>Entire home/apt</td>\n",
       "      <td>270</td>\n",
       "      <td>4</td>\n",
       "      <td>23</td>\n",
       "      <td>...</td>\n",
       "      <td>2</td>\n",
       "      <td>1</td>\n",
       "      <td>0363 F88F 4B47 6E9B 225B</td>\n",
       "      <td>Entire rental unit</td>\n",
       "      <td>4</td>\n",
       "      <td>4.86</td>\n",
       "      <td>f</td>\n",
       "      <td>NaN</td>\n",
       "      <td>NaN</td>\n",
       "      <td>4.86</td>\n",
       "    </tr>\n",
       "    <tr>\n",
       "      <th>155548</th>\n",
       "      <td>Rental unit in Amsterdam · ★4.76 · 1 bedroom ·...</td>\n",
       "      <td>748161</td>\n",
       "      <td>Maria</td>\n",
       "      <td>Oud-Oost</td>\n",
       "      <td>52.36420</td>\n",
       "      <td>4.92829</td>\n",
       "      <td>Entire home/apt</td>\n",
       "      <td>200</td>\n",
       "      <td>3</td>\n",
       "      <td>21</td>\n",
       "      <td>...</td>\n",
       "      <td>0</td>\n",
       "      <td>0</td>\n",
       "      <td>0363 A562 4D7E 4A91 60DF</td>\n",
       "      <td>Entire rental unit</td>\n",
       "      <td>3</td>\n",
       "      <td>4.76</td>\n",
       "      <td>f</td>\n",
       "      <td>NaN</td>\n",
       "      <td>NaN</td>\n",
       "      <td>4.33</td>\n",
       "    </tr>\n",
       "    <tr>\n",
       "      <th>27886</th>\n",
       "      <td>Houseboat in Amsterdam · ★4.94 · 1 bedroom · 1...</td>\n",
       "      <td>97647</td>\n",
       "      <td>Flip</td>\n",
       "      <td>Centrum-West</td>\n",
       "      <td>52.38761</td>\n",
       "      <td>4.89188</td>\n",
       "      <td>Private room</td>\n",
       "      <td>137</td>\n",
       "      <td>3</td>\n",
       "      <td>251</td>\n",
       "      <td>...</td>\n",
       "      <td>0</td>\n",
       "      <td>20</td>\n",
       "      <td>NaN</td>\n",
       "      <td>Private room in houseboat</td>\n",
       "      <td>2</td>\n",
       "      <td>4.94</td>\n",
       "      <td>NaN</td>\n",
       "      <td>within an hour</td>\n",
       "      <td>100.0</td>\n",
       "      <td>4.89</td>\n",
       "    </tr>\n",
       "  </tbody>\n",
       "</table>\n",
       "<p>5 rows × 23 columns</p>\n",
       "</div>"
      ],
      "text/plain": [
       "                                                     name  host_id  host_name  \\\n",
       "id                                                                              \n",
       "2818    Condo in Amsterdam · ★4.89 · 1 bedroom · 2 bed...     3159     Daniel   \n",
       "20168   Townhouse in Amsterdam · ★4.44 · 1 bedroom · 1...    59484  Alexander   \n",
       "213371  Rental unit in Amsterdam · ★4.86 · 3 bedrooms ...  1100324    Hendrik   \n",
       "155548  Rental unit in Amsterdam · ★4.76 · 1 bedroom ·...   748161      Maria   \n",
       "27886   Houseboat in Amsterdam · ★4.94 · 1 bedroom · 1...    97647       Flip   \n",
       "\n",
       "                                 neighbourhood  latitude  longitude  \\\n",
       "id                                                                    \n",
       "2818    Oostelijk Havengebied - Indische Buurt  52.36435    4.94358   \n",
       "20168                             Centrum-Oost  52.36407    4.89393   \n",
       "213371                 De Pijp - Rivierenbuurt  52.35150    4.89656   \n",
       "155548                                Oud-Oost  52.36420    4.92829   \n",
       "27886                             Centrum-West  52.38761    4.89188   \n",
       "\n",
       "              room_type  price  minimum_nights  number_of_reviews  ...  \\\n",
       "id                                                                 ...   \n",
       "2818       Private room     69               3                336  ...   \n",
       "20168      Private room    106               1                339  ...   \n",
       "213371  Entire home/apt    270               4                 23  ...   \n",
       "155548  Entire home/apt    200               3                 21  ...   \n",
       "27886      Private room    137               3                251  ...   \n",
       "\n",
       "       availability_365  number_of_reviews_ltm                   license  \\\n",
       "id                                                                         \n",
       "2818                  7                     40                       NaN   \n",
       "20168                 0                      0                       NaN   \n",
       "213371                2                      1  0363 F88F 4B47 6E9B 225B   \n",
       "155548                0                      0  0363 A562 4D7E 4A91 60DF   \n",
       "27886                 0                     20                       NaN   \n",
       "\n",
       "                    property_type  accommodates review_scores_rating  \\\n",
       "id                                                                     \n",
       "2818        Private room in condo             2                 4.89   \n",
       "20168   Private room in townhouse             2                 4.44   \n",
       "213371         Entire rental unit             4                 4.86   \n",
       "155548         Entire rental unit             3                 4.76   \n",
       "27886   Private room in houseboat             2                 4.94   \n",
       "\n",
       "       host_is_superhost  host_response_time  host_response_rate  \\\n",
       "id                                                                 \n",
       "2818                 NaN      within an hour               100.0   \n",
       "20168                NaN      within an hour               100.0   \n",
       "213371                 f                 NaN                 NaN   \n",
       "155548                 f                 NaN                 NaN   \n",
       "27886                NaN      within an hour               100.0   \n",
       "\n",
       "       review_scores_location  \n",
       "id                             \n",
       "2818                     4.69  \n",
       "20168                    4.87  \n",
       "213371                   4.86  \n",
       "155548                   4.33  \n",
       "27886                    4.89  \n",
       "\n",
       "[5 rows x 23 columns]"
      ]
     },
     "execution_count": 33,
     "metadata": {},
     "output_type": "execute_result"
    }
   ],
   "source": [
    "df_cleaned = df_listings.drop(columns=['neighbourhood_group'])\n",
    "df_cleaned['host_response_rate'] = pd.to_numeric(df_listings['host_response_rate'].str.strip('%'))\n",
    "df_cleaned.head()"
   ]
  },
  {
   "cell_type": "markdown",
   "metadata": {},
   "source": [
    "# 2. Data exploration :-"
   ]
  },
  {
   "cell_type": "markdown",
   "metadata": {},
   "source": [
    "# Neighbourhoods"
   ]
  },
  {
   "cell_type": "code",
   "execution_count": 34,
   "metadata": {},
   "outputs": [
    {
     "data": {
      "text/plain": [
       "neighbourhood\n",
       "Bijlmer-Oost                                30\n",
       "Osdorp                                      44\n",
       "Bijlmer-Centrum                             46\n",
       "Gaasperdam - Driemond                       49\n",
       "De Aker - Nieuw Sloten                      62\n",
       "Buitenveldert - Zuidas                      81\n",
       "Geuzenveld - Slotermeer                     92\n",
       "Noord-Oost                                 120\n",
       "Slotervaart                                149\n",
       "IJburg - Zeeburgereiland                   164\n",
       "Noord-West                                 198\n",
       "Watergraafsmeer                            231\n",
       "Oostelijk Havengebied - Indische Buurt     286\n",
       "Oud-Noord                                  346\n",
       "Bos en Lommer                              382\n",
       "Oud-Oost                                   451\n",
       "Zuid                                       510\n",
       "Westerpark                                 536\n",
       "Centrum-Oost                               730\n",
       "De Pijp - Rivierenbuurt                    872\n",
       "Centrum-West                               969\n",
       "De Baarsjes - Oud-West                    1260\n",
       "Name: count, dtype: int64"
      ]
     },
     "execution_count": 34,
     "metadata": {},
     "output_type": "execute_result"
    }
   ],
   "source": [
    "neighbourhood_count =df_cleaned['neighbourhood'].value_counts().sort_values(ascending=True)\n",
    "neighbourhood_count"
   ]
  },
  {
   "cell_type": "code",
   "execution_count": 35,
   "metadata": {},
   "outputs": [
    {
     "data": {
      "image/png": "[encoded data removed]",
      "text/plain": [
       "<Figure size 1000x800 with 1 Axes>"
      ]
     },
     "metadata": {},
     "output_type": "display_data"
    }
   ],
   "source": [
    "neighbourhood_count.plot.barh(figsize=(10, 8), color='b', width=1)\n",
    "plt.title(\"Number of listings by neighbourhood\", fontsize=20)\n",
    "plt.xlabel('Number of listings', fontsize=12)\n",
    "plt.show()"
   ]
  },
  {
   "cell_type": "markdown",
   "metadata": {},
   "source": [
    "**Insights:**\n",
    "- The analysis of the dataset reveals significant variation in listing counts across different neighborhoods. 'De Baarsjes - Oud-West' stands out as the most popular neighborhood with 1260 listings, while 'Bijlmer-Oost' has the fewest at 30. This suggests varying levels of demand and popularity among different areas.\n",
    "\n",
    "**Benefits:**\n",
    "- Allows potential guests or buyers to explore listings in different neighborhoods to find properties that match their preferences and requirements.\n",
    "- Assists property managers and real estate agents in understanding the popularity of different neighborhoods for potential investment or marketing strategies.\n",
    "\n",
    "**Recommendations:**\n",
    "- **For Potential Guests or Buyers:**\n",
    "  - Explore listings in neighborhoods that align with your preferences and needs, considering factors like proximity to amenities, safety, and accessibility.\n",
    "  \n",
    "- **For Property Managers or Real Estate Agents:**\n",
    "  - Analyze the data to identify popular neighborhoods with high listing counts. Focus on optimizing marketing efforts and property management strategies in these areas.\n",
    "  - Consider conducting market research to understand why certain neighborhoods might have higher or lower listing counts. This could involve factors such as transportation, amenities, and local attractions.\n",
    "\n",
    "- **For Decision-Makers:**\n",
    "  - If you're making investment decisions, consider areas with high listing counts as potential targets, as they may indicate higher demand and profitability.\n",
    "  - For urban planning or community development, this data can assist in understanding the distribution of properties and potential housing needs in different neighborhoods.\n",
    "\n"
   ]
  },
  {
   "cell_type": "markdown",
   "metadata": {},
   "source": [
    "## Below you can see that most listings are in the city centre. This map is interactive, and you can zoom-in on the clusters to eventually find the individual locations of the listings."
   ]
  },
  {
   "cell_type": "code",
   "execution_count": 36,
   "metadata": {},
   "outputs": [
    {
     "data": {
      "application/vnd.jupyter.widget-view+json": {
       "model_id": "f3915b06b8534ceabac7a282c2660527",
       "version_major": 2,
       "version_minor": 0
      },
      "text/plain": [
       "Map(center=[52.368, 4.9036], controls=(ZoomControl(options=['position', 'zoom_in_text', 'zoom_in_title', 'zoom…"
      ]
     },
     "execution_count": 36,
     "metadata": {},
     "output_type": "execute_result"
    }
   ],
   "source": [
    "latitude = listings['latitude'].tolist()\n",
    "longitude = listings['longitude'].tolist()\n",
    "locations = list(zip(latitude, longitude))\n",
    "\n",
    "m = Map(center=[52.3680, 4.9036], scroll_wheel_zoom=True)\n",
    "\n",
    "marker_cluster = MarkerCluster(markers=[Marker(location=location) for location in locations])\n",
    "m.add_layer(marker_cluster)\n",
    "\n",
    "m"
   ]
  },
  {
   "cell_type": "code",
   "execution_count": 37,
   "metadata": {},
   "outputs": [
    {
     "data": {
      "text/html": [
       "<div>\n",
       "<style scoped>\n",
       "    .dataframe tbody tr th:only-of-type {\n",
       "        vertical-align: middle;\n",
       "    }\n",
       "\n",
       "    .dataframe tbody tr th {\n",
       "        vertical-align: top;\n",
       "    }\n",
       "\n",
       "    .dataframe thead th {\n",
       "        text-align: right;\n",
       "    }\n",
       "</style>\n",
       "<table border=\"1\" class=\"dataframe\">\n",
       "  <thead>\n",
       "    <tr style=\"text-align: right;\">\n",
       "      <th></th>\n",
       "      <th>count</th>\n",
       "      <th>mean</th>\n",
       "      <th>std</th>\n",
       "      <th>min</th>\n",
       "      <th>25%</th>\n",
       "      <th>50%</th>\n",
       "      <th>75%</th>\n",
       "      <th>max</th>\n",
       "    </tr>\n",
       "    <tr>\n",
       "      <th>neighbourhood</th>\n",
       "      <th></th>\n",
       "      <th></th>\n",
       "      <th></th>\n",
       "      <th></th>\n",
       "      <th></th>\n",
       "      <th></th>\n",
       "      <th></th>\n",
       "      <th></th>\n",
       "    </tr>\n",
       "  </thead>\n",
       "  <tbody>\n",
       "    <tr>\n",
       "      <th>Bijlmer-Centrum</th>\n",
       "      <td>46.0</td>\n",
       "      <td>143.043478</td>\n",
       "      <td>79.737613</td>\n",
       "      <td>36.0</td>\n",
       "      <td>82.75</td>\n",
       "      <td>140.0</td>\n",
       "      <td>185.00</td>\n",
       "      <td>425.0</td>\n",
       "    </tr>\n",
       "    <tr>\n",
       "      <th>Bijlmer-Oost</th>\n",
       "      <td>30.0</td>\n",
       "      <td>154.500000</td>\n",
       "      <td>64.907228</td>\n",
       "      <td>42.0</td>\n",
       "      <td>116.25</td>\n",
       "      <td>150.0</td>\n",
       "      <td>198.75</td>\n",
       "      <td>325.0</td>\n",
       "    </tr>\n",
       "    <tr>\n",
       "      <th>Bos en Lommer</th>\n",
       "      <td>382.0</td>\n",
       "      <td>198.811518</td>\n",
       "      <td>111.697642</td>\n",
       "      <td>39.0</td>\n",
       "      <td>125.00</td>\n",
       "      <td>180.0</td>\n",
       "      <td>243.00</td>\n",
       "      <td>889.0</td>\n",
       "    </tr>\n",
       "    <tr>\n",
       "      <th>Buitenveldert - Zuidas</th>\n",
       "      <td>81.0</td>\n",
       "      <td>188.432099</td>\n",
       "      <td>88.895154</td>\n",
       "      <td>50.0</td>\n",
       "      <td>130.00</td>\n",
       "      <td>178.0</td>\n",
       "      <td>220.00</td>\n",
       "      <td>500.0</td>\n",
       "    </tr>\n",
       "    <tr>\n",
       "      <th>Centrum-Oost</th>\n",
       "      <td>730.0</td>\n",
       "      <td>308.900000</td>\n",
       "      <td>484.899904</td>\n",
       "      <td>40.0</td>\n",
       "      <td>164.25</td>\n",
       "      <td>233.0</td>\n",
       "      <td>350.00</td>\n",
       "      <td>12000.0</td>\n",
       "    </tr>\n",
       "    <tr>\n",
       "      <th>Centrum-West</th>\n",
       "      <td>969.0</td>\n",
       "      <td>303.006192</td>\n",
       "      <td>442.627446</td>\n",
       "      <td>18.0</td>\n",
       "      <td>165.00</td>\n",
       "      <td>240.0</td>\n",
       "      <td>350.00</td>\n",
       "      <td>10000.0</td>\n",
       "    </tr>\n",
       "    <tr>\n",
       "      <th>De Aker - Nieuw Sloten</th>\n",
       "      <td>62.0</td>\n",
       "      <td>241.758065</td>\n",
       "      <td>347.813201</td>\n",
       "      <td>49.0</td>\n",
       "      <td>95.00</td>\n",
       "      <td>128.5</td>\n",
       "      <td>249.75</td>\n",
       "      <td>2450.0</td>\n",
       "    </tr>\n",
       "    <tr>\n",
       "      <th>De Baarsjes - Oud-West</th>\n",
       "      <td>1260.0</td>\n",
       "      <td>245.950000</td>\n",
       "      <td>153.438896</td>\n",
       "      <td>0.0</td>\n",
       "      <td>150.00</td>\n",
       "      <td>212.0</td>\n",
       "      <td>300.00</td>\n",
       "      <td>2500.0</td>\n",
       "    </tr>\n",
       "    <tr>\n",
       "      <th>De Pijp - Rivierenbuurt</th>\n",
       "      <td>872.0</td>\n",
       "      <td>265.912844</td>\n",
       "      <td>142.951267</td>\n",
       "      <td>50.0</td>\n",
       "      <td>170.00</td>\n",
       "      <td>246.0</td>\n",
       "      <td>325.00</td>\n",
       "      <td>1250.0</td>\n",
       "    </tr>\n",
       "    <tr>\n",
       "      <th>Gaasperdam - Driemond</th>\n",
       "      <td>49.0</td>\n",
       "      <td>128.367347</td>\n",
       "      <td>69.315310</td>\n",
       "      <td>45.0</td>\n",
       "      <td>79.00</td>\n",
       "      <td>110.0</td>\n",
       "      <td>163.00</td>\n",
       "      <td>350.0</td>\n",
       "    </tr>\n",
       "    <tr>\n",
       "      <th>Geuzenveld - Slotermeer</th>\n",
       "      <td>92.0</td>\n",
       "      <td>181.869565</td>\n",
       "      <td>88.261875</td>\n",
       "      <td>63.0</td>\n",
       "      <td>113.00</td>\n",
       "      <td>165.0</td>\n",
       "      <td>226.00</td>\n",
       "      <td>491.0</td>\n",
       "    </tr>\n",
       "    <tr>\n",
       "      <th>IJburg - Zeeburgereiland</th>\n",
       "      <td>164.0</td>\n",
       "      <td>241.164634</td>\n",
       "      <td>228.427386</td>\n",
       "      <td>45.0</td>\n",
       "      <td>130.75</td>\n",
       "      <td>180.0</td>\n",
       "      <td>300.00</td>\n",
       "      <td>2575.0</td>\n",
       "    </tr>\n",
       "    <tr>\n",
       "      <th>Noord-Oost</th>\n",
       "      <td>120.0</td>\n",
       "      <td>184.425000</td>\n",
       "      <td>114.666316</td>\n",
       "      <td>40.0</td>\n",
       "      <td>110.00</td>\n",
       "      <td>156.0</td>\n",
       "      <td>220.00</td>\n",
       "      <td>850.0</td>\n",
       "    </tr>\n",
       "    <tr>\n",
       "      <th>Noord-West</th>\n",
       "      <td>198.0</td>\n",
       "      <td>192.247475</td>\n",
       "      <td>98.007326</td>\n",
       "      <td>30.0</td>\n",
       "      <td>124.25</td>\n",
       "      <td>173.5</td>\n",
       "      <td>244.75</td>\n",
       "      <td>593.0</td>\n",
       "    </tr>\n",
       "    <tr>\n",
       "      <th>Oostelijk Havengebied - Indische Buurt</th>\n",
       "      <td>286.0</td>\n",
       "      <td>201.230769</td>\n",
       "      <td>135.908674</td>\n",
       "      <td>43.0</td>\n",
       "      <td>124.25</td>\n",
       "      <td>173.0</td>\n",
       "      <td>250.00</td>\n",
       "      <td>1643.0</td>\n",
       "    </tr>\n",
       "    <tr>\n",
       "      <th>Osdorp</th>\n",
       "      <td>44.0</td>\n",
       "      <td>185.863636</td>\n",
       "      <td>121.248657</td>\n",
       "      <td>35.0</td>\n",
       "      <td>86.50</td>\n",
       "      <td>154.0</td>\n",
       "      <td>250.75</td>\n",
       "      <td>541.0</td>\n",
       "    </tr>\n",
       "    <tr>\n",
       "      <th>Oud-Noord</th>\n",
       "      <td>346.0</td>\n",
       "      <td>252.130058</td>\n",
       "      <td>272.541922</td>\n",
       "      <td>42.0</td>\n",
       "      <td>140.75</td>\n",
       "      <td>191.0</td>\n",
       "      <td>280.00</td>\n",
       "      <td>2647.0</td>\n",
       "    </tr>\n",
       "    <tr>\n",
       "      <th>Oud-Oost</th>\n",
       "      <td>451.0</td>\n",
       "      <td>231.206208</td>\n",
       "      <td>138.782931</td>\n",
       "      <td>51.0</td>\n",
       "      <td>149.00</td>\n",
       "      <td>200.0</td>\n",
       "      <td>275.00</td>\n",
       "      <td>1250.0</td>\n",
       "    </tr>\n",
       "    <tr>\n",
       "      <th>Slotervaart</th>\n",
       "      <td>149.0</td>\n",
       "      <td>190.322148</td>\n",
       "      <td>125.515815</td>\n",
       "      <td>42.0</td>\n",
       "      <td>100.00</td>\n",
       "      <td>169.0</td>\n",
       "      <td>250.00</td>\n",
       "      <td>900.0</td>\n",
       "    </tr>\n",
       "    <tr>\n",
       "      <th>Watergraafsmeer</th>\n",
       "      <td>231.0</td>\n",
       "      <td>234.528139</td>\n",
       "      <td>139.279162</td>\n",
       "      <td>39.0</td>\n",
       "      <td>139.00</td>\n",
       "      <td>199.0</td>\n",
       "      <td>291.50</td>\n",
       "      <td>750.0</td>\n",
       "    </tr>\n",
       "    <tr>\n",
       "      <th>Westerpark</th>\n",
       "      <td>536.0</td>\n",
       "      <td>234.792910</td>\n",
       "      <td>138.436247</td>\n",
       "      <td>45.0</td>\n",
       "      <td>149.00</td>\n",
       "      <td>200.0</td>\n",
       "      <td>295.00</td>\n",
       "      <td>1239.0</td>\n",
       "    </tr>\n",
       "    <tr>\n",
       "      <th>Zuid</th>\n",
       "      <td>510.0</td>\n",
       "      <td>281.211765</td>\n",
       "      <td>211.971729</td>\n",
       "      <td>63.0</td>\n",
       "      <td>153.25</td>\n",
       "      <td>229.5</td>\n",
       "      <td>350.00</td>\n",
       "      <td>2000.0</td>\n",
       "    </tr>\n",
       "  </tbody>\n",
       "</table>\n",
       "</div>"
      ],
      "text/plain": [
       "                                         count        mean         std   min  \\\n",
       "neighbourhood                                                                  \n",
       "Bijlmer-Centrum                           46.0  143.043478   79.737613  36.0   \n",
       "Bijlmer-Oost                              30.0  154.500000   64.907228  42.0   \n",
       "Bos en Lommer                            382.0  198.811518  111.697642  39.0   \n",
       "Buitenveldert - Zuidas                    81.0  188.432099   88.895154  50.0   \n",
       "Centrum-Oost                             730.0  308.900000  484.899904  40.0   \n",
       "Centrum-West                             969.0  303.006192  442.627446  18.0   \n",
       "De Aker - Nieuw Sloten                    62.0  241.758065  347.813201  49.0   \n",
       "De Baarsjes - Oud-West                  1260.0  245.950000  153.438896   0.0   \n",
       "De Pijp - Rivierenbuurt                  872.0  265.912844  142.951267  50.0   \n",
       "Gaasperdam - Driemond                     49.0  128.367347   69.315310  45.0   \n",
       "Geuzenveld - Slotermeer                   92.0  181.869565   88.261875  63.0   \n",
       "IJburg - Zeeburgereiland                 164.0  241.164634  228.427386  45.0   \n",
       "Noord-Oost                               120.0  184.425000  114.666316  40.0   \n",
       "Noord-West                               198.0  192.247475   98.007326  30.0   \n",
       "Oostelijk Havengebied - Indische Buurt   286.0  201.230769  135.908674  43.0   \n",
       "Osdorp                                    44.0  185.863636  121.248657  35.0   \n",
       "Oud-Noord                                346.0  252.130058  272.541922  42.0   \n",
       "Oud-Oost                                 451.0  231.206208  138.782931  51.0   \n",
       "Slotervaart                              149.0  190.322148  125.515815  42.0   \n",
       "Watergraafsmeer                          231.0  234.528139  139.279162  39.0   \n",
       "Westerpark                               536.0  234.792910  138.436247  45.0   \n",
       "Zuid                                     510.0  281.211765  211.971729  63.0   \n",
       "\n",
       "                                           25%    50%     75%      max  \n",
       "neighbourhood                                                           \n",
       "Bijlmer-Centrum                          82.75  140.0  185.00    425.0  \n",
       "Bijlmer-Oost                            116.25  150.0  198.75    325.0  \n",
       "Bos en Lommer                           125.00  180.0  243.00    889.0  \n",
       "Buitenveldert - Zuidas                  130.00  178.0  220.00    500.0  \n",
       "Centrum-Oost                            164.25  233.0  350.00  12000.0  \n",
       "Centrum-West                            165.00  240.0  350.00  10000.0  \n",
       "De Aker - Nieuw Sloten                   95.00  128.5  249.75   2450.0  \n",
       "De Baarsjes - Oud-West                  150.00  212.0  300.00   2500.0  \n",
       "De Pijp - Rivierenbuurt                 170.00  246.0  325.00   1250.0  \n",
       "Gaasperdam - Driemond                    79.00  110.0  163.00    350.0  \n",
       "Geuzenveld - Slotermeer                 113.00  165.0  226.00    491.0  \n",
       "IJburg - Zeeburgereiland                130.75  180.0  300.00   2575.0  \n",
       "Noord-Oost                              110.00  156.0  220.00    850.0  \n",
       "Noord-West                              124.25  173.5  244.75    593.0  \n",
       "Oostelijk Havengebied - Indische Buurt  124.25  173.0  250.00   1643.0  \n",
       "Osdorp                                   86.50  154.0  250.75    541.0  \n",
       "Oud-Noord                               140.75  191.0  280.00   2647.0  \n",
       "Oud-Oost                                149.00  200.0  275.00   1250.0  \n",
       "Slotervaart                             100.00  169.0  250.00    900.0  \n",
       "Watergraafsmeer                         139.00  199.0  291.50    750.0  \n",
       "Westerpark                              149.00  200.0  295.00   1239.0  \n",
       "Zuid                                    153.25  229.5  350.00   2000.0  "
      ]
     },
     "execution_count": 37,
     "metadata": {},
     "output_type": "execute_result"
    }
   ],
   "source": [
    "# Group data by neighbourhood and compute summary statistics for price\n",
    "df_cleaned.groupby('neighbourhood')['price'].describe()"
   ]
  },
  {
   "cell_type": "markdown",
   "metadata": {},
   "source": [
    "\n",
    "**Insights:**\n",
    "- The output presents summary statistics for the 'price' column across various neighborhoods.\n",
    "- The analysis of price distribution across neighborhoods reveals significant variation in average prices. Neighbourhoods like 'Centrum-Oost' and 'Centrum-West' exhibit relatively high average prices of €308.90 and €303.01, respectively, indicating these central areas are generally more expensive. On the other hand, 'Bijlmer-Centrum' and 'Bijlmer-Oost' have lower average prices of €143.04 and €154.50, suggesting more affordable options in these neighborhoods. This information can assist in understanding the pricing landscape across different parts of the city.\n",
    "\n",
    "**Implications:**\n",
    "- **Price Variability:** The standard deviation reveals the variability in prices within each neighborhood. Larger standard deviations suggest wider price ranges, while smaller values indicate more consistent pricing.\n",
    "- **Neighborhood Comparison:** By comparing median prices (50th percentile) across neighborhoods, you can get a sense of the typical price range for each area.\n",
    "- **Outliers:** The maximum values indicate the highest price observed in each neighborhood. Extremely high prices could be outliers or indicative of premium listings.\n",
    "- **Market Segmentation:** The quartiles (25th and 75th percentiles) help segment the data into different price ranges. This can aid in understanding the distribution of affordable, mid-range, and high-end properties within a neighborhood.\n",
    "\n",
    "**Recommendations:**\n",
    "- **For Potential Guests or Buyers:**\n",
    "  - Use the median price as a benchmark for the typical price range in a neighborhood.\n",
    "  - Compare the mean and median to identify if there are any neighborhoods with skewed pricing due to a few high-priced listings.\n",
    "  \n",
    "- **For Property Managers or Hosts:**\n",
    "  - Analyze the quartiles to understand the distribution of price ranges in your neighborhood. This can help you position your listing competitively.\n",
    "  - If you're offering premium properties, ensure that the pricing aligns with the premium nature of the neighborhood.\n",
    "\n",
    "- **For Decision-Makers:**\n",
    "  - The pricing insights can be useful for urban planning, economic analysis, and understanding housing affordability in different areas.\n",
    "  - For real estate professionals, this information can guide investment decisions and marketing strategies racting guests or buyers."
   ]
  },
  {
   "cell_type": "markdown",
   "metadata": {},
   "source": [
    "# room_type"
   ]
  },
  {
   "cell_type": "code",
   "execution_count": 38,
   "metadata": {},
   "outputs": [
    {
     "data": {
      "text/plain": [
       "room_type\n",
       "Shared room          43\n",
       "Hotel room           56\n",
       "Private room       1726\n",
       "Entire home/apt    5783\n",
       "Name: count, dtype: int64"
      ]
     },
     "execution_count": 38,
     "metadata": {},
     "output_type": "execute_result"
    }
   ],
   "source": [
    "room_type_count = df_cleaned['room_type'].value_counts().sort_values(ascending=True)\n",
    "room_type_count"
   ]
  },
  {
   "cell_type": "code",
   "execution_count": 39,
   "metadata": {},
   "outputs": [
    {
     "data": {
      "image/png": "[encoded data removed]",
      "text/plain": [
       "<Figure size 1500x300 with 1 Axes>"
      ]
     },
     "metadata": {},
     "output_type": "display_data"
    }
   ],
   "source": [
    "room_type_count.plot.barh(figsize=(15, 3), width=1,color = ['r', 'b', 'g', 'm'])\n",
    "plt.show()"
   ]
  },
  {
   "cell_type": "markdown",
   "metadata": {},
   "source": [
    "**Insights:**\n",
    "- The distribution of room types in the dataset shows that 'Entire home/apt' listings are the most common, while 'Shared room' listings are the least common .\n",
    "\n",
    "**Recommendations:**\n",
    "- **For Potential Guests or Buyers:**\n",
    "  - If you prioritize privacy and comfort, focus on \"Private room\" or \"Entire home/apt\" listings.\n",
    "  - For budget-conscious travelers, consider \"Shared room\" or \"Hotel room\" options.\n",
    "\n",
    "- **For Property Managers or Hosts:**\n",
    "  - Consider the popularity of \"Entire home/apt\" and \"Private room\" listings and ensure these are well-maintained.\n",
    "  - Promote unique features of \"Shared room\" or \"Hotel room\" options to attract guests seeking cost-effective accommodations.\n",
    "\n",
    "- **For Decision-Makers:**\n",
    "  - Understand the market demand for different room types to make informed decisions about property investments or development plans.\n",
    "  - Consider the mix of room types that would best cater to the diverse preferences of potential guests."
   ]
  },
  {
   "cell_type": "code",
   "execution_count": 40,
   "metadata": {},
   "outputs": [
    {
     "data": {
      "text/html": [
       "<div>\n",
       "<style scoped>\n",
       "    .dataframe tbody tr th:only-of-type {\n",
       "        vertical-align: middle;\n",
       "    }\n",
       "\n",
       "    .dataframe tbody tr th {\n",
       "        vertical-align: top;\n",
       "    }\n",
       "\n",
       "    .dataframe thead th {\n",
       "        text-align: right;\n",
       "    }\n",
       "</style>\n",
       "<table border=\"1\" class=\"dataframe\">\n",
       "  <thead>\n",
       "    <tr style=\"text-align: right;\">\n",
       "      <th></th>\n",
       "      <th>count</th>\n",
       "      <th>mean</th>\n",
       "      <th>std</th>\n",
       "      <th>min</th>\n",
       "      <th>25%</th>\n",
       "      <th>50%</th>\n",
       "      <th>75%</th>\n",
       "      <th>max</th>\n",
       "    </tr>\n",
       "    <tr>\n",
       "      <th>room_type</th>\n",
       "      <th></th>\n",
       "      <th></th>\n",
       "      <th></th>\n",
       "      <th></th>\n",
       "      <th></th>\n",
       "      <th></th>\n",
       "      <th></th>\n",
       "      <th></th>\n",
       "    </tr>\n",
       "  </thead>\n",
       "  <tbody>\n",
       "    <tr>\n",
       "      <th>Entire home/apt</th>\n",
       "      <td>5783.0</td>\n",
       "      <td>272.403251</td>\n",
       "      <td>244.698424</td>\n",
       "      <td>18.0</td>\n",
       "      <td>165.0</td>\n",
       "      <td>228.0</td>\n",
       "      <td>320.0</td>\n",
       "      <td>10000.0</td>\n",
       "    </tr>\n",
       "    <tr>\n",
       "      <th>Hotel room</th>\n",
       "      <td>56.0</td>\n",
       "      <td>240.142857</td>\n",
       "      <td>173.685654</td>\n",
       "      <td>0.0</td>\n",
       "      <td>160.0</td>\n",
       "      <td>216.5</td>\n",
       "      <td>282.5</td>\n",
       "      <td>1089.0</td>\n",
       "    </tr>\n",
       "    <tr>\n",
       "      <th>Private room</th>\n",
       "      <td>1726.0</td>\n",
       "      <td>182.154693</td>\n",
       "      <td>310.524159</td>\n",
       "      <td>30.0</td>\n",
       "      <td>101.0</td>\n",
       "      <td>146.0</td>\n",
       "      <td>209.0</td>\n",
       "      <td>12000.0</td>\n",
       "    </tr>\n",
       "    <tr>\n",
       "      <th>Shared room</th>\n",
       "      <td>43.0</td>\n",
       "      <td>161.674419</td>\n",
       "      <td>186.889797</td>\n",
       "      <td>50.0</td>\n",
       "      <td>79.0</td>\n",
       "      <td>91.0</td>\n",
       "      <td>155.5</td>\n",
       "      <td>1150.0</td>\n",
       "    </tr>\n",
       "  </tbody>\n",
       "</table>\n",
       "</div>"
      ],
      "text/plain": [
       "                  count        mean         std   min    25%    50%    75%  \\\n",
       "room_type                                                                    \n",
       "Entire home/apt  5783.0  272.403251  244.698424  18.0  165.0  228.0  320.0   \n",
       "Hotel room         56.0  240.142857  173.685654   0.0  160.0  216.5  282.5   \n",
       "Private room     1726.0  182.154693  310.524159  30.0  101.0  146.0  209.0   \n",
       "Shared room        43.0  161.674419  186.889797  50.0   79.0   91.0  155.5   \n",
       "\n",
       "                     max  \n",
       "room_type                 \n",
       "Entire home/apt  10000.0  \n",
       "Hotel room        1089.0  \n",
       "Private room     12000.0  \n",
       "Shared room       1150.0  "
      ]
     },
     "execution_count": 40,
     "metadata": {},
     "output_type": "execute_result"
    }
   ],
   "source": [
    "# Group data by room_type and compute summary statistics for price\n",
    "df_cleaned.groupby('room_type')['price'].describe()"
   ]
  },
  {
   "cell_type": "markdown",
   "metadata": {},
   "source": [
    "**Insights:**\n",
    "- The summary statistics of price across different room types reveal interesting insights. 'Entire home/apt' listings have the highest average price at €272.40, indicating that guests generally pay more for complete accommodations. 'Hotel room' listings come next with an average price of €240.14, possibly reflecting the added services associated with hotel accommodations. 'Private room' listings have an average price of €182.15, while 'Shared room' listings have the lowest average price at €161.67. These differences in average prices can help potential guests choose accommodations based on their budget and preferences.\n",
    "\n",
    "**Recommendations:**\n",
    "- **For Potential Guests or Buyers:**\n",
    "  - Depending on your budget and preferences, consider different room types. \"Entire home/apt\" and \"Hotel room\" options tend to be more expensive, while \"Private room\" and \"Shared room\" options may offer more budget-friendly choices.\n",
    "  - Use the median price to gauge the typical cost for each room type.\n",
    "\n",
    "- **For Property Managers or Hosts:**\n",
    "  - Tailor your pricing strategy for each room type based on the summary statistics and market trends.\n",
    "  - Ensure that pricing aligns with the quality of amenities and services provided for each room type.\n",
    "\n",
    "- **For Decision-Makers:**\n",
    "  - Use the insights to understand the distribution of prices across different room types, which can inform marketing strategies and investment decisions.\n",
    "  - Consider the demand for each room type and how it aligns with the target audience and market trends."
   ]
  },
  {
   "cell_type": "markdown",
   "metadata": {},
   "source": [
    "# Top Hosts by Maximum Room Type Counts"
   ]
  },
  {
   "cell_type": "code",
   "execution_count": 41,
   "metadata": {},
   "outputs": [
    {
     "data": {
      "text/html": [
       "<div>\n",
       "<style scoped>\n",
       "    .dataframe tbody tr th:only-of-type {\n",
       "        vertical-align: middle;\n",
       "    }\n",
       "\n",
       "    .dataframe tbody tr th {\n",
       "        vertical-align: top;\n",
       "    }\n",
       "\n",
       "    .dataframe thead th {\n",
       "        text-align: right;\n",
       "    }\n",
       "</style>\n",
       "<table border=\"1\" class=\"dataframe\">\n",
       "  <thead>\n",
       "    <tr style=\"text-align: right;\">\n",
       "      <th></th>\n",
       "      <th>room_type</th>\n",
       "      <th>host_id</th>\n",
       "      <th>host_name</th>\n",
       "      <th>max_count</th>\n",
       "    </tr>\n",
       "  </thead>\n",
       "  <tbody>\n",
       "    <tr>\n",
       "      <th>0</th>\n",
       "      <td>Private room</td>\n",
       "      <td>14574533</td>\n",
       "      <td>Hotel Not Hotel</td>\n",
       "      <td>21</td>\n",
       "    </tr>\n",
       "    <tr>\n",
       "      <th>1</th>\n",
       "      <td>Entire home/apt</td>\n",
       "      <td>46691672</td>\n",
       "      <td>Eva &amp; Kobe</td>\n",
       "      <td>16</td>\n",
       "    </tr>\n",
       "    <tr>\n",
       "      <th>2</th>\n",
       "      <td>Shared room</td>\n",
       "      <td>245267147</td>\n",
       "      <td>ClinkNOORD</td>\n",
       "      <td>8</td>\n",
       "    </tr>\n",
       "    <tr>\n",
       "      <th>3</th>\n",
       "      <td>Hotel room</td>\n",
       "      <td>503491020</td>\n",
       "      <td>Rosalie</td>\n",
       "      <td>6</td>\n",
       "    </tr>\n",
       "  </tbody>\n",
       "</table>\n",
       "</div>"
      ],
      "text/plain": [
       "         room_type    host_id        host_name  max_count\n",
       "0     Private room   14574533  Hotel Not Hotel         21\n",
       "1  Entire home/apt   46691672       Eva & Kobe         16\n",
       "2      Shared room  245267147       ClinkNOORD          8\n",
       "3       Hotel room  503491020          Rosalie          6"
      ]
     },
     "execution_count": 41,
     "metadata": {},
     "output_type": "execute_result"
    }
   ],
   "source": [
    "room_types = ['Shared room', 'Hotel room', 'Private room', 'Entire home/apt']\n",
    "results = []\n",
    "\n",
    "for room_type in room_types:\n",
    "    filtered_data = df_cleaned[df_cleaned['room_type'] == room_type]\n",
    "    max_count_info = filtered_data.groupby(['host_id', 'host_name']).size().reset_index(name='max_count').sort_values(by='max_count', ascending=False).iloc[0]\n",
    "    results.append({\n",
    "        'room_type': room_type,\n",
    "        'host_id': max_count_info['host_id'],\n",
    "        'host_name': max_count_info['host_name'],\n",
    "        'max_count': max_count_info['max_count']\n",
    "    })\n",
    "\n",
    "result_df = pd.DataFrame(results).sort_values(by=\"max_count\",ascending=False).reset_index(drop=True)\n",
    "result_df\n"
   ]
  },
  {
   "cell_type": "markdown",
   "metadata": {},
   "source": [
    "**Insights:**\n",
    "- Among the different room types, \"Private room\" listings from \"Hotel Not Hotel\" host, \"Entire home/apt\" listings from \"Eva & Kobe\" host, \"Shared room\" listings from \"ClinkNOORD\" host, and \"Hotel room\" listings from \"Rosalie\" host have the highest counts for their respective room types type.\n",
    "\n",
    "**Recommendations:**\n",
    "- **For Potential Guests or Buyers:**\n",
    "  - These top hosts have demonstrated a strong presence in their respective room types. Their listings might be worth considering due to their popularity and experience.\n",
    "\n",
    "- **For Property Managers or Hosts:**\n",
    "  - Consider studying the strategies of these top hosts to understand how they've achieved a high number of listings within their room type.\n",
    "\n",
    "- **For Decision-Makers:**\n",
    "  - This analysis highlights successful hosts in different room types. Consider learning from their practices when planning host training or promotional activities."
   ]
  },
  {
   "cell_type": "markdown",
   "metadata": {},
   "source": [
    "# property_type"
   ]
  },
  {
   "cell_type": "code",
   "execution_count": 42,
   "metadata": {},
   "outputs": [
    {
     "data": {
      "text/plain": [
       "property_type\n",
       "Private room in vacation home            1\n",
       "Private room in bungalow                 1\n",
       "Tower                                    1\n",
       "Shared room in home                      1\n",
       "Yurt                                     1\n",
       "Cave                                     1\n",
       "Barn                                     1\n",
       "Shared room in bed and breakfast         1\n",
       "Shared room in boat                      1\n",
       "Entire chalet                            2\n",
       "Casa particular                          2\n",
       "Private room in cabin                    2\n",
       "Private room in nature lodge             2\n",
       "Shared room in condo                     3\n",
       "Camper/RV                                3\n",
       "Entire cottage                           3\n",
       "Private room in tiny home                3\n",
       "Tent                                     3\n",
       "Shared room in houseboat                 4\n",
       "Private room in farm stay                5\n",
       "Private room in earthen home             5\n",
       "Shared room in rental unit               5\n",
       "Room in serviced apartment               6\n",
       "Tiny home                                7\n",
       "Entire cabin                             7\n",
       "Private room                             8\n",
       "Room in hostel                          11\n",
       "Entire place                            12\n",
       "Private room in guesthouse              13\n",
       "Private room in villa                   13\n",
       "Private room in casa particular         15\n",
       "Private room in serviced apartment      16\n",
       "Private room in hostel                  17\n",
       "Entire vacation home                    18\n",
       "Entire guesthouse                       20\n",
       "Room in aparthotel                      20\n",
       "Entire villa                            22\n",
       "Room in bed and breakfast               25\n",
       "Entire guest suite                      26\n",
       "Shared room in hostel                   28\n",
       "Private room in loft                    39\n",
       "Private room in boat                    46\n",
       "Private room in guest suite             83\n",
       "Entire serviced apartment               84\n",
       "Private room in townhouse               85\n",
       "Private room in houseboat               93\n",
       "Boat                                    97\n",
       "Room in boutique hotel                 102\n",
       "Room in hotel                          118\n",
       "Private room in home                   142\n",
       "Houseboat                              143\n",
       "Private room in condo                  164\n",
       "Entire loft                            194\n",
       "Entire townhouse                       228\n",
       "Private room in bed and breakfast      285\n",
       "Private room in rental unit            478\n",
       "Entire home                            561\n",
       "Entire condo                          1430\n",
       "Entire rental unit                    2901\n",
       "Name: count, dtype: int64"
      ]
     },
     "execution_count": 42,
     "metadata": {},
     "output_type": "execute_result"
    }
   ],
   "source": [
    "property_type_count = df_cleaned['property_type'].value_counts().sort_values(ascending=True)\n",
    "property_type_count"
   ]
  },
  {
   "cell_type": "code",
   "execution_count": 43,
   "metadata": {},
   "outputs": [
    {
     "data": {
      "image/png": "[encoded data removed]",
      "text/plain": [
       "<Figure size 1500x800 with 1 Axes>"
      ]
     },
     "metadata": {},
     "output_type": "display_data"
    }
   ],
   "source": [
    "prop = df_cleaned.groupby(['property_type','room_type']).room_type.count()\n",
    "prop = prop.unstack()\n",
    "prop['total'] = prop.iloc[:,0:3].sum(axis = 1)\n",
    "prop = prop.sort_values(by=['total'])\n",
    "prop = prop[prop['total']>=100]\n",
    "prop = prop.drop(columns=['total'])\n",
    "prop.plot(kind='barh',stacked=True, color = [\"r\",\"b\",\"g\",'m'],\n",
    "              linewidth = 1, grid=True, figsize=(15,8), width=1)\n",
    "plt.title('Property types in Amsterdam', fontsize=18)\n",
    "plt.xlabel('Number of listings', fontsize=14)\n",
    "plt.ylabel(\"\")\n",
    "plt.legend(loc = 4,prop = {\"size\" : 13})\n",
    "plt.rc('ytick', labelsize=13)\n",
    "plt.show()"
   ]
  },
  {
   "cell_type": "markdown",
   "metadata": {},
   "source": [
    "**Insights:**\n",
    "- The dataset has been analyzed to understand the distribution of property types based on room types.\n",
    "- Certain property types appear less frequently, while others are more common.\n",
    "- Only property types with a total count of listings equal to or exceeding 100 have been included in the analysis.\n",
    "\n",
    "**Recommendations:**\n",
    "- **For Potential Guests or Buyers:**\n",
    "  - Explore the property types that are more prevalent, as they offer a wider range of options and amenities.\n",
    "  - Consider the combination of property type and room type that aligns with your preferences.\n",
    "\n",
    "- **For Property Managers or Hosts:**\n",
    "  - Focus on popular property types to attract a larger pool of potential guests.\n",
    "  - Tailor your property descriptions to highlight unique features that cater to the preferences of your target audience.\n",
    "\n",
    "- **For Decision-Makers:**\n",
    "  - Understand which property types are in higher demand and consider strategies to support hosts in those categories.\n",
    "  - Use this information to guide property development and investment decisions, ensuring alignment with market trends."
   ]
  },
  {
   "cell_type": "code",
   "execution_count": 44,
   "metadata": {},
   "outputs": [
    {
     "data": {
      "text/html": [
       "<div>\n",
       "<style scoped>\n",
       "    .dataframe tbody tr th:only-of-type {\n",
       "        vertical-align: middle;\n",
       "    }\n",
       "\n",
       "    .dataframe tbody tr th {\n",
       "        vertical-align: top;\n",
       "    }\n",
       "\n",
       "    .dataframe thead th {\n",
       "        text-align: right;\n",
       "    }\n",
       "</style>\n",
       "<table border=\"1\" class=\"dataframe\">\n",
       "  <thead>\n",
       "    <tr style=\"text-align: right;\">\n",
       "      <th></th>\n",
       "      <th>count</th>\n",
       "      <th>mean</th>\n",
       "      <th>std</th>\n",
       "      <th>min</th>\n",
       "      <th>25%</th>\n",
       "      <th>50%</th>\n",
       "      <th>75%</th>\n",
       "      <th>max</th>\n",
       "    </tr>\n",
       "    <tr>\n",
       "      <th>property_type</th>\n",
       "      <th></th>\n",
       "      <th></th>\n",
       "      <th></th>\n",
       "      <th></th>\n",
       "      <th></th>\n",
       "      <th></th>\n",
       "      <th></th>\n",
       "      <th></th>\n",
       "    </tr>\n",
       "  </thead>\n",
       "  <tbody>\n",
       "    <tr>\n",
       "      <th>Shared room in home</th>\n",
       "      <td>1.0</td>\n",
       "      <td>50.000000</td>\n",
       "      <td>NaN</td>\n",
       "      <td>50.0</td>\n",
       "      <td>50.00</td>\n",
       "      <td>50.0</td>\n",
       "      <td>50.00</td>\n",
       "      <td>50.0</td>\n",
       "    </tr>\n",
       "    <tr>\n",
       "      <th>Barn</th>\n",
       "      <td>1.0</td>\n",
       "      <td>85.000000</td>\n",
       "      <td>NaN</td>\n",
       "      <td>85.0</td>\n",
       "      <td>85.00</td>\n",
       "      <td>85.0</td>\n",
       "      <td>85.00</td>\n",
       "      <td>85.0</td>\n",
       "    </tr>\n",
       "    <tr>\n",
       "      <th>Yurt</th>\n",
       "      <td>1.0</td>\n",
       "      <td>90.000000</td>\n",
       "      <td>NaN</td>\n",
       "      <td>90.0</td>\n",
       "      <td>90.00</td>\n",
       "      <td>90.0</td>\n",
       "      <td>90.00</td>\n",
       "      <td>90.0</td>\n",
       "    </tr>\n",
       "    <tr>\n",
       "      <th>Camper/RV</th>\n",
       "      <td>3.0</td>\n",
       "      <td>99.666667</td>\n",
       "      <td>0.577350</td>\n",
       "      <td>99.0</td>\n",
       "      <td>99.50</td>\n",
       "      <td>100.0</td>\n",
       "      <td>100.00</td>\n",
       "      <td>100.0</td>\n",
       "    </tr>\n",
       "    <tr>\n",
       "      <th>Private room in bungalow</th>\n",
       "      <td>1.0</td>\n",
       "      <td>107.000000</td>\n",
       "      <td>NaN</td>\n",
       "      <td>107.0</td>\n",
       "      <td>107.00</td>\n",
       "      <td>107.0</td>\n",
       "      <td>107.00</td>\n",
       "      <td>107.0</td>\n",
       "    </tr>\n",
       "    <tr>\n",
       "      <th>Private room in vacation home</th>\n",
       "      <td>1.0</td>\n",
       "      <td>120.000000</td>\n",
       "      <td>NaN</td>\n",
       "      <td>120.0</td>\n",
       "      <td>120.00</td>\n",
       "      <td>120.0</td>\n",
       "      <td>120.00</td>\n",
       "      <td>120.0</td>\n",
       "    </tr>\n",
       "    <tr>\n",
       "      <th>Private room in farm stay</th>\n",
       "      <td>5.0</td>\n",
       "      <td>102.800000</td>\n",
       "      <td>23.647410</td>\n",
       "      <td>87.0</td>\n",
       "      <td>87.00</td>\n",
       "      <td>87.0</td>\n",
       "      <td>113.00</td>\n",
       "      <td>140.0</td>\n",
       "    </tr>\n",
       "    <tr>\n",
       "      <th>Entire chalet</th>\n",
       "      <td>2.0</td>\n",
       "      <td>130.000000</td>\n",
       "      <td>28.284271</td>\n",
       "      <td>110.0</td>\n",
       "      <td>120.00</td>\n",
       "      <td>130.0</td>\n",
       "      <td>140.00</td>\n",
       "      <td>150.0</td>\n",
       "    </tr>\n",
       "    <tr>\n",
       "      <th>Private room in cabin</th>\n",
       "      <td>2.0</td>\n",
       "      <td>144.500000</td>\n",
       "      <td>20.506097</td>\n",
       "      <td>130.0</td>\n",
       "      <td>137.25</td>\n",
       "      <td>144.5</td>\n",
       "      <td>151.75</td>\n",
       "      <td>159.0</td>\n",
       "    </tr>\n",
       "    <tr>\n",
       "      <th>Private room in tiny home</th>\n",
       "      <td>3.0</td>\n",
       "      <td>136.666667</td>\n",
       "      <td>57.951129</td>\n",
       "      <td>70.0</td>\n",
       "      <td>117.50</td>\n",
       "      <td>165.0</td>\n",
       "      <td>170.00</td>\n",
       "      <td>175.0</td>\n",
       "    </tr>\n",
       "    <tr>\n",
       "      <th>Tent</th>\n",
       "      <td>3.0</td>\n",
       "      <td>184.000000</td>\n",
       "      <td>0.000000</td>\n",
       "      <td>184.0</td>\n",
       "      <td>184.00</td>\n",
       "      <td>184.0</td>\n",
       "      <td>184.00</td>\n",
       "      <td>184.0</td>\n",
       "    </tr>\n",
       "    <tr>\n",
       "      <th>Tiny home</th>\n",
       "      <td>7.0</td>\n",
       "      <td>148.714286</td>\n",
       "      <td>43.111152</td>\n",
       "      <td>95.0</td>\n",
       "      <td>126.00</td>\n",
       "      <td>139.0</td>\n",
       "      <td>162.50</td>\n",
       "      <td>230.0</td>\n",
       "    </tr>\n",
       "    <tr>\n",
       "      <th>Shared room in condo</th>\n",
       "      <td>3.0</td>\n",
       "      <td>208.333333</td>\n",
       "      <td>33.827996</td>\n",
       "      <td>170.0</td>\n",
       "      <td>195.50</td>\n",
       "      <td>221.0</td>\n",
       "      <td>227.50</td>\n",
       "      <td>234.0</td>\n",
       "    </tr>\n",
       "    <tr>\n",
       "      <th>Private room in earthen home</th>\n",
       "      <td>5.0</td>\n",
       "      <td>202.200000</td>\n",
       "      <td>29.777508</td>\n",
       "      <td>172.0</td>\n",
       "      <td>189.00</td>\n",
       "      <td>189.0</td>\n",
       "      <td>212.00</td>\n",
       "      <td>249.0</td>\n",
       "    </tr>\n",
       "    <tr>\n",
       "      <th>Entire cabin</th>\n",
       "      <td>7.0</td>\n",
       "      <td>147.714286</td>\n",
       "      <td>77.271630</td>\n",
       "      <td>58.0</td>\n",
       "      <td>76.50</td>\n",
       "      <td>168.0</td>\n",
       "      <td>202.50</td>\n",
       "      <td>250.0</td>\n",
       "    </tr>\n",
       "    <tr>\n",
       "      <th>Casa particular</th>\n",
       "      <td>2.0</td>\n",
       "      <td>216.000000</td>\n",
       "      <td>59.396970</td>\n",
       "      <td>174.0</td>\n",
       "      <td>195.00</td>\n",
       "      <td>216.0</td>\n",
       "      <td>237.00</td>\n",
       "      <td>258.0</td>\n",
       "    </tr>\n",
       "    <tr>\n",
       "      <th>Shared room in bed and breakfast</th>\n",
       "      <td>1.0</td>\n",
       "      <td>296.000000</td>\n",
       "      <td>NaN</td>\n",
       "      <td>296.0</td>\n",
       "      <td>296.00</td>\n",
       "      <td>296.0</td>\n",
       "      <td>296.00</td>\n",
       "      <td>296.0</td>\n",
       "    </tr>\n",
       "    <tr>\n",
       "      <th>Private room in villa</th>\n",
       "      <td>13.0</td>\n",
       "      <td>139.153846</td>\n",
       "      <td>58.196286</td>\n",
       "      <td>87.0</td>\n",
       "      <td>100.00</td>\n",
       "      <td>125.0</td>\n",
       "      <td>150.00</td>\n",
       "      <td>298.0</td>\n",
       "    </tr>\n",
       "    <tr>\n",
       "      <th>Room in hostel</th>\n",
       "      <td>11.0</td>\n",
       "      <td>161.727273</td>\n",
       "      <td>87.439226</td>\n",
       "      <td>67.0</td>\n",
       "      <td>84.50</td>\n",
       "      <td>144.0</td>\n",
       "      <td>222.00</td>\n",
       "      <td>317.0</td>\n",
       "    </tr>\n",
       "    <tr>\n",
       "      <th>Private room</th>\n",
       "      <td>8.0</td>\n",
       "      <td>155.000000</td>\n",
       "      <td>72.865826</td>\n",
       "      <td>90.0</td>\n",
       "      <td>117.75</td>\n",
       "      <td>133.0</td>\n",
       "      <td>166.25</td>\n",
       "      <td>318.0</td>\n",
       "    </tr>\n",
       "    <tr>\n",
       "      <th>Private room in casa particular</th>\n",
       "      <td>15.0</td>\n",
       "      <td>140.466667</td>\n",
       "      <td>69.545326</td>\n",
       "      <td>45.0</td>\n",
       "      <td>103.00</td>\n",
       "      <td>124.0</td>\n",
       "      <td>159.00</td>\n",
       "      <td>340.0</td>\n",
       "    </tr>\n",
       "    <tr>\n",
       "      <th>Private room in loft</th>\n",
       "      <td>39.0</td>\n",
       "      <td>153.743590</td>\n",
       "      <td>63.801798</td>\n",
       "      <td>55.0</td>\n",
       "      <td>117.00</td>\n",
       "      <td>140.0</td>\n",
       "      <td>163.50</td>\n",
       "      <td>380.0</td>\n",
       "    </tr>\n",
       "    <tr>\n",
       "      <th>Private room in townhouse</th>\n",
       "      <td>85.0</td>\n",
       "      <td>122.070588</td>\n",
       "      <td>58.975134</td>\n",
       "      <td>30.0</td>\n",
       "      <td>88.00</td>\n",
       "      <td>112.0</td>\n",
       "      <td>143.00</td>\n",
       "      <td>389.0</td>\n",
       "    </tr>\n",
       "    <tr>\n",
       "      <th>Shared room in houseboat</th>\n",
       "      <td>4.0</td>\n",
       "      <td>297.000000</td>\n",
       "      <td>81.906451</td>\n",
       "      <td>204.0</td>\n",
       "      <td>249.00</td>\n",
       "      <td>294.5</td>\n",
       "      <td>342.50</td>\n",
       "      <td>395.0</td>\n",
       "    </tr>\n",
       "    <tr>\n",
       "      <th>Cave</th>\n",
       "      <td>1.0</td>\n",
       "      <td>400.000000</td>\n",
       "      <td>NaN</td>\n",
       "      <td>400.0</td>\n",
       "      <td>400.00</td>\n",
       "      <td>400.0</td>\n",
       "      <td>400.00</td>\n",
       "      <td>400.0</td>\n",
       "    </tr>\n",
       "    <tr>\n",
       "      <th>Private room in nature lodge</th>\n",
       "      <td>2.0</td>\n",
       "      <td>283.500000</td>\n",
       "      <td>180.312229</td>\n",
       "      <td>156.0</td>\n",
       "      <td>219.75</td>\n",
       "      <td>283.5</td>\n",
       "      <td>347.25</td>\n",
       "      <td>411.0</td>\n",
       "    </tr>\n",
       "    <tr>\n",
       "      <th>Shared room in rental unit</th>\n",
       "      <td>5.0</td>\n",
       "      <td>159.600000</td>\n",
       "      <td>143.973261</td>\n",
       "      <td>75.0</td>\n",
       "      <td>80.00</td>\n",
       "      <td>110.0</td>\n",
       "      <td>118.00</td>\n",
       "      <td>415.0</td>\n",
       "    </tr>\n",
       "    <tr>\n",
       "      <th>Private room in hostel</th>\n",
       "      <td>17.0</td>\n",
       "      <td>283.882353</td>\n",
       "      <td>78.940549</td>\n",
       "      <td>203.0</td>\n",
       "      <td>220.00</td>\n",
       "      <td>261.0</td>\n",
       "      <td>321.00</td>\n",
       "      <td>453.0</td>\n",
       "    </tr>\n",
       "    <tr>\n",
       "      <th>Tower</th>\n",
       "      <td>1.0</td>\n",
       "      <td>469.000000</td>\n",
       "      <td>NaN</td>\n",
       "      <td>469.0</td>\n",
       "      <td>469.00</td>\n",
       "      <td>469.0</td>\n",
       "      <td>469.00</td>\n",
       "      <td>469.0</td>\n",
       "    </tr>\n",
       "    <tr>\n",
       "      <th>Entire guesthouse</th>\n",
       "      <td>20.0</td>\n",
       "      <td>189.000000</td>\n",
       "      <td>90.287261</td>\n",
       "      <td>82.0</td>\n",
       "      <td>137.75</td>\n",
       "      <td>162.0</td>\n",
       "      <td>206.75</td>\n",
       "      <td>471.0</td>\n",
       "    </tr>\n",
       "    <tr>\n",
       "      <th>Private room in guest suite</th>\n",
       "      <td>83.0</td>\n",
       "      <td>162.072289</td>\n",
       "      <td>81.006140</td>\n",
       "      <td>65.0</td>\n",
       "      <td>115.00</td>\n",
       "      <td>138.0</td>\n",
       "      <td>176.00</td>\n",
       "      <td>475.0</td>\n",
       "    </tr>\n",
       "    <tr>\n",
       "      <th>Shared room in boat</th>\n",
       "      <td>1.0</td>\n",
       "      <td>500.000000</td>\n",
       "      <td>NaN</td>\n",
       "      <td>500.0</td>\n",
       "      <td>500.00</td>\n",
       "      <td>500.0</td>\n",
       "      <td>500.00</td>\n",
       "      <td>500.0</td>\n",
       "    </tr>\n",
       "    <tr>\n",
       "      <th>Private room in condo</th>\n",
       "      <td>164.0</td>\n",
       "      <td>142.841463</td>\n",
       "      <td>74.101484</td>\n",
       "      <td>40.0</td>\n",
       "      <td>90.75</td>\n",
       "      <td>122.0</td>\n",
       "      <td>182.50</td>\n",
       "      <td>503.0</td>\n",
       "    </tr>\n",
       "    <tr>\n",
       "      <th>Room in bed and breakfast</th>\n",
       "      <td>25.0</td>\n",
       "      <td>228.560000</td>\n",
       "      <td>95.002667</td>\n",
       "      <td>94.0</td>\n",
       "      <td>165.00</td>\n",
       "      <td>209.0</td>\n",
       "      <td>250.00</td>\n",
       "      <td>522.0</td>\n",
       "    </tr>\n",
       "    <tr>\n",
       "      <th>Private room in houseboat</th>\n",
       "      <td>93.0</td>\n",
       "      <td>184.741935</td>\n",
       "      <td>84.313713</td>\n",
       "      <td>55.0</td>\n",
       "      <td>130.00</td>\n",
       "      <td>168.0</td>\n",
       "      <td>220.00</td>\n",
       "      <td>598.0</td>\n",
       "    </tr>\n",
       "    <tr>\n",
       "      <th>Private room in rental unit</th>\n",
       "      <td>478.0</td>\n",
       "      <td>135.656904</td>\n",
       "      <td>72.968299</td>\n",
       "      <td>35.0</td>\n",
       "      <td>89.00</td>\n",
       "      <td>118.0</td>\n",
       "      <td>160.00</td>\n",
       "      <td>633.0</td>\n",
       "    </tr>\n",
       "    <tr>\n",
       "      <th>Room in aparthotel</th>\n",
       "      <td>20.0</td>\n",
       "      <td>353.400000</td>\n",
       "      <td>160.491482</td>\n",
       "      <td>186.0</td>\n",
       "      <td>199.00</td>\n",
       "      <td>329.0</td>\n",
       "      <td>454.75</td>\n",
       "      <td>649.0</td>\n",
       "    </tr>\n",
       "    <tr>\n",
       "      <th>Entire cottage</th>\n",
       "      <td>3.0</td>\n",
       "      <td>377.666667</td>\n",
       "      <td>241.913897</td>\n",
       "      <td>218.0</td>\n",
       "      <td>238.50</td>\n",
       "      <td>259.0</td>\n",
       "      <td>457.50</td>\n",
       "      <td>656.0</td>\n",
       "    </tr>\n",
       "    <tr>\n",
       "      <th>Entire guest suite</th>\n",
       "      <td>26.0</td>\n",
       "      <td>178.269231</td>\n",
       "      <td>110.294717</td>\n",
       "      <td>90.0</td>\n",
       "      <td>135.50</td>\n",
       "      <td>161.0</td>\n",
       "      <td>181.75</td>\n",
       "      <td>675.0</td>\n",
       "    </tr>\n",
       "    <tr>\n",
       "      <th>Room in serviced apartment</th>\n",
       "      <td>6.0</td>\n",
       "      <td>315.166667</td>\n",
       "      <td>290.408276</td>\n",
       "      <td>160.0</td>\n",
       "      <td>163.00</td>\n",
       "      <td>193.5</td>\n",
       "      <td>266.75</td>\n",
       "      <td>900.0</td>\n",
       "    </tr>\n",
       "    <tr>\n",
       "      <th>Private room in home</th>\n",
       "      <td>142.0</td>\n",
       "      <td>149.021127</td>\n",
       "      <td>111.503743</td>\n",
       "      <td>50.0</td>\n",
       "      <td>95.00</td>\n",
       "      <td>124.5</td>\n",
       "      <td>163.50</td>\n",
       "      <td>999.0</td>\n",
       "    </tr>\n",
       "    <tr>\n",
       "      <th>Room in hotel</th>\n",
       "      <td>118.0</td>\n",
       "      <td>262.118644</td>\n",
       "      <td>135.100986</td>\n",
       "      <td>0.0</td>\n",
       "      <td>185.00</td>\n",
       "      <td>245.0</td>\n",
       "      <td>325.75</td>\n",
       "      <td>999.0</td>\n",
       "    </tr>\n",
       "    <tr>\n",
       "      <th>Private room in bed and breakfast</th>\n",
       "      <td>285.0</td>\n",
       "      <td>197.329825</td>\n",
       "      <td>118.691086</td>\n",
       "      <td>31.0</td>\n",
       "      <td>134.00</td>\n",
       "      <td>170.0</td>\n",
       "      <td>238.00</td>\n",
       "      <td>1000.0</td>\n",
       "    </tr>\n",
       "    <tr>\n",
       "      <th>Private room in guesthouse</th>\n",
       "      <td>13.0</td>\n",
       "      <td>222.538462</td>\n",
       "      <td>260.700216</td>\n",
       "      <td>71.0</td>\n",
       "      <td>94.00</td>\n",
       "      <td>150.0</td>\n",
       "      <td>225.00</td>\n",
       "      <td>1057.0</td>\n",
       "    </tr>\n",
       "    <tr>\n",
       "      <th>Room in boutique hotel</th>\n",
       "      <td>102.0</td>\n",
       "      <td>306.745098</td>\n",
       "      <td>142.634594</td>\n",
       "      <td>75.0</td>\n",
       "      <td>232.50</td>\n",
       "      <td>283.5</td>\n",
       "      <td>363.00</td>\n",
       "      <td>1089.0</td>\n",
       "    </tr>\n",
       "    <tr>\n",
       "      <th>Shared room in hostel</th>\n",
       "      <td>28.0</td>\n",
       "      <td>124.821429</td>\n",
       "      <td>201.735811</td>\n",
       "      <td>56.0</td>\n",
       "      <td>76.00</td>\n",
       "      <td>83.0</td>\n",
       "      <td>93.25</td>\n",
       "      <td>1150.0</td>\n",
       "    </tr>\n",
       "    <tr>\n",
       "      <th>Entire loft</th>\n",
       "      <td>194.0</td>\n",
       "      <td>308.536082</td>\n",
       "      <td>198.938143</td>\n",
       "      <td>70.0</td>\n",
       "      <td>179.25</td>\n",
       "      <td>244.0</td>\n",
       "      <td>394.00</td>\n",
       "      <td>1160.0</td>\n",
       "    </tr>\n",
       "    <tr>\n",
       "      <th>Entire place</th>\n",
       "      <td>12.0</td>\n",
       "      <td>423.250000</td>\n",
       "      <td>273.891858</td>\n",
       "      <td>157.0</td>\n",
       "      <td>272.75</td>\n",
       "      <td>401.5</td>\n",
       "      <td>491.75</td>\n",
       "      <td>1187.0</td>\n",
       "    </tr>\n",
       "    <tr>\n",
       "      <th>Entire serviced apartment</th>\n",
       "      <td>84.0</td>\n",
       "      <td>388.583333</td>\n",
       "      <td>182.855411</td>\n",
       "      <td>125.0</td>\n",
       "      <td>278.75</td>\n",
       "      <td>347.5</td>\n",
       "      <td>430.75</td>\n",
       "      <td>1222.0</td>\n",
       "    </tr>\n",
       "    <tr>\n",
       "      <th>Entire townhouse</th>\n",
       "      <td>228.0</td>\n",
       "      <td>290.881579</td>\n",
       "      <td>221.379832</td>\n",
       "      <td>18.0</td>\n",
       "      <td>190.00</td>\n",
       "      <td>250.0</td>\n",
       "      <td>300.00</td>\n",
       "      <td>1600.0</td>\n",
       "    </tr>\n",
       "    <tr>\n",
       "      <th>Houseboat</th>\n",
       "      <td>143.0</td>\n",
       "      <td>329.769231</td>\n",
       "      <td>198.979569</td>\n",
       "      <td>69.0</td>\n",
       "      <td>219.00</td>\n",
       "      <td>290.0</td>\n",
       "      <td>390.00</td>\n",
       "      <td>1790.0</td>\n",
       "    </tr>\n",
       "    <tr>\n",
       "      <th>Entire villa</th>\n",
       "      <td>22.0</td>\n",
       "      <td>535.363636</td>\n",
       "      <td>363.909401</td>\n",
       "      <td>165.0</td>\n",
       "      <td>350.00</td>\n",
       "      <td>487.0</td>\n",
       "      <td>583.75</td>\n",
       "      <td>1950.0</td>\n",
       "    </tr>\n",
       "    <tr>\n",
       "      <th>Entire vacation home</th>\n",
       "      <td>18.0</td>\n",
       "      <td>388.000000</td>\n",
       "      <td>429.857432</td>\n",
       "      <td>85.0</td>\n",
       "      <td>216.75</td>\n",
       "      <td>262.5</td>\n",
       "      <td>357.50</td>\n",
       "      <td>2000.0</td>\n",
       "    </tr>\n",
       "    <tr>\n",
       "      <th>Entire condo</th>\n",
       "      <td>1430.0</td>\n",
       "      <td>280.500699</td>\n",
       "      <td>156.645400</td>\n",
       "      <td>50.0</td>\n",
       "      <td>185.25</td>\n",
       "      <td>249.0</td>\n",
       "      <td>332.75</td>\n",
       "      <td>2000.0</td>\n",
       "    </tr>\n",
       "    <tr>\n",
       "      <th>Private room in boat</th>\n",
       "      <td>46.0</td>\n",
       "      <td>232.869565</td>\n",
       "      <td>367.230815</td>\n",
       "      <td>85.0</td>\n",
       "      <td>124.25</td>\n",
       "      <td>152.0</td>\n",
       "      <td>216.25</td>\n",
       "      <td>2575.0</td>\n",
       "    </tr>\n",
       "    <tr>\n",
       "      <th>Boat</th>\n",
       "      <td>97.0</td>\n",
       "      <td>399.567010</td>\n",
       "      <td>455.440901</td>\n",
       "      <td>66.0</td>\n",
       "      <td>200.00</td>\n",
       "      <td>260.0</td>\n",
       "      <td>399.00</td>\n",
       "      <td>2647.0</td>\n",
       "    </tr>\n",
       "    <tr>\n",
       "      <th>Entire home</th>\n",
       "      <td>561.0</td>\n",
       "      <td>321.618538</td>\n",
       "      <td>393.211730</td>\n",
       "      <td>55.0</td>\n",
       "      <td>175.00</td>\n",
       "      <td>250.0</td>\n",
       "      <td>375.00</td>\n",
       "      <td>7900.0</td>\n",
       "    </tr>\n",
       "    <tr>\n",
       "      <th>Entire rental unit</th>\n",
       "      <td>2901.0</td>\n",
       "      <td>243.064805</td>\n",
       "      <td>234.278203</td>\n",
       "      <td>18.0</td>\n",
       "      <td>150.00</td>\n",
       "      <td>200.0</td>\n",
       "      <td>295.00</td>\n",
       "      <td>10000.0</td>\n",
       "    </tr>\n",
       "    <tr>\n",
       "      <th>Private room in serviced apartment</th>\n",
       "      <td>16.0</td>\n",
       "      <td>984.125000</td>\n",
       "      <td>2944.277701</td>\n",
       "      <td>100.0</td>\n",
       "      <td>169.00</td>\n",
       "      <td>180.0</td>\n",
       "      <td>288.00</td>\n",
       "      <td>12000.0</td>\n",
       "    </tr>\n",
       "  </tbody>\n",
       "</table>\n",
       "</div>"
      ],
      "text/plain": [
       "                                     count        mean          std    min  \\\n",
       "property_type                                                                \n",
       "Shared room in home                    1.0   50.000000          NaN   50.0   \n",
       "Barn                                   1.0   85.000000          NaN   85.0   \n",
       "Yurt                                   1.0   90.000000          NaN   90.0   \n",
       "Camper/RV                              3.0   99.666667     0.577350   99.0   \n",
       "Private room in bungalow               1.0  107.000000          NaN  107.0   \n",
       "Private room in vacation home          1.0  120.000000          NaN  120.0   \n",
       "Private room in farm stay              5.0  102.800000    23.647410   87.0   \n",
       "Entire chalet                          2.0  130.000000    28.284271  110.0   \n",
       "Private room in cabin                  2.0  144.500000    20.506097  130.0   \n",
       "Private room in tiny home              3.0  136.666667    57.951129   70.0   \n",
       "Tent                                   3.0  184.000000     0.000000  184.0   \n",
       "Tiny home                              7.0  148.714286    43.111152   95.0   \n",
       "Shared room in condo                   3.0  208.333333    33.827996  170.0   \n",
       "Private room in earthen home           5.0  202.200000    29.777508  172.0   \n",
       "Entire cabin                           7.0  147.714286    77.271630   58.0   \n",
       "Casa particular                        2.0  216.000000    59.396970  174.0   \n",
       "Shared room in bed and breakfast       1.0  296.000000          NaN  296.0   \n",
       "Private room in villa                 13.0  139.153846    58.196286   87.0   \n",
       "Room in hostel                        11.0  161.727273    87.439226   67.0   \n",
       "Private room                           8.0  155.000000    72.865826   90.0   \n",
       "Private room in casa particular       15.0  140.466667    69.545326   45.0   \n",
       "Private room in loft                  39.0  153.743590    63.801798   55.0   \n",
       "Private room in townhouse             85.0  122.070588    58.975134   30.0   \n",
       "Shared room in houseboat               4.0  297.000000    81.906451  204.0   \n",
       "Cave                                   1.0  400.000000          NaN  400.0   \n",
       "Private room in nature lodge           2.0  283.500000   180.312229  156.0   \n",
       "Shared room in rental unit             5.0  159.600000   143.973261   75.0   \n",
       "Private room in hostel                17.0  283.882353    78.940549  203.0   \n",
       "Tower                                  1.0  469.000000          NaN  469.0   \n",
       "Entire guesthouse                     20.0  189.000000    90.287261   82.0   \n",
       "Private room in guest suite           83.0  162.072289    81.006140   65.0   \n",
       "Shared room in boat                    1.0  500.000000          NaN  500.0   \n",
       "Private room in condo                164.0  142.841463    74.101484   40.0   \n",
       "Room in bed and breakfast             25.0  228.560000    95.002667   94.0   \n",
       "Private room in houseboat             93.0  184.741935    84.313713   55.0   \n",
       "Private room in rental unit          478.0  135.656904    72.968299   35.0   \n",
       "Room in aparthotel                    20.0  353.400000   160.491482  186.0   \n",
       "Entire cottage                         3.0  377.666667   241.913897  218.0   \n",
       "Entire guest suite                    26.0  178.269231   110.294717   90.0   \n",
       "Room in serviced apartment             6.0  315.166667   290.408276  160.0   \n",
       "Private room in home                 142.0  149.021127   111.503743   50.0   \n",
       "Room in hotel                        118.0  262.118644   135.100986    0.0   \n",
       "Private room in bed and breakfast    285.0  197.329825   118.691086   31.0   \n",
       "Private room in guesthouse            13.0  222.538462   260.700216   71.0   \n",
       "Room in boutique hotel               102.0  306.745098   142.634594   75.0   \n",
       "Shared room in hostel                 28.0  124.821429   201.735811   56.0   \n",
       "Entire loft                          194.0  308.536082   198.938143   70.0   \n",
       "Entire place                          12.0  423.250000   273.891858  157.0   \n",
       "Entire serviced apartment             84.0  388.583333   182.855411  125.0   \n",
       "Entire townhouse                     228.0  290.881579   221.379832   18.0   \n",
       "Houseboat                            143.0  329.769231   198.979569   69.0   \n",
       "Entire villa                          22.0  535.363636   363.909401  165.0   \n",
       "Entire vacation home                  18.0  388.000000   429.857432   85.0   \n",
       "Entire condo                        1430.0  280.500699   156.645400   50.0   \n",
       "Private room in boat                  46.0  232.869565   367.230815   85.0   \n",
       "Boat                                  97.0  399.567010   455.440901   66.0   \n",
       "Entire home                          561.0  321.618538   393.211730   55.0   \n",
       "Entire rental unit                  2901.0  243.064805   234.278203   18.0   \n",
       "Private room in serviced apartment    16.0  984.125000  2944.277701  100.0   \n",
       "\n",
       "                                       25%    50%     75%      max  \n",
       "property_type                                                       \n",
       "Shared room in home                  50.00   50.0   50.00     50.0  \n",
       "Barn                                 85.00   85.0   85.00     85.0  \n",
       "Yurt                                 90.00   90.0   90.00     90.0  \n",
       "Camper/RV                            99.50  100.0  100.00    100.0  \n",
       "Private room in bungalow            107.00  107.0  107.00    107.0  \n",
       "Private room in vacation home       120.00  120.0  120.00    120.0  \n",
       "Private room in farm stay            87.00   87.0  113.00    140.0  \n",
       "Entire chalet                       120.00  130.0  140.00    150.0  \n",
       "Private room in cabin               137.25  144.5  151.75    159.0  \n",
       "Private room in tiny home           117.50  165.0  170.00    175.0  \n",
       "Tent                                184.00  184.0  184.00    184.0  \n",
       "Tiny home                           126.00  139.0  162.50    230.0  \n",
       "Shared room in condo                195.50  221.0  227.50    234.0  \n",
       "Private room in earthen home        189.00  189.0  212.00    249.0  \n",
       "Entire cabin                         76.50  168.0  202.50    250.0  \n",
       "Casa particular                     195.00  216.0  237.00    258.0  \n",
       "Shared room in bed and breakfast    296.00  296.0  296.00    296.0  \n",
       "Private room in villa               100.00  125.0  150.00    298.0  \n",
       "Room in hostel                       84.50  144.0  222.00    317.0  \n",
       "Private room                        117.75  133.0  166.25    318.0  \n",
       "Private room in casa particular     103.00  124.0  159.00    340.0  \n",
       "Private room in loft                117.00  140.0  163.50    380.0  \n",
       "Private room in townhouse            88.00  112.0  143.00    389.0  \n",
       "Shared room in houseboat            249.00  294.5  342.50    395.0  \n",
       "Cave                                400.00  400.0  400.00    400.0  \n",
       "Private room in nature lodge        219.75  283.5  347.25    411.0  \n",
       "Shared room in rental unit           80.00  110.0  118.00    415.0  \n",
       "Private room in hostel              220.00  261.0  321.00    453.0  \n",
       "Tower                               469.00  469.0  469.00    469.0  \n",
       "Entire guesthouse                   137.75  162.0  206.75    471.0  \n",
       "Private room in guest suite         115.00  138.0  176.00    475.0  \n",
       "Shared room in boat                 500.00  500.0  500.00    500.0  \n",
       "Private room in condo                90.75  122.0  182.50    503.0  \n",
       "Room in bed and breakfast           165.00  209.0  250.00    522.0  \n",
       "Private room in houseboat           130.00  168.0  220.00    598.0  \n",
       "Private room in rental unit          89.00  118.0  160.00    633.0  \n",
       "Room in aparthotel                  199.00  329.0  454.75    649.0  \n",
       "Entire cottage                      238.50  259.0  457.50    656.0  \n",
       "Entire guest suite                  135.50  161.0  181.75    675.0  \n",
       "Room in serviced apartment          163.00  193.5  266.75    900.0  \n",
       "Private room in home                 95.00  124.5  163.50    999.0  \n",
       "Room in hotel                       185.00  245.0  325.75    999.0  \n",
       "Private room in bed and breakfast   134.00  170.0  238.00   1000.0  \n",
       "Private room in guesthouse           94.00  150.0  225.00   1057.0  \n",
       "Room in boutique hotel              232.50  283.5  363.00   1089.0  \n",
       "Shared room in hostel                76.00   83.0   93.25   1150.0  \n",
       "Entire loft                         179.25  244.0  394.00   1160.0  \n",
       "Entire place                        272.75  401.5  491.75   1187.0  \n",
       "Entire serviced apartment           278.75  347.5  430.75   1222.0  \n",
       "Entire townhouse                    190.00  250.0  300.00   1600.0  \n",
       "Houseboat                           219.00  290.0  390.00   1790.0  \n",
       "Entire villa                        350.00  487.0  583.75   1950.0  \n",
       "Entire vacation home                216.75  262.5  357.50   2000.0  \n",
       "Entire condo                        185.25  249.0  332.75   2000.0  \n",
       "Private room in boat                124.25  152.0  216.25   2575.0  \n",
       "Boat                                200.00  260.0  399.00   2647.0  \n",
       "Entire home                         175.00  250.0  375.00   7900.0  \n",
       "Entire rental unit                  150.00  200.0  295.00  10000.0  \n",
       "Private room in serviced apartment  169.00  180.0  288.00  12000.0  "
      ]
     },
     "execution_count": 44,
     "metadata": {},
     "output_type": "execute_result"
    }
   ],
   "source": [
    "# Group data by property_type and compute summary statistics for price\n",
    "df_cleaned.groupby('property_type')['price'].describe().sort_values(by='max')"
   ]
  },
  {
   "cell_type": "markdown",
   "metadata": {},
   "source": [
    "**Insights:**\n",
    "- The dataset has been grouped by property types, and summary statistics for the 'price' column have been calculated for each property type.\n",
    "- The summary statistics of price across different property types reveal a wide range of pricing patterns. Property types like 'Shared room in home,' 'Barn,' 'Yurt,' and 'Camper/RV' show relatively lower prices, indicating potentially budget-friendly options. On the other hand, property types such as 'Private room in serviced apartment,' 'Entire home,' and 'Entire rental unit' exhibit higher average prices, which could indicate more luxurious or spacious accommodations. This analysis provides a glimpse into the price ranges associated with various property types, aiding guests in selecting accommodations that align with their budget and preferences.\n",
    "\n",
    "**Recommendations:**\n",
    "- **For Potential Guests or Buyers:**\n",
    "  - Use the summary statistics to understand the price distribution for each property type.\n",
    "  - Consider the median price to get a better idea of the typical cost within each property type.\n",
    "\n",
    "- **For Property Managers or Hosts:**\n",
    "  - Align your pricing strategy with the average price range for each property type.\n",
    "  - Be cautious with property types that have high standard deviations, as they might have a wider range of pricing expectations.\n",
    "\n",
    "- **For Decision-Makers:**\n",
    "  - Use these insights to assess the profitability of different property types and guide pricing strategies.\n",
    "  - Consider property types with high average prices and lower standard deviations as they may offer more stable revenue streams."
   ]
  },
  {
   "cell_type": "markdown",
   "metadata": {},
   "source": [
    "# Accommodates (number of people)"
   ]
  },
  {
   "cell_type": "code",
   "execution_count": 45,
   "metadata": {},
   "outputs": [
    {
     "data": {
      "text/plain": [
       "accommodates\n",
       "2     4051\n",
       "4     2447\n",
       "3      581\n",
       "1      181\n",
       "6      137\n",
       "5      131\n",
       "7       24\n",
       "8       22\n",
       "16      16\n",
       "12      10\n",
       "14       3\n",
       "10       3\n",
       "9        2\n",
       "Name: count, dtype: int64"
      ]
     },
     "execution_count": 45,
     "metadata": {},
     "output_type": "execute_result"
    }
   ],
   "source": [
    "accommodates_count = df_cleaned['accommodates'].value_counts().sort_values(ascending=False)\n",
    "accommodates_count"
   ]
  },
  {
   "cell_type": "code",
   "execution_count": 46,
   "metadata": {},
   "outputs": [
    {
     "data": {
      "image/png": "[encoded data removed]",
      "text/plain": [
       "<Figure size 1000x800 with 1 Axes>"
      ]
     },
     "metadata": {},
     "output_type": "display_data"
    }
   ],
   "source": [
    "accommodates_count.plot.bar(figsize=(10, 8), color='b', width=1, rot=0)\n",
    "plt.title(\"Accommodates (number of people)\", fontsize=20)\n",
    "plt.ylabel('Number of listings', fontsize=12)\n",
    "plt.xlabel('Accommodates', fontsize=12)\n",
    "plt.show()"
   ]
  },
  {
   "cell_type": "markdown",
   "metadata": {},
   "source": [
    "**Insights:**\n",
    "- The analysis focuses on the distribution of property listings based on their accommodation capacity.\n",
    "- The majority of listings can accommodate 2 to 4 people, with lower counts for higher capacities.\n",
    "- The graph provides insight into the typical capacity of accommodations available in the dataset, helping travelers select options that suit their group size.\n",
    "\n",
    "**Recommendations:**\n",
    "- **For Property Managers and Hosts:**\n",
    "  - Consider the demand for accommodations catering to 2 to 4 people, as they represent the majority of bookings.\n",
    "  - For properties with higher capacities (e.g., 7-16 people), tailor your marketing to attract larger groups or families.\n",
    "\n",
    "- **For Decision-Makers and Investors:**\n",
    "  - Understand the distribution of accommodation capacities to identify potential gaps in the market.\n",
    "  - Focus on property types and designs that align with the prevalent accommodation capacities to optimize occupancy rates.\n",
    "\n",
    "- **For Potential Guests or Buyers:**\n",
    "  - Evaluate the accommodation capacity that suits your group size when browsing listings.\n",
    "  - Note the higher availability of accommodations for 2 to 4 people, ensuring you have a range of options."
   ]
  },
  {
   "cell_type": "markdown",
   "metadata": {},
   "source": [
    "# Average daily price per neighbourhood"
   ]
  },
  {
   "cell_type": "code",
   "execution_count": 47,
   "metadata": {},
   "outputs": [
    {
     "data": {
      "text/plain": [
       "neighbourhood\n",
       "Bijlmer-Centrum                            94.666667\n",
       "Gaasperdam - Driemond                     103.384615\n",
       "Osdorp                                    111.090909\n",
       "Bijlmer-Oost                              117.750000\n",
       "Noord-Oost                                121.862069\n",
       "IJburg - Zeeburgereiland                  127.897959\n",
       "Geuzenveld - Slotermeer                   128.812500\n",
       "Noord-West                                134.564516\n",
       "Slotervaart                               151.129870\n",
       "Watergraafsmeer                           156.533333\n",
       "De Aker - Nieuw Sloten                    156.903226\n",
       "Buitenveldert - Zuidas                    157.431818\n",
       "Bos en Lommer                             159.140000\n",
       "Oostelijk Havengebied - Indische Buurt    161.070588\n",
       "Oud-Oost                                  185.312000\n",
       "Westerpark                                189.968300\n",
       "Oud-Noord                                 190.838235\n",
       "De Baarsjes - Oud-West                    201.362398\n",
       "Zuid                                      213.939394\n",
       "De Pijp - Rivierenbuurt                   214.723044\n",
       "Centrum-Oost                              224.756892\n",
       "Centrum-West                              237.487047\n",
       "Name: price, dtype: float64"
      ]
     },
     "execution_count": 47,
     "metadata": {},
     "output_type": "execute_result"
    }
   ],
   "source": [
    "avg_accommodates = df_cleaned[df_cleaned['accommodates']==2]\n",
    "avg_accommodates = avg_accommodates.groupby('neighbourhood')['price'].mean().sort_values(ascending=True)\n",
    "avg_accommodates"
   ]
  },
  {
   "cell_type": "code",
   "execution_count": 48,
   "metadata": {},
   "outputs": [
    {
     "data": {
      "image/png": "[encoded data removed]",
      "text/plain": [
       "<Figure size 1000x800 with 1 Axes>"
      ]
     },
     "metadata": {},
     "output_type": "display_data"
    }
   ],
   "source": [
    "avg_accommodates.plot.barh(figsize=(10, 8), color='b', width=1)\n",
    "plt.title(\"Average daily price for a 2-persons accommodation\", fontsize=20)\n",
    "plt.xlabel('Average daily price (Euro)', fontsize=12)\n",
    "plt.ylabel(\"\")\n",
    "plt.show()"
   ]
  },
  {
   "cell_type": "markdown",
   "metadata": {},
   "source": [
    "**Insights:**\n",
    "- The analysis focuses on properties that can accommodate 2 people and explores the average prices across different neighborhoods.\n",
    "- The analysis of average prices for accommodations that can accommodate 2 people reveals variations across different neighborhoods. Among the analyzed neighborhoods, 'Bijlmer-Centrum' has the lowest average price at €94.67, making it relatively more affordable for couples or solo travelers. On the other hand, 'Centrum-West' and 'Centrum-Oost' have higher average prices at €237.49 and €224.76 respectively, suggesting that these central areas are associated with higher costs for accommodations suited for two people. This analysis provides insights into the pricing landscape for couples or individual travelers across various neighborhoods in Amsterdam.\n",
    "\n",
    "**Recommendations:**\n",
    "- **For Property Managers and Hosts:**\n",
    "  - In neighborhoods with lower average prices, focus on value-driven marketing to attract budget-conscious travelers.\n",
    "  - In higher-priced neighborhoods, emphasize unique features and amenities to justify the higher cost.\n",
    "\n",
    "- **For Decision-Makers and Investors:**\n",
    "  - Use the average price data to gain insights into the affordability of 2-person accommodations in different neighborhoods.\n",
    "  - Consider market demand and competition when making investment decisions in specific neighborhoods.\n",
    "\n",
    "- **For Potential Guests or Buyers:**\n",
    "  - Compare the average prices in different neighborhoods to find accommodations that fit your budget and preferences.\n",
    "  - Take note of the range in prices, which might reflect varying amenities and location factors."
   ]
  },
  {
   "cell_type": "markdown",
   "metadata": {},
   "source": [
    "# Average review per neighbourhood (at least 10 reviews)"
   ]
  },
  {
   "cell_type": "code",
   "execution_count": 49,
   "metadata": {},
   "outputs": [
    {
     "data": {
      "text/plain": [
       "neighbourhood\n",
       "Gaasperdam - Driemond                     4.433077\n",
       "Bijlmer-Oost                              4.457333\n",
       "Osdorp                                    4.500000\n",
       "Bijlmer-Centrum                           4.531429\n",
       "Geuzenveld - Slotermeer                   4.538500\n",
       "Slotervaart                               4.555538\n",
       "Buitenveldert - Zuidas                    4.559211\n",
       "Noord-West                                4.568673\n",
       "Bos en Lommer                             4.592442\n",
       "De Aker - Nieuw Sloten                    4.595185\n",
       "Noord-Oost                                4.646567\n",
       "Oud-Noord                                 4.655491\n",
       "Watergraafsmeer                           4.693909\n",
       "Oostelijk Havengebied - Indische Buurt    4.712353\n",
       "IJburg - Zeeburgereiland                  4.737826\n",
       "Westerpark                                4.763846\n",
       "Oud-Oost                                  4.766681\n",
       "De Baarsjes - Oud-West                    4.792700\n",
       "Zuid                                      4.802772\n",
       "De Pijp - Rivierenbuurt                   4.854227\n",
       "Centrum-Oost                              4.883341\n",
       "Centrum-West                              4.923387\n",
       "Name: review_scores_location, dtype: float64"
      ]
     },
     "execution_count": 49,
     "metadata": {},
     "output_type": "execute_result"
    }
   ],
   "source": [
    "avg_reviews = df_cleaned[df_cleaned['number_of_reviews']>=10]\n",
    "avg_reviews = avg_reviews.groupby('neighbourhood')['review_scores_location'].mean().sort_values(ascending=True)\n",
    "avg_reviews"
   ]
  },
  {
   "cell_type": "code",
   "execution_count": 50,
   "metadata": {},
   "outputs": [
    {
     "data": {
      "image/png": "[encoded data removed]",
      "text/plain": [
       "<Figure size 1000x800 with 1 Axes>"
      ]
     },
     "metadata": {},
     "output_type": "display_data"
    }
   ],
   "source": [
    "avg_reviews.plot.barh(figsize=(10, 8), color='b', width=1)\n",
    "plt.title(\"Average review score location (at least 10 reviews)\", fontsize=20)\n",
    "plt.xlabel('Score (scale 1-5)', fontsize=12)\n",
    "plt.ylabel(\"\")\n",
    "plt.show()"
   ]
  },
  {
   "cell_type": "markdown",
   "metadata": {},
   "source": [
    "**Insights:**\n",
    "- The analysis focuses on properties with a substantial number of reviews (10 or more) and examines the average review scores for location across different neighborhoods.\n",
    "- The analysis of average review scores for the location of listings with 10 or more reviews reveals varying satisfaction levels across different neighborhoods. Among the neighborhoods analyzed, 'Gaasperdam - Driemond' has the lowest average review score for location at approximately 4.43, while 'Centrum-West' boasts the highest average score at around 4.92. These scores reflect the perceived location quality of accommodations within each neighborhood as rated by guests who have left at least 10 reviews. This analysis provides insights into how different neighborhoods are perceived in terms of their convenient and desirable locations for guests.\n",
    "\n",
    "**Recommendations:**\n",
    "- **For Property Managers and Hosts:**\n",
    "  - In neighborhoods with lower average location review scores, consider addressing any concerns or improving the neighborhood experience for guests.\n",
    "  - Leverage positive aspects of neighborhoods with higher average scores in your marketing efforts.\n",
    "\n",
    "- **For Decision-Makers and Investors:**\n",
    "  - Use average location review scores as a proxy for the overall guest experience within specific neighborhoods.\n",
    "  - Prioritize neighborhoods with higher average scores to ensure positive guest feedback and satisfaction.\n",
    "\n",
    "- **For Potential Guests or Buyers:**\n",
    "  - Review the average location review scores for neighborhoods to assess whether they align with your preferences and expectations.\n",
    "  - Keep in mind that higher average scores suggest better guest satisfaction with the neighborhood."
   ]
  },
  {
   "cell_type": "markdown",
   "metadata": {},
   "source": [
    "# Exploring Superhost Status"
   ]
  },
  {
   "cell_type": "code",
   "execution_count": 51,
   "metadata": {},
   "outputs": [
    {
     "data": {
      "image/png": "[encoded data removed]",
      "text/plain": [
       "<Figure size 1000x800 with 1 Axes>"
      ]
     },
     "metadata": {},
     "output_type": "display_data"
    }
   ],
   "source": [
    "feq=df_cleaned['host_is_superhost'].value_counts()\n",
    "feq.plot.bar(figsize=(10, 8), width=1, rot=0)\n",
    "plt.title(\"Number of listings with Superhost\", fontsize=20)\n",
    "plt.ylabel('Number of listings', fontsize=12)\n",
    "plt.show()"
   ]
  },
  {
   "cell_type": "markdown",
   "metadata": {},
   "source": [
    "From Airbnb:\n",
    "\n",
    "As a Superhost, you’ll have more visibility, earning potential, and exclusive rewards. It's our way of saying thank you for your outstanding hospitality.\n",
    "How to become a Superhost: Every 3 months, we check if you meet the following criteria. If you do, you'll earn or keep your Superhost status.\n",
    "Superhosts have a 4.8 or higher average overall rating based on reviews from at least 50% of their Airbnb guests in the past year.\n",
    "Superhosts have hosted at least 10 stays in the past year or, if they host longer-term reservations, 100 nights over at least 3 stays.\n",
    "Superhosts have no cancellations in the past year, unless there were extenuating circumstances.\n",
    "Superhosts respond to 90% of new messages within 24 hours.\n",
    "\n",
    "**Insights:**\n",
    "- The analysis examines the distribution of listings based on whether the host is a superhost or not.\n",
    "- we can see that only a small portion of the listings in Amsterdam do have a host who is Superhost.The majority of listings are hosted by non-superhosts.\n",
    "\n",
    "**Recommendations:**\n",
    "- **For Property Managers and Hosts:**\n",
    "  - If you are not already a superhost, consider the requirements and benefits of becoming one to potentially attract more guests.\n",
    "  - Highlight superhost status in your listings to increase guest confidence and bookings.\n",
    "\n",
    "- **For Decision-Makers and Investors:**\n",
    "  - Understand the prevalence of superhosts in the market to gauge the level of competition and guest expectations.\n",
    "  - Consider the potential advantages of investing in properties hosted by superhosts.\n",
    "\n",
    "- **For Potential Guests or Buyers:**\n",
    "  - Recognize that superhost status signifies a track record of excellent hosting and guest satisfaction.\n",
    "  - Use superhost status as a factor in your decision-making process when choosing accommodations."
   ]
  },
  {
   "cell_type": "markdown",
   "metadata": {},
   "source": [
    "# Booking Considerations based on Host Responses and Reviews"
   ]
  },
  {
   "cell_type": "code",
   "execution_count": 52,
   "metadata": {},
   "outputs": [
    {
     "data": {
      "image/png": "[encoded data removed]",
      "text/plain": [
       "<Figure size 2000x1000 with 2 Axes>"
      ]
     },
     "metadata": {},
     "output_type": "display_data"
    }
   ],
   "source": [
    "fig, (ax1, ax2) = plt.subplots(1, 2, figsize=(20, 10))\n",
    "\n",
    "feq1 = df_cleaned['host_response_rate'].dropna()\n",
    "ax1.hist(feq1)\n",
    "ax1.set_title(\"Response rate (at least 10 reviews)\", fontsize=20)\n",
    "ax1.set_ylabel(\"number of listings\")\n",
    "ax1.set_xlabel(\"percent\", fontsize=20)\n",
    "ax1.tick_params(labelsize=16)\n",
    "\n",
    "feq2 = df_cleaned['host_response_time'].value_counts()\n",
    "feq2.plot.bar(ax=ax2, color='b', width=1, rot=45)\n",
    "ax2.set_title(\"Response time (at least 10 reviews)\", fontsize=20)\n",
    "ax2.set_ylabel(\"number of listings\")\n",
    "ax2.tick_params(labelsize=16)\n",
    "\n",
    "plt.tight_layout()\n",
    "plt.show()\n"
   ]
  },
  {
   "cell_type": "markdown",
   "metadata": {},
   "source": [
    "**Insights:**\n",
    "- The analysis examines host response rates and response times for properties with at least 10 reviews.\n",
    "- If I were to book accomomodation, I would not necessarily look for a superhost. Actually, I would be afraid that I would pay too much as superhost will likely increase their prices. However, I would also not want to host that responds badly, or cancels a lot.\n",
    "As we can see, over 4,000 of the listings have at least 10 reviews and respond to at least 90% of the new messages. I would consider those hosts \"proven\" good responders (which does not mean that a listing with less than 10 reviews cannot have good responding hosts; it is just not proven ). Also, there are very few listings with hosts not replying to new messages within 24 hours.\n",
    "\n",
    "**Recommendations:**\n",
    "- **For Property Managers and Hosts:**\n",
    "  - Ensure prompt responses to guest inquiries, as it significantly influences guest satisfaction and booking rates.\n",
    "  - Consider setting up automated responses to acknowledge guest inquiries even if a detailed response will follow.\n",
    "\n",
    "- **For Decision-Makers and Investors:**\n",
    "  - Recognize that quick response times positively impact guest experience and property performance.\n",
    "  - Consider incorporating response rates and times as criteria when evaluating potential hosts or properties.\n",
    "\n",
    "- **For Potential Guests or Buyers:**\n",
    "  - Prioritize properties with hosts who have high response rates and quick response times for a smoother booking experience.\n",
    "  - Use host response indicators as part of your decision-making process when selecting accommodations."
   ]
  },
  {
   "cell_type": "markdown",
   "metadata": {},
   "source": [
    "# Availability over time"
   ]
  },
  {
   "cell_type": "code",
   "execution_count": 53,
   "metadata": {},
   "outputs": [
    {
     "data": {
      "text/html": [
       "<div>\n",
       "<style scoped>\n",
       "    .dataframe tbody tr th:only-of-type {\n",
       "        vertical-align: middle;\n",
       "    }\n",
       "\n",
       "    .dataframe tbody tr th {\n",
       "        vertical-align: top;\n",
       "    }\n",
       "\n",
       "    .dataframe thead th {\n",
       "        text-align: right;\n",
       "    }\n",
       "</style>\n",
       "<table border=\"1\" class=\"dataframe\">\n",
       "  <thead>\n",
       "    <tr style=\"text-align: right;\">\n",
       "      <th></th>\n",
       "      <th>date</th>\n",
       "      <th>available</th>\n",
       "      <th>price</th>\n",
       "      <th>adjusted_price</th>\n",
       "      <th>minimum_nights</th>\n",
       "      <th>maximum_nights</th>\n",
       "    </tr>\n",
       "    <tr>\n",
       "      <th>listing_id</th>\n",
       "      <th></th>\n",
       "      <th></th>\n",
       "      <th></th>\n",
       "      <th></th>\n",
       "      <th></th>\n",
       "      <th></th>\n",
       "    </tr>\n",
       "  </thead>\n",
       "  <tbody>\n",
       "    <tr>\n",
       "      <th>2818</th>\n",
       "      <td>2023-06-05</td>\n",
       "      <td>f</td>\n",
       "      <td>69.0</td>\n",
       "      <td>$69.00</td>\n",
       "      <td>3.0</td>\n",
       "      <td>1125.0</td>\n",
       "    </tr>\n",
       "    <tr>\n",
       "      <th>2818</th>\n",
       "      <td>2023-06-06</td>\n",
       "      <td>f</td>\n",
       "      <td>69.0</td>\n",
       "      <td>$69.00</td>\n",
       "      <td>3.0</td>\n",
       "      <td>1125.0</td>\n",
       "    </tr>\n",
       "    <tr>\n",
       "      <th>2818</th>\n",
       "      <td>2023-06-07</td>\n",
       "      <td>f</td>\n",
       "      <td>69.0</td>\n",
       "      <td>$69.00</td>\n",
       "      <td>3.0</td>\n",
       "      <td>1125.0</td>\n",
       "    </tr>\n",
       "    <tr>\n",
       "      <th>2818</th>\n",
       "      <td>2023-06-08</td>\n",
       "      <td>f</td>\n",
       "      <td>69.0</td>\n",
       "      <td>$69.00</td>\n",
       "      <td>3.0</td>\n",
       "      <td>1125.0</td>\n",
       "    </tr>\n",
       "    <tr>\n",
       "      <th>2818</th>\n",
       "      <td>2023-06-09</td>\n",
       "      <td>f</td>\n",
       "      <td>69.0</td>\n",
       "      <td>$69.00</td>\n",
       "      <td>3.0</td>\n",
       "      <td>1125.0</td>\n",
       "    </tr>\n",
       "    <tr>\n",
       "      <th>...</th>\n",
       "      <td>...</td>\n",
       "      <td>...</td>\n",
       "      <td>...</td>\n",
       "      <td>...</td>\n",
       "      <td>...</td>\n",
       "      <td>...</td>\n",
       "    </tr>\n",
       "    <tr>\n",
       "      <th>137026</th>\n",
       "      <td>2024-05-31</td>\n",
       "      <td>t</td>\n",
       "      <td>301.0</td>\n",
       "      <td>$301.00</td>\n",
       "      <td>2.0</td>\n",
       "      <td>1125.0</td>\n",
       "    </tr>\n",
       "    <tr>\n",
       "      <th>137026</th>\n",
       "      <td>2024-06-01</td>\n",
       "      <td>t</td>\n",
       "      <td>301.0</td>\n",
       "      <td>$301.00</td>\n",
       "      <td>2.0</td>\n",
       "      <td>1125.0</td>\n",
       "    </tr>\n",
       "    <tr>\n",
       "      <th>137026</th>\n",
       "      <td>2024-06-02</td>\n",
       "      <td>t</td>\n",
       "      <td>301.0</td>\n",
       "      <td>$301.00</td>\n",
       "      <td>2.0</td>\n",
       "      <td>1125.0</td>\n",
       "    </tr>\n",
       "    <tr>\n",
       "      <th>137026</th>\n",
       "      <td>2024-06-03</td>\n",
       "      <td>t</td>\n",
       "      <td>297.0</td>\n",
       "      <td>$297.00</td>\n",
       "      <td>2.0</td>\n",
       "      <td>1125.0</td>\n",
       "    </tr>\n",
       "    <tr>\n",
       "      <th>137026</th>\n",
       "      <td>2024-06-04</td>\n",
       "      <td>t</td>\n",
       "      <td>297.0</td>\n",
       "      <td>$297.00</td>\n",
       "      <td>2.0</td>\n",
       "      <td>1125.0</td>\n",
       "    </tr>\n",
       "  </tbody>\n",
       "</table>\n",
       "<p>2776565 rows × 6 columns</p>\n",
       "</div>"
      ],
      "text/plain": [
       "                 date available  price adjusted_price  minimum_nights  \\\n",
       "listing_id                                                              \n",
       "2818       2023-06-05         f   69.0         $69.00             3.0   \n",
       "2818       2023-06-06         f   69.0         $69.00             3.0   \n",
       "2818       2023-06-07         f   69.0         $69.00             3.0   \n",
       "2818       2023-06-08         f   69.0         $69.00             3.0   \n",
       "2818       2023-06-09         f   69.0         $69.00             3.0   \n",
       "...               ...       ...    ...            ...             ...   \n",
       "137026     2024-05-31         t  301.0        $301.00             2.0   \n",
       "137026     2024-06-01         t  301.0        $301.00             2.0   \n",
       "137026     2024-06-02         t  301.0        $301.00             2.0   \n",
       "137026     2024-06-03         t  297.0        $297.00             2.0   \n",
       "137026     2024-06-04         t  297.0        $297.00             2.0   \n",
       "\n",
       "            maximum_nights  \n",
       "listing_id                  \n",
       "2818                1125.0  \n",
       "2818                1125.0  \n",
       "2818                1125.0  \n",
       "2818                1125.0  \n",
       "2818                1125.0  \n",
       "...                    ...  \n",
       "137026              1125.0  \n",
       "137026              1125.0  \n",
       "137026              1125.0  \n",
       "137026              1125.0  \n",
       "137026              1125.0  \n",
       "\n",
       "[2776565 rows x 6 columns]"
      ]
     },
     "execution_count": 53,
     "metadata": {},
     "output_type": "execute_result"
    }
   ],
   "source": [
    "calendar.price = calendar.price.str.replace(\",\",\"\")\n",
    "calendar['price'] = pd.to_numeric(calendar['price'].str.strip('$'))\n",
    "calendar"
   ]
  },
  {
   "cell_type": "code",
   "execution_count": 54,
   "metadata": {},
   "outputs": [
    {
     "data": {
      "text/html": [
       "<div>\n",
       "<style scoped>\n",
       "    .dataframe tbody tr th:only-of-type {\n",
       "        vertical-align: middle;\n",
       "    }\n",
       "\n",
       "    .dataframe tbody tr th {\n",
       "        vertical-align: top;\n",
       "    }\n",
       "\n",
       "    .dataframe thead th {\n",
       "        text-align: right;\n",
       "    }\n",
       "</style>\n",
       "<table border=\"1\" class=\"dataframe\">\n",
       "  <thead>\n",
       "    <tr style=\"text-align: right;\">\n",
       "      <th></th>\n",
       "      <th>date</th>\n",
       "      <th>available</th>\n",
       "      <th>price</th>\n",
       "      <th>adjusted_price</th>\n",
       "      <th>minimum_nights</th>\n",
       "      <th>maximum_nights</th>\n",
       "      <th>accommodates</th>\n",
       "    </tr>\n",
       "    <tr>\n",
       "      <th>listing_id</th>\n",
       "      <th></th>\n",
       "      <th></th>\n",
       "      <th></th>\n",
       "      <th></th>\n",
       "      <th></th>\n",
       "      <th></th>\n",
       "      <th></th>\n",
       "    </tr>\n",
       "  </thead>\n",
       "  <tbody>\n",
       "    <tr>\n",
       "      <th>637434837344309279</th>\n",
       "      <td>2023-09-07</td>\n",
       "      <td>f</td>\n",
       "      <td>200.0</td>\n",
       "      <td>$200.00</td>\n",
       "      <td>5.0</td>\n",
       "      <td>28.0</td>\n",
       "      <td>2</td>\n",
       "    </tr>\n",
       "    <tr>\n",
       "      <th>50461393</th>\n",
       "      <td>2023-07-04</td>\n",
       "      <td>f</td>\n",
       "      <td>650.0</td>\n",
       "      <td>$650.00</td>\n",
       "      <td>3.0</td>\n",
       "      <td>365.0</td>\n",
       "      <td>4</td>\n",
       "    </tr>\n",
       "    <tr>\n",
       "      <th>729317</th>\n",
       "      <td>2023-10-10</td>\n",
       "      <td>f</td>\n",
       "      <td>165.0</td>\n",
       "      <td>$165.00</td>\n",
       "      <td>3.0</td>\n",
       "      <td>1125.0</td>\n",
       "      <td>2</td>\n",
       "    </tr>\n",
       "    <tr>\n",
       "      <th>50391215</th>\n",
       "      <td>2023-12-06</td>\n",
       "      <td>f</td>\n",
       "      <td>145.0</td>\n",
       "      <td>$145.00</td>\n",
       "      <td>1.0</td>\n",
       "      <td>13.0</td>\n",
       "      <td>2</td>\n",
       "    </tr>\n",
       "    <tr>\n",
       "      <th>15642871</th>\n",
       "      <td>2023-08-08</td>\n",
       "      <td>t</td>\n",
       "      <td>245.0</td>\n",
       "      <td>$245.00</td>\n",
       "      <td>3.0</td>\n",
       "      <td>1125.0</td>\n",
       "      <td>2</td>\n",
       "    </tr>\n",
       "    <tr>\n",
       "      <th>884095814028010686</th>\n",
       "      <td>2024-01-25</td>\n",
       "      <td>f</td>\n",
       "      <td>500.0</td>\n",
       "      <td>$500.00</td>\n",
       "      <td>3.0</td>\n",
       "      <td>7.0</td>\n",
       "      <td>4</td>\n",
       "    </tr>\n",
       "    <tr>\n",
       "      <th>11382530</th>\n",
       "      <td>2023-10-22</td>\n",
       "      <td>f</td>\n",
       "      <td>195.0</td>\n",
       "      <td>$195.00</td>\n",
       "      <td>4.0</td>\n",
       "      <td>21.0</td>\n",
       "      <td>4</td>\n",
       "    </tr>\n",
       "    <tr>\n",
       "      <th>586670770979936732</th>\n",
       "      <td>2024-05-01</td>\n",
       "      <td>f</td>\n",
       "      <td>177.0</td>\n",
       "      <td>$177.00</td>\n",
       "      <td>6.0</td>\n",
       "      <td>11.0</td>\n",
       "      <td>2</td>\n",
       "    </tr>\n",
       "    <tr>\n",
       "      <th>778711305611248097</th>\n",
       "      <td>2024-04-29</td>\n",
       "      <td>f</td>\n",
       "      <td>215.0</td>\n",
       "      <td>$215.00</td>\n",
       "      <td>2.0</td>\n",
       "      <td>30.0</td>\n",
       "      <td>2</td>\n",
       "    </tr>\n",
       "    <tr>\n",
       "      <th>18667438</th>\n",
       "      <td>2023-07-05</td>\n",
       "      <td>f</td>\n",
       "      <td>60.0</td>\n",
       "      <td>$60.00</td>\n",
       "      <td>3.0</td>\n",
       "      <td>1125.0</td>\n",
       "      <td>2</td>\n",
       "    </tr>\n",
       "    <tr>\n",
       "      <th>807654110075860461</th>\n",
       "      <td>2023-08-03</td>\n",
       "      <td>f</td>\n",
       "      <td>138.0</td>\n",
       "      <td>$138.00</td>\n",
       "      <td>2.0</td>\n",
       "      <td>3.0</td>\n",
       "      <td>2</td>\n",
       "    </tr>\n",
       "    <tr>\n",
       "      <th>23971759</th>\n",
       "      <td>2024-04-18</td>\n",
       "      <td>t</td>\n",
       "      <td>169.0</td>\n",
       "      <td>$169.00</td>\n",
       "      <td>2.0</td>\n",
       "      <td>1125.0</td>\n",
       "      <td>2</td>\n",
       "    </tr>\n",
       "    <tr>\n",
       "      <th>33865629</th>\n",
       "      <td>2024-05-18</td>\n",
       "      <td>t</td>\n",
       "      <td>230.0</td>\n",
       "      <td>$230.00</td>\n",
       "      <td>1.0</td>\n",
       "      <td>1125.0</td>\n",
       "      <td>2</td>\n",
       "    </tr>\n",
       "    <tr>\n",
       "      <th>37344101</th>\n",
       "      <td>2023-11-30</td>\n",
       "      <td>f</td>\n",
       "      <td>100.0</td>\n",
       "      <td>$100.00</td>\n",
       "      <td>2.0</td>\n",
       "      <td>28.0</td>\n",
       "      <td>2</td>\n",
       "    </tr>\n",
       "    <tr>\n",
       "      <th>781087331725939569</th>\n",
       "      <td>2024-05-29</td>\n",
       "      <td>f</td>\n",
       "      <td>74.0</td>\n",
       "      <td>$74.00</td>\n",
       "      <td>2.0</td>\n",
       "      <td>1125.0</td>\n",
       "      <td>1</td>\n",
       "    </tr>\n",
       "  </tbody>\n",
       "</table>\n",
       "</div>"
      ],
      "text/plain": [
       "                         date available  price adjusted_price  minimum_nights  \\\n",
       "listing_id                                                                      \n",
       "637434837344309279 2023-09-07         f  200.0        $200.00             5.0   \n",
       "50461393           2023-07-04         f  650.0        $650.00             3.0   \n",
       "729317             2023-10-10         f  165.0        $165.00             3.0   \n",
       "50391215           2023-12-06         f  145.0        $145.00             1.0   \n",
       "15642871           2023-08-08         t  245.0        $245.00             3.0   \n",
       "884095814028010686 2024-01-25         f  500.0        $500.00             3.0   \n",
       "11382530           2023-10-22         f  195.0        $195.00             4.0   \n",
       "586670770979936732 2024-05-01         f  177.0        $177.00             6.0   \n",
       "778711305611248097 2024-04-29         f  215.0        $215.00             2.0   \n",
       "18667438           2023-07-05         f   60.0         $60.00             3.0   \n",
       "807654110075860461 2023-08-03         f  138.0        $138.00             2.0   \n",
       "23971759           2024-04-18         t  169.0        $169.00             2.0   \n",
       "33865629           2024-05-18         t  230.0        $230.00             1.0   \n",
       "37344101           2023-11-30         f  100.0        $100.00             2.0   \n",
       "781087331725939569 2024-05-29         f   74.0         $74.00             2.0   \n",
       "\n",
       "                    maximum_nights  accommodates  \n",
       "listing_id                                        \n",
       "637434837344309279            28.0             2  \n",
       "50461393                     365.0             4  \n",
       "729317                      1125.0             2  \n",
       "50391215                      13.0             2  \n",
       "15642871                    1125.0             2  \n",
       "884095814028010686             7.0             4  \n",
       "11382530                      21.0             4  \n",
       "586670770979936732            11.0             2  \n",
       "778711305611248097            30.0             2  \n",
       "18667438                    1125.0             2  \n",
       "807654110075860461             3.0             2  \n",
       "23971759                    1125.0             2  \n",
       "33865629                    1125.0             2  \n",
       "37344101                      28.0             2  \n",
       "781087331725939569          1125.0             1  "
      ]
     },
     "execution_count": 54,
     "metadata": {},
     "output_type": "execute_result"
    }
   ],
   "source": [
    "listings_details.index.name = \"listing_id\"\n",
    "calendar = pd.merge(calendar, listings_details[['accommodates']], on = \"listing_id\", how = \"left\")\n",
    "calendar.sample(15)"
   ]
  },
  {
   "cell_type": "code",
   "execution_count": 55,
   "metadata": {},
   "outputs": [
    {
     "data": {
      "application/vnd.plotly.v1+json": {
       "config": {
        "linkText": "Export to plot.ly",
        "plotlyServerURL": "https://plot.ly",
        "showLink": false
       },
       "data": [
        {
         "customdata": [
          [
           "Monday"
          ],
          [
           "Tuesday"
          ],
          [
           "Wednesday"
          ],
          [
           "Thursday"
          ],
          [
           "Friday"
          ],
          [
           "Saturday"
          ],
          [
           "Sunday"
          ],
          [
           "Monday"
          ],
          [
           "Tuesday"
          ],
          [
           "Wednesday"
          ],
          [
           "Thursday"
          ],
          [
           "Friday"
          ],
          [
           "Saturday"
          ],
          [
           "Sunday"
          ],
          [
           "Monday"
          ],
          [
           "Tuesday"
          ],
          [
           "Wednesday"
          ],
          [
           "Thursday"
          ],
          [
           "Friday"
          ],
          [
           "Saturday"
          ],
          [
           "Sunday"
          ],
          [
           "Monday"
          ],
          [
           "Tuesday"
          ],
          [
           "Wednesday"
          ],
          [
           "Thursday"
          ],
          [
           "Friday"
          ],
          [
           "Saturday"
          ],
          [
           "Sunday"
          ],
          [
           "Monday"
          ],
          [
           "Tuesday"
          ],
          [
           "Wednesday"
          ],
          [
           "Thursday"
          ],
          [
           "Friday"
          ],
          [
           "Saturday"
          ],
          [
           "Sunday"
          ],
          [
           "Monday"
          ],
          [
           "Tuesday"
          ],
          [
           "Wednesday"
          ],
          [
           "Thursday"
          ],
          [
           "Friday"
          ],
          [
           "Saturday"
          ],
          [
           "Sunday"
          ],
          [
           "Monday"
          ],
          [
           "Tuesday"
          ],
          [
           "Wednesday"
          ],
          [
           "Thursday"
          ],
          [
           "Friday"
          ],
          [
           "Saturday"
          ],
          [
           "Sunday"
          ],
          [
           "Monday"
          ],
          [
           "Tuesday"
          ],
          [
           "Wednesday"
          ],
          [
           "Thursday"
          ],
          [
           "Friday"
          ],
          [
           "Saturday"
          ],
          [
           "Sunday"
          ],
          [
           "Monday"
          ],
          [
           "Tuesday"
          ],
          [
           "Wednesday"
          ],
          [
           "Thursday"
          ],
          [
           "Friday"
          ],
          [
           "Saturday"
          ],
          [
           "Sunday"
          ],
          [
           "Monday"
          ],
          [
           "Tuesday"
          ],
          [
           "Wednesday"
          ],
          [
           "Thursday"
          ],
          [
           "Friday"
          ],
          [
           "Saturday"
          ],
          [
           "Sunday"
          ],
          [
           "Monday"
          ],
          [
           "Tuesday"
          ],
          [
           "Wednesday"
          ],
          [
           "Thursday"
          ],
          [
           "Friday"
          ],
          [
           "Saturday"
          ],
          [
           "Sunday"
          ],
          [
           "Monday"
          ],
          [
           "Tuesday"
          ],
          [
           "Wednesday"
          ],
          [
           "Thursday"
          ],
          [
           "Friday"
          ],
          [
           "Saturday"
          ],
          [
           "Sunday"
          ],
          [
           "Monday"
          ],
          [
           "Tuesday"
          ],
          [
           "Wednesday"
          ],
          [
           "Thursday"
          ],
          [
           "Friday"
          ],
          [
           "Saturday"
          ],
          [
           "Sunday"
          ],
          [
           "Monday"
          ],
          [
           "Tuesday"
          ],
          [
           "Wednesday"
          ],
          [
           "Thursday"
          ],
          [
           "Friday"
          ],
          [
           "Saturday"
          ],
          [
           "Sunday"
          ],
          [
           "Monday"
          ],
          [
           "Tuesday"
          ],
          [
           "Wednesday"
          ],
          [
           "Thursday"
          ],
          [
           "Friday"
          ],
          [
           "Saturday"
          ],
          [
           "Sunday"
          ],
          [
           "Monday"
          ],
          [
           "Tuesday"
          ],
          [
           "Wednesday"
          ],
          [
           "Thursday"
          ],
          [
           "Friday"
          ],
          [
           "Saturday"
          ],
          [
           "Sunday"
          ],
          [
           "Monday"
          ],
          [
           "Tuesday"
          ],
          [
           "Wednesday"
          ],
          [
           "Thursday"
          ],
          [
           "Friday"
          ],
          [
           "Saturday"
          ],
          [
           "Sunday"
          ],
          [
           "Monday"
          ],
          [
           "Tuesday"
          ],
          [
           "Wednesday"
          ],
          [
           "Thursday"
          ],
          [
           "Friday"
          ],
          [
           "Saturday"
          ],
          [
           "Sunday"
          ],
          [
           "Monday"
          ],
          [
           "Tuesday"
          ],
          [
           "Wednesday"
          ],
          [
           "Thursday"
          ],
          [
           "Friday"
          ],
          [
           "Saturday"
          ],
          [
           "Sunday"
          ],
          [
           "Monday"
          ],
          [
           "Tuesday"
          ],
          [
           "Wednesday"
          ],
          [
           "Thursday"
          ],
          [
           "Friday"
          ],
          [
           "Saturday"
          ],
          [
           "Sunday"
          ],
          [
           "Monday"
          ],
          [
           "Tuesday"
          ],
          [
           "Wednesday"
          ],
          [
           "Thursday"
          ],
          [
           "Friday"
          ],
          [
           "Saturday"
          ],
          [
           "Sunday"
          ],
          [
           "Monday"
          ],
          [
           "Tuesday"
          ],
          [
           "Wednesday"
          ],
          [
           "Thursday"
          ],
          [
           "Friday"
          ],
          [
           "Saturday"
          ],
          [
           "Sunday"
          ],
          [
           "Monday"
          ],
          [
           "Tuesday"
          ],
          [
           "Wednesday"
          ],
          [
           "Thursday"
          ],
          [
           "Friday"
          ],
          [
           "Saturday"
          ],
          [
           "Sunday"
          ],
          [
           "Monday"
          ],
          [
           "Tuesday"
          ],
          [
           "Wednesday"
          ],
          [
           "Thursday"
          ],
          [
           "Friday"
          ],
          [
           "Saturday"
          ],
          [
           "Sunday"
          ],
          [
           "Monday"
          ],
          [
           "Tuesday"
          ],
          [
           "Wednesday"
          ],
          [
           "Thursday"
          ],
          [
           "Friday"
          ],
          [
           "Saturday"
          ],
          [
           "Sunday"
          ],
          [
           "Monday"
          ],
          [
           "Tuesday"
          ],
          [
           "Wednesday"
          ],
          [
           "Thursday"
          ],
          [
           "Friday"
          ],
          [
           "Saturday"
          ],
          [
           "Sunday"
          ],
          [
           "Monday"
          ],
          [
           "Tuesday"
          ],
          [
           "Wednesday"
          ],
          [
           "Thursday"
          ],
          [
           "Friday"
          ],
          [
           "Saturday"
          ],
          [
           "Sunday"
          ],
          [
           "Monday"
          ],
          [
           "Tuesday"
          ],
          [
           "Wednesday"
          ],
          [
           "Thursday"
          ],
          [
           "Friday"
          ],
          [
           "Saturday"
          ],
          [
           "Sunday"
          ],
          [
           "Monday"
          ],
          [
           "Tuesday"
          ],
          [
           "Wednesday"
          ],
          [
           "Thursday"
          ],
          [
           "Friday"
          ],
          [
           "Saturday"
          ],
          [
           "Sunday"
          ],
          [
           "Monday"
          ],
          [
           "Tuesday"
          ],
          [
           "Wednesday"
          ],
          [
           "Thursday"
          ],
          [
           "Friday"
          ],
          [
           "Saturday"
          ],
          [
           "Sunday"
          ],
          [
           "Monday"
          ],
          [
           "Tuesday"
          ],
          [
           "Wednesday"
          ],
          [
           "Thursday"
          ],
          [
           "Friday"
          ],
          [
           "Saturday"
          ],
          [
           "Sunday"
          ],
          [
           "Monday"
          ],
          [
           "Tuesday"
          ],
          [
           "Wednesday"
          ],
          [
           "Thursday"
          ],
          [
           "Friday"
          ],
          [
           "Saturday"
          ],
          [
           "Sunday"
          ],
          [
           "Monday"
          ],
          [
           "Tuesday"
          ],
          [
           "Wednesday"
          ],
          [
           "Thursday"
          ],
          [
           "Friday"
          ],
          [
           "Saturday"
          ],
          [
           "Sunday"
          ],
          [
           "Monday"
          ],
          [
           "Tuesday"
          ],
          [
           "Wednesday"
          ],
          [
           "Thursday"
          ],
          [
           "Friday"
          ],
          [
           "Saturday"
          ],
          [
           "Sunday"
          ],
          [
           "Monday"
          ],
          [
           "Tuesday"
          ],
          [
           "Wednesday"
          ],
          [
           "Thursday"
          ],
          [
           "Friday"
          ],
          [
           "Saturday"
          ],
          [
           "Sunday"
          ],
          [
           "Monday"
          ],
          [
           "Tuesday"
          ],
          [
           "Wednesday"
          ],
          [
           "Thursday"
          ],
          [
           "Friday"
          ],
          [
           "Saturday"
          ],
          [
           "Sunday"
          ],
          [
           "Monday"
          ],
          [
           "Tuesday"
          ],
          [
           "Wednesday"
          ],
          [
           "Thursday"
          ],
          [
           "Friday"
          ],
          [
           "Saturday"
          ],
          [
           "Sunday"
          ],
          [
           "Monday"
          ],
          [
           "Tuesday"
          ],
          [
           "Wednesday"
          ],
          [
           "Thursday"
          ],
          [
           "Friday"
          ],
          [
           "Saturday"
          ],
          [
           "Sunday"
          ],
          [
           "Monday"
          ],
          [
           "Tuesday"
          ],
          [
           "Wednesday"
          ],
          [
           "Thursday"
          ],
          [
           "Friday"
          ],
          [
           "Saturday"
          ],
          [
           "Sunday"
          ],
          [
           "Monday"
          ],
          [
           "Tuesday"
          ],
          [
           "Wednesday"
          ],
          [
           "Thursday"
          ],
          [
           "Friday"
          ],
          [
           "Saturday"
          ],
          [
           "Sunday"
          ],
          [
           "Monday"
          ],
          [
           "Tuesday"
          ],
          [
           "Wednesday"
          ],
          [
           "Thursday"
          ],
          [
           "Friday"
          ],
          [
           "Saturday"
          ],
          [
           "Sunday"
          ],
          [
           "Monday"
          ],
          [
           "Tuesday"
          ],
          [
           "Wednesday"
          ],
          [
           "Thursday"
          ],
          [
           "Friday"
          ],
          [
           "Saturday"
          ],
          [
           "Sunday"
          ],
          [
           "Monday"
          ],
          [
           "Tuesday"
          ],
          [
           "Wednesday"
          ],
          [
           "Thursday"
          ],
          [
           "Friday"
          ],
          [
           "Saturday"
          ],
          [
           "Sunday"
          ],
          [
           "Monday"
          ],
          [
           "Tuesday"
          ],
          [
           "Wednesday"
          ],
          [
           "Thursday"
          ],
          [
           "Friday"
          ],
          [
           "Saturday"
          ],
          [
           "Sunday"
          ],
          [
           "Monday"
          ],
          [
           "Tuesday"
          ],
          [
           "Wednesday"
          ],
          [
           "Thursday"
          ],
          [
           "Friday"
          ],
          [
           "Saturday"
          ],
          [
           "Sunday"
          ],
          [
           "Monday"
          ],
          [
           "Tuesday"
          ],
          [
           "Wednesday"
          ],
          [
           "Thursday"
          ],
          [
           "Friday"
          ],
          [
           "Saturday"
          ],
          [
           "Sunday"
          ],
          [
           "Monday"
          ],
          [
           "Tuesday"
          ],
          [
           "Wednesday"
          ],
          [
           "Thursday"
          ],
          [
           "Friday"
          ],
          [
           "Saturday"
          ],
          [
           "Sunday"
          ],
          [
           "Monday"
          ],
          [
           "Tuesday"
          ],
          [
           "Wednesday"
          ],
          [
           "Thursday"
          ],
          [
           "Friday"
          ],
          [
           "Saturday"
          ],
          [
           "Sunday"
          ],
          [
           "Monday"
          ],
          [
           "Tuesday"
          ],
          [
           "Wednesday"
          ],
          [
           "Thursday"
          ],
          [
           "Friday"
          ],
          [
           "Saturday"
          ],
          [
           "Sunday"
          ],
          [
           "Monday"
          ],
          [
           "Tuesday"
          ],
          [
           "Wednesday"
          ],
          [
           "Thursday"
          ],
          [
           "Friday"
          ],
          [
           "Saturday"
          ],
          [
           "Sunday"
          ],
          [
           "Monday"
          ],
          [
           "Tuesday"
          ],
          [
           "Wednesday"
          ],
          [
           "Thursday"
          ],
          [
           "Friday"
          ],
          [
           "Saturday"
          ],
          [
           "Sunday"
          ],
          [
           "Monday"
          ],
          [
           "Tuesday"
          ],
          [
           "Wednesday"
          ],
          [
           "Thursday"
          ],
          [
           "Friday"
          ],
          [
           "Saturday"
          ],
          [
           "Sunday"
          ],
          [
           "Monday"
          ],
          [
           "Tuesday"
          ]
         ],
         "hovertemplate": "date=%{x}<br>available=%{y}<br>weekday=%{customdata[0]}<extra></extra>",
         "legendgroup": "",
         "line": {
          "color": "#636efa",
          "dash": "solid"
         },
         "marker": {
          "symbol": "circle"
         },
         "mode": "lines",
         "name": "",
         "orientation": "v",
         "showlegend": false,
         "textposition": "bottom right",
         "type": "scatter",
         "x": [
          "2023-06-05T00:00:00",
          "2023-06-06T00:00:00",
          "2023-06-07T00:00:00",
          "2023-06-08T00:00:00",
          "2023-06-09T00:00:00",
          "2023-06-10T00:00:00",
          "2023-06-11T00:00:00",
          "2023-06-12T00:00:00",
          "2023-06-13T00:00:00",
          "2023-06-14T00:00:00",
          "2023-06-15T00:00:00",
          "2023-06-16T00:00:00",
          "2023-06-17T00:00:00",
          "2023-06-18T00:00:00",
          "2023-06-19T00:00:00",
          "2023-06-20T00:00:00",
          "2023-06-21T00:00:00",
          "2023-06-22T00:00:00",
          "2023-06-23T00:00:00",
          "2023-06-24T00:00:00",
          "2023-06-25T00:00:00",
          "2023-06-26T00:00:00",
          "2023-06-27T00:00:00",
          "2023-06-28T00:00:00",
          "2023-06-29T00:00:00",
          "2023-06-30T00:00:00",
          "2023-07-01T00:00:00",
          "2023-07-02T00:00:00",
          "2023-07-03T00:00:00",
          "2023-07-04T00:00:00",
          "2023-07-05T00:00:00",
          "2023-07-06T00:00:00",
          "2023-07-07T00:00:00",
          "2023-07-08T00:00:00",
          "2023-07-09T00:00:00",
          "2023-07-10T00:00:00",
          "2023-07-11T00:00:00",
          "2023-07-12T00:00:00",
          "2023-07-13T00:00:00",
          "2023-07-14T00:00:00",
          "2023-07-15T00:00:00",
          "2023-07-16T00:00:00",
          "2023-07-17T00:00:00",
          "2023-07-18T00:00:00",
          "2023-07-19T00:00:00",
          "2023-07-20T00:00:00",
          "2023-07-21T00:00:00",
          "2023-07-22T00:00:00",
          "2023-07-23T00:00:00",
          "2023-07-24T00:00:00",
          "2023-07-25T00:00:00",
          "2023-07-26T00:00:00",
          "2023-07-27T00:00:00",
          "2023-07-28T00:00:00",
          "2023-07-29T00:00:00",
          "2023-07-30T00:00:00",
          "2023-07-31T00:00:00",
          "2023-08-01T00:00:00",
          "2023-08-02T00:00:00",
          "2023-08-03T00:00:00",
          "2023-08-04T00:00:00",
          "2023-08-05T00:00:00",
          "2023-08-06T00:00:00",
          "2023-08-07T00:00:00",
          "2023-08-08T00:00:00",
          "2023-08-09T00:00:00",
          "2023-08-10T00:00:00",
          "2023-08-11T00:00:00",
          "2023-08-12T00:00:00",
          "2023-08-13T00:00:00",
          "2023-08-14T00:00:00",
          "2023-08-15T00:00:00",
          "2023-08-16T00:00:00",
          "2023-08-17T00:00:00",
          "2023-08-18T00:00:00",
          "2023-08-19T00:00:00",
          "2023-08-20T00:00:00",
          "2023-08-21T00:00:00",
          "2023-08-22T00:00:00",
          "2023-08-23T00:00:00",
          "2023-08-24T00:00:00",
          "2023-08-25T00:00:00",
          "2023-08-26T00:00:00",
          "2023-08-27T00:00:00",
          "2023-08-28T00:00:00",
          "2023-08-29T00:00:00",
          "2023-08-30T00:00:00",
          "2023-08-31T00:00:00",
          "2023-09-01T00:00:00",
          "2023-09-02T00:00:00",
          "2023-09-03T00:00:00",
          "2023-09-04T00:00:00",
          "2023-09-05T00:00:00",
          "2023-09-06T00:00:00",
          "2023-09-07T00:00:00",
          "2023-09-08T00:00:00",
          "2023-09-09T00:00:00",
          "2023-09-10T00:00:00",
          "2023-09-11T00:00:00",
          "2023-09-12T00:00:00",
          "2023-09-13T00:00:00",
          "2023-09-14T00:00:00",
          "2023-09-15T00:00:00",
          "2023-09-16T00:00:00",
          "2023-09-17T00:00:00",
          "2023-09-18T00:00:00",
          "2023-09-19T00:00:00",
          "2023-09-20T00:00:00",
          "2023-09-21T00:00:00",
          "2023-09-22T00:00:00",
          "2023-09-23T00:00:00",
          "2023-09-24T00:00:00",
          "2023-09-25T00:00:00",
          "2023-09-26T00:00:00",
          "2023-09-27T00:00:00",
          "2023-09-28T00:00:00",
          "2023-09-29T00:00:00",
          "2023-09-30T00:00:00",
          "2023-10-01T00:00:00",
          "2023-10-02T00:00:00",
          "2023-10-03T00:00:00",
          "2023-10-04T00:00:00",
          "2023-10-05T00:00:00",
          "2023-10-06T00:00:00",
          "2023-10-07T00:00:00",
          "2023-10-08T00:00:00",
          "2023-10-09T00:00:00",
          "2023-10-10T00:00:00",
          "2023-10-11T00:00:00",
          "2023-10-12T00:00:00",
          "2023-10-13T00:00:00",
          "2023-10-14T00:00:00",
          "2023-10-15T00:00:00",
          "2023-10-16T00:00:00",
          "2023-10-17T00:00:00",
          "2023-10-18T00:00:00",
          "2023-10-19T00:00:00",
          "2023-10-20T00:00:00",
          "2023-10-21T00:00:00",
          "2023-10-22T00:00:00",
          "2023-10-23T00:00:00",
          "2023-10-24T00:00:00",
          "2023-10-25T00:00:00",
          "2023-10-26T00:00:00",
          "2023-10-27T00:00:00",
          "2023-10-28T00:00:00",
          "2023-10-29T00:00:00",
          "2023-10-30T00:00:00",
          "2023-10-31T00:00:00",
          "2023-11-01T00:00:00",
          "2023-11-02T00:00:00",
          "2023-11-03T00:00:00",
          "2023-11-04T00:00:00",
          "2023-11-05T00:00:00",
          "2023-11-06T00:00:00",
          "2023-11-07T00:00:00",
          "2023-11-08T00:00:00",
          "2023-11-09T00:00:00",
          "2023-11-10T00:00:00",
          "2023-11-11T00:00:00",
          "2023-11-12T00:00:00",
          "2023-11-13T00:00:00",
          "2023-11-14T00:00:00",
          "2023-11-15T00:00:00",
          "2023-11-16T00:00:00",
          "2023-11-17T00:00:00",
          "2023-11-18T00:00:00",
          "2023-11-19T00:00:00",
          "2023-11-20T00:00:00",
          "2023-11-21T00:00:00",
          "2023-11-22T00:00:00",
          "2023-11-23T00:00:00",
          "2023-11-24T00:00:00",
          "2023-11-25T00:00:00",
          "2023-11-26T00:00:00",
          "2023-11-27T00:00:00",
          "2023-11-28T00:00:00",
          "2023-11-29T00:00:00",
          "2023-11-30T00:00:00",
          "2023-12-01T00:00:00",
          "2023-12-02T00:00:00",
          "2023-12-03T00:00:00",
          "2023-12-04T00:00:00",
          "2023-12-05T00:00:00",
          "2023-12-06T00:00:00",
          "2023-12-07T00:00:00",
          "2023-12-08T00:00:00",
          "2023-12-09T00:00:00",
          "2023-12-10T00:00:00",
          "2023-12-11T00:00:00",
          "2023-12-12T00:00:00",
          "2023-12-13T00:00:00",
          "2023-12-14T00:00:00",
          "2023-12-15T00:00:00",
          "2023-12-16T00:00:00",
          "2023-12-17T00:00:00",
          "2023-12-18T00:00:00",
          "2023-12-19T00:00:00",
          "2023-12-20T00:00:00",
          "2023-12-21T00:00:00",
          "2023-12-22T00:00:00",
          "2023-12-23T00:00:00",
          "2023-12-24T00:00:00",
          "2023-12-25T00:00:00",
          "2023-12-26T00:00:00",
          "2023-12-27T00:00:00",
          "2023-12-28T00:00:00",
          "2023-12-29T00:00:00",
          "2023-12-30T00:00:00",
          "2023-12-31T00:00:00",
          "2024-01-01T00:00:00",
          "2024-01-02T00:00:00",
          "2024-01-03T00:00:00",
          "2024-01-04T00:00:00",
          "2024-01-05T00:00:00",
          "2024-01-06T00:00:00",
          "2024-01-07T00:00:00",
          "2024-01-08T00:00:00",
          "2024-01-09T00:00:00",
          "2024-01-10T00:00:00",
          "2024-01-11T00:00:00",
          "2024-01-12T00:00:00",
          "2024-01-13T00:00:00",
          "2024-01-14T00:00:00",
          "2024-01-15T00:00:00",
          "2024-01-16T00:00:00",
          "2024-01-17T00:00:00",
          "2024-01-18T00:00:00",
          "2024-01-19T00:00:00",
          "2024-01-20T00:00:00",
          "2024-01-21T00:00:00",
          "2024-01-22T00:00:00",
          "2024-01-23T00:00:00",
          "2024-01-24T00:00:00",
          "2024-01-25T00:00:00",
          "2024-01-26T00:00:00",
          "2024-01-27T00:00:00",
          "2024-01-28T00:00:00",
          "2024-01-29T00:00:00",
          "2024-01-30T00:00:00",
          "2024-01-31T00:00:00",
          "2024-02-01T00:00:00",
          "2024-02-02T00:00:00",
          "2024-02-03T00:00:00",
          "2024-02-04T00:00:00",
          "2024-02-05T00:00:00",
          "2024-02-06T00:00:00",
          "2024-02-07T00:00:00",
          "2024-02-08T00:00:00",
          "2024-02-09T00:00:00",
          "2024-02-10T00:00:00",
          "2024-02-11T00:00:00",
          "2024-02-12T00:00:00",
          "2024-02-13T00:00:00",
          "2024-02-14T00:00:00",
          "2024-02-15T00:00:00",
          "2024-02-16T00:00:00",
          "2024-02-17T00:00:00",
          "2024-02-18T00:00:00",
          "2024-02-19T00:00:00",
          "2024-02-20T00:00:00",
          "2024-02-21T00:00:00",
          "2024-02-22T00:00:00",
          "2024-02-23T00:00:00",
          "2024-02-24T00:00:00",
          "2024-02-25T00:00:00",
          "2024-02-26T00:00:00",
          "2024-02-27T00:00:00",
          "2024-02-28T00:00:00",
          "2024-02-29T00:00:00",
          "2024-03-01T00:00:00",
          "2024-03-02T00:00:00",
          "2024-03-03T00:00:00",
          "2024-03-04T00:00:00",
          "2024-03-05T00:00:00",
          "2024-03-06T00:00:00",
          "2024-03-07T00:00:00",
          "2024-03-08T00:00:00",
          "2024-03-09T00:00:00",
          "2024-03-10T00:00:00",
          "2024-03-11T00:00:00",
          "2024-03-12T00:00:00",
          "2024-03-13T00:00:00",
          "2024-03-14T00:00:00",
          "2024-03-15T00:00:00",
          "2024-03-16T00:00:00",
          "2024-03-17T00:00:00",
          "2024-03-18T00:00:00",
          "2024-03-19T00:00:00",
          "2024-03-20T00:00:00",
          "2024-03-21T00:00:00",
          "2024-03-22T00:00:00",
          "2024-03-23T00:00:00",
          "2024-03-24T00:00:00",
          "2024-03-25T00:00:00",
          "2024-03-26T00:00:00",
          "2024-03-27T00:00:00",
          "2024-03-28T00:00:00",
          "2024-03-29T00:00:00",
          "2024-03-30T00:00:00",
          "2024-03-31T00:00:00",
          "2024-04-01T00:00:00",
          "2024-04-02T00:00:00",
          "2024-04-03T00:00:00",
          "2024-04-04T00:00:00",
          "2024-04-05T00:00:00",
          "2024-04-06T00:00:00",
          "2024-04-07T00:00:00",
          "2024-04-08T00:00:00",
          "2024-04-09T00:00:00",
          "2024-04-10T00:00:00",
          "2024-04-11T00:00:00",
          "2024-04-12T00:00:00",
          "2024-04-13T00:00:00",
          "2024-04-14T00:00:00",
          "2024-04-15T00:00:00",
          "2024-04-16T00:00:00",
          "2024-04-17T00:00:00",
          "2024-04-18T00:00:00",
          "2024-04-19T00:00:00",
          "2024-04-20T00:00:00",
          "2024-04-21T00:00:00",
          "2024-04-22T00:00:00",
          "2024-04-23T00:00:00",
          "2024-04-24T00:00:00",
          "2024-04-25T00:00:00",
          "2024-04-26T00:00:00",
          "2024-04-27T00:00:00",
          "2024-04-28T00:00:00",
          "2024-04-29T00:00:00",
          "2024-04-30T00:00:00",
          "2024-05-01T00:00:00",
          "2024-05-02T00:00:00",
          "2024-05-03T00:00:00",
          "2024-05-04T00:00:00",
          "2024-05-05T00:00:00",
          "2024-05-06T00:00:00",
          "2024-05-07T00:00:00",
          "2024-05-08T00:00:00",
          "2024-05-09T00:00:00",
          "2024-05-10T00:00:00",
          "2024-05-11T00:00:00",
          "2024-05-12T00:00:00",
          "2024-05-13T00:00:00",
          "2024-05-14T00:00:00",
          "2024-05-15T00:00:00",
          "2024-05-16T00:00:00",
          "2024-05-17T00:00:00",
          "2024-05-18T00:00:00",
          "2024-05-19T00:00:00",
          "2024-05-20T00:00:00",
          "2024-05-21T00:00:00",
          "2024-05-22T00:00:00",
          "2024-05-23T00:00:00",
          "2024-05-24T00:00:00",
          "2024-05-25T00:00:00",
          "2024-05-26T00:00:00",
          "2024-05-27T00:00:00",
          "2024-05-28T00:00:00",
          "2024-05-29T00:00:00",
          "2024-05-30T00:00:00",
          "2024-05-31T00:00:00",
          "2024-06-01T00:00:00",
          "2024-06-02T00:00:00",
          "2024-06-03T00:00:00",
          "2024-06-04T00:00:00"
         ],
         "xaxis": "x",
         "y": [
          57,
          290,
          484,
          572,
          653,
          654,
          1029,
          927,
          888,
          877,
          842,
          677,
          654,
          970,
          1015,
          1003,
          949,
          957,
          827,
          794,
          1112,
          1005,
          1026,
          1105,
          1117,
          1113,
          1130,
          1287,
          1220,
          1200,
          1222,
          1159,
          1208,
          1146,
          1367,
          1245,
          1234,
          1234,
          1187,
          1089,
          1014,
          1207,
          1121,
          1020,
          1101,
          1284,
          1393,
          1466,
          1660,
          1538,
          1521,
          1565,
          1574,
          1560,
          1556,
          1679,
          1732,
          1503,
          1430,
          1372,
          1235,
          1260,
          1515,
          1651,
          1682,
          1709,
          1728,
          1651,
          1669,
          1752,
          1725,
          1789,
          1735,
          1742,
          1750,
          1751,
          1875,
          1764,
          1697,
          1621,
          1397,
          1190,
          1129,
          1294,
          1576,
          1744,
          1845,
          1876,
          1709,
          1683,
          1775,
          1464,
          1443,
          1443,
          1374,
          1331,
          1329,
          1465,
          1448,
          1423,
          1350,
          1219,
          1121,
          1116,
          1282,
          1366,
          1427,
          1410,
          1376,
          1339,
          1331,
          1466,
          1498,
          1505,
          1500,
          1486,
          1402,
          1385,
          1508,
          1490,
          1547,
          1509,
          1438,
          1362,
          1380,
          1493,
          1553,
          1598,
          1597,
          1517,
          1327,
          1209,
          1318,
          1539,
          1570,
          1435,
          1289,
          1215,
          1260,
          1518,
          1646,
          1697,
          1706,
          1706,
          1677,
          1676,
          1735,
          1765,
          1793,
          1807,
          1795,
          1806,
          1824,
          1862,
          1855,
          1857,
          1858,
          1847,
          1823,
          1838,
          1913,
          1914,
          1885,
          1879,
          1876,
          1863,
          1883,
          1962,
          1989,
          1988,
          1980,
          1960,
          1943,
          1956,
          1992,
          2019,
          2032,
          2039,
          2016,
          1957,
          1964,
          1577,
          1608,
          1596,
          1582,
          1561,
          1553,
          1566,
          1618,
          1628,
          1628,
          1613,
          1610,
          1604,
          1606,
          1617,
          1598,
          1605,
          1606,
          1611,
          1611,
          1632,
          1613,
          1607,
          1581,
          1557,
          1527,
          1491,
          1446,
          1454,
          1740,
          1808,
          1827,
          1830,
          1844,
          1849,
          1852,
          1826,
          1832,
          1831,
          1830,
          1841,
          1850,
          1841,
          1861,
          1854,
          1853,
          1858,
          1870,
          1873,
          1886,
          1892,
          1893,
          1891,
          1895,
          1881,
          1887,
          1893,
          1902,
          1899,
          1901,
          1938,
          1935,
          1939,
          1951,
          1963,
          1960,
          1963,
          1971,
          1972,
          1959,
          1963,
          1973,
          1970,
          1977,
          1977,
          1959,
          1967,
          1986,
          1992,
          1994,
          1995,
          1993,
          1988,
          1990,
          1997,
          2011,
          2014,
          2020,
          2028,
          2061,
          1862,
          1870,
          1871,
          1861,
          1863,
          1860,
          1854,
          1854,
          1865,
          1870,
          1863,
          1868,
          1853,
          1858,
          1865,
          1885,
          1887,
          1895,
          1885,
          1883,
          1888,
          1888,
          1890,
          1888,
          1885,
          1877,
          1875,
          1855,
          1854,
          1877,
          1893,
          1896,
          1893,
          1884,
          1884,
          1878,
          1890,
          1887,
          1894,
          1886,
          1879,
          1885,
          1880,
          1883,
          1876,
          1864,
          1854,
          1843,
          1840,
          1865,
          1881,
          1878,
          1888,
          1882,
          1860,
          1812,
          1817,
          1870,
          1900,
          1912,
          1901,
          1902,
          1899,
          1900,
          1910,
          1926,
          1929,
          1932,
          1920,
          1927,
          1930,
          1951,
          1959,
          1953,
          1957,
          1962,
          1973,
          1972,
          1975,
          1994,
          1986,
          1989,
          1988,
          1993,
          1991,
          2000,
          1995,
          1994,
          2009,
          2002,
          2012,
          2020,
          2031,
          2007,
          1742
         ],
         "yaxis": "y"
        }
       ],
       "layout": {
        "legend": {
         "tracegroupgap": 0
        },
        "template": {
         "data": {
          "bar": [
           {
            "error_x": {
             "color": "#2a3f5f"
            },
            "error_y": {
             "color": "#2a3f5f"
            },
            "marker": {
             "line": {
              "color": "#E5ECF6",
              "width": 0.5
             },
             "pattern": {
              "fillmode": "overlay",
              "size": 10,
              "solidity": 0.2
             }
            },
            "type": "bar"
           }
          ],
          "barpolar": [
           {
            "marker": {
             "line": {
              "color": "#E5ECF6",
              "width": 0.5
             },
             "pattern": {
              "fillmode": "overlay",
              "size": 10,
              "solidity": 0.2
             }
            },
            "type": "barpolar"
           }
          ],
          "carpet": [
           {
            "aaxis": {
             "endlinecolor": "#2a3f5f",
             "gridcolor": "white",
             "linecolor": "white",
             "minorgridcolor": "white",
             "startlinecolor": "#2a3f5f"
            },
            "baxis": {
             "endlinecolor": "#2a3f5f",
             "gridcolor": "white",
             "linecolor": "white",
             "minorgridcolor": "white",
             "startlinecolor": "#2a3f5f"
            },
            "type": "carpet"
           }
          ],
          "choropleth": [
           {
            "colorbar": {
             "outlinewidth": 0,
             "ticks": ""
            },
            "type": "choropleth"
           }
          ],
          "contour": [
           {
            "colorbar": {
             "outlinewidth": 0,
             "ticks": ""
            },
            "colorscale": [
             [
              0,
              "#0d0887"
             ],
             [
              0.1111111111111111,
              "#46039f"
             ],
             [
              0.2222222222222222,
              "#7201a8"
             ],
             [
              0.3333333333333333,
              "#9c179e"
             ],
             [
              0.4444444444444444,
              "#bd3786"
             ],
             [
              0.5555555555555556,
              "#d8576b"
             ],
             [
              0.6666666666666666,
              "#ed7953"
             ],
             [
              0.7777777777777778,
              "#fb9f3a"
             ],
             [
              0.8888888888888888,
              "#fdca26"
             ],
             [
              1,
              "#f0f921"
             ]
            ],
            "type": "contour"
           }
          ],
          "contourcarpet": [
           {
            "colorbar": {
             "outlinewidth": 0,
             "ticks": ""
            },
            "type": "contourcarpet"
           }
          ],
          "heatmap": [
           {
            "colorbar": {
             "outlinewidth": 0,
             "ticks": ""
            },
            "colorscale": [
             [
              0,
              "#0d0887"
             ],
             [
              0.1111111111111111,
              "#46039f"
             ],
             [
              0.2222222222222222,
              "#7201a8"
             ],
             [
              0.3333333333333333,
              "#9c179e"
             ],
             [
              0.4444444444444444,
              "#bd3786"
             ],
             [
              0.5555555555555556,
              "#d8576b"
             ],
             [
              0.6666666666666666,
              "#ed7953"
             ],
             [
              0.7777777777777778,
              "#fb9f3a"
             ],
             [
              0.8888888888888888,
              "#fdca26"
             ],
             [
              1,
              "#f0f921"
             ]
            ],
            "type": "heatmap"
           }
          ],
          "heatmapgl": [
           {
            "colorbar": {
             "outlinewidth": 0,
             "ticks": ""
            },
            "colorscale": [
             [
              0,
              "#0d0887"
             ],
             [
              0.1111111111111111,
              "#46039f"
             ],
             [
              0.2222222222222222,
              "#7201a8"
             ],
             [
              0.3333333333333333,
              "#9c179e"
             ],
             [
              0.4444444444444444,
              "#bd3786"
             ],
             [
              0.5555555555555556,
              "#d8576b"
             ],
             [
              0.6666666666666666,
              "#ed7953"
             ],
             [
              0.7777777777777778,
              "#fb9f3a"
             ],
             [
              0.8888888888888888,
              "#fdca26"
             ],
             [
              1,
              "#f0f921"
             ]
            ],
            "type": "heatmapgl"
           }
          ],
          "histogram": [
           {
            "marker": {
             "pattern": {
              "fillmode": "overlay",
              "size": 10,
              "solidity": 0.2
             }
            },
            "type": "histogram"
           }
          ],
          "histogram2d": [
           {
            "colorbar": {
             "outlinewidth": 0,
             "ticks": ""
            },
            "colorscale": [
             [
              0,
              "#0d0887"
             ],
             [
              0.1111111111111111,
              "#46039f"
             ],
             [
              0.2222222222222222,
              "#7201a8"
             ],
             [
              0.3333333333333333,
              "#9c179e"
             ],
             [
              0.4444444444444444,
              "#bd3786"
             ],
             [
              0.5555555555555556,
              "#d8576b"
             ],
             [
              0.6666666666666666,
              "#ed7953"
             ],
             [
              0.7777777777777778,
              "#fb9f3a"
             ],
             [
              0.8888888888888888,
              "#fdca26"
             ],
             [
              1,
              "#f0f921"
             ]
            ],
            "type": "histogram2d"
           }
          ],
          "histogram2dcontour": [
           {
            "colorbar": {
             "outlinewidth": 0,
             "ticks": ""
            },
            "colorscale": [
             [
              0,
              "#0d0887"
             ],
             [
              0.1111111111111111,
              "#46039f"
             ],
             [
              0.2222222222222222,
              "#7201a8"
             ],
             [
              0.3333333333333333,
              "#9c179e"
             ],
             [
              0.4444444444444444,
              "#bd3786"
             ],
             [
              0.5555555555555556,
              "#d8576b"
             ],
             [
              0.6666666666666666,
              "#ed7953"
             ],
             [
              0.7777777777777778,
              "#fb9f3a"
             ],
             [
              0.8888888888888888,
              "#fdca26"
             ],
             [
              1,
              "#f0f921"
             ]
            ],
            "type": "histogram2dcontour"
           }
          ],
          "mesh3d": [
           {
            "colorbar": {
             "outlinewidth": 0,
             "ticks": ""
            },
            "type": "mesh3d"
           }
          ],
          "parcoords": [
           {
            "line": {
             "colorbar": {
              "outlinewidth": 0,
              "ticks": ""
             }
            },
            "type": "parcoords"
           }
          ],
          "pie": [
           {
            "automargin": true,
            "type": "pie"
           }
          ],
          "scatter": [
           {
            "fillpattern": {
             "fillmode": "overlay",
             "size": 10,
             "solidity": 0.2
            },
            "type": "scatter"
           }
          ],
          "scatter3d": [
           {
            "line": {
             "colorbar": {
              "outlinewidth": 0,
              "ticks": ""
             }
            },
            "marker": {
             "colorbar": {
              "outlinewidth": 0,
              "ticks": ""
             }
            },
            "type": "scatter3d"
           }
          ],
          "scattercarpet": [
           {
            "marker": {
             "colorbar": {
              "outlinewidth": 0,
              "ticks": ""
             }
            },
            "type": "scattercarpet"
           }
          ],
          "scattergeo": [
           {
            "marker": {
             "colorbar": {
              "outlinewidth": 0,
              "ticks": ""
             }
            },
            "type": "scattergeo"
           }
          ],
          "scattergl": [
           {
            "marker": {
             "colorbar": {
              "outlinewidth": 0,
              "ticks": ""
             }
            },
            "type": "scattergl"
           }
          ],
          "scattermapbox": [
           {
            "marker": {
             "colorbar": {
              "outlinewidth": 0,
              "ticks": ""
             }
            },
            "type": "scattermapbox"
           }
          ],
          "scatterpolar": [
           {
            "marker": {
             "colorbar": {
              "outlinewidth": 0,
              "ticks": ""
             }
            },
            "type": "scatterpolar"
           }
          ],
          "scatterpolargl": [
           {
            "marker": {
             "colorbar": {
              "outlinewidth": 0,
              "ticks": ""
             }
            },
            "type": "scatterpolargl"
           }
          ],
          "scatterternary": [
           {
            "marker": {
             "colorbar": {
              "outlinewidth": 0,
              "ticks": ""
             }
            },
            "type": "scatterternary"
           }
          ],
          "surface": [
           {
            "colorbar": {
             "outlinewidth": 0,
             "ticks": ""
            },
            "colorscale": [
             [
              0,
              "#0d0887"
             ],
             [
              0.1111111111111111,
              "#46039f"
             ],
             [
              0.2222222222222222,
              "#7201a8"
             ],
             [
              0.3333333333333333,
              "#9c179e"
             ],
             [
              0.4444444444444444,
              "#bd3786"
             ],
             [
              0.5555555555555556,
              "#d8576b"
             ],
             [
              0.6666666666666666,
              "#ed7953"
             ],
             [
              0.7777777777777778,
              "#fb9f3a"
             ],
             [
              0.8888888888888888,
              "#fdca26"
             ],
             [
              1,
              "#f0f921"
             ]
            ],
            "type": "surface"
           }
          ],
          "table": [
           {
            "cells": {
             "fill": {
              "color": "#EBF0F8"
             },
             "line": {
              "color": "white"
             }
            },
            "header": {
             "fill": {
              "color": "#C8D4E3"
             },
             "line": {
              "color": "white"
             }
            },
            "type": "table"
           }
          ]
         },
         "layout": {
          "annotationdefaults": {
           "arrowcolor": "#2a3f5f",
           "arrowhead": 0,
           "arrowwidth": 1
          },
          "autotypenumbers": "strict",
          "coloraxis": {
           "colorbar": {
            "outlinewidth": 0,
            "ticks": ""
           }
          },
          "colorscale": {
           "diverging": [
            [
             0,
             "#8e0152"
            ],
            [
             0.1,
             "#c51b7d"
            ],
            [
             0.2,
             "#de77ae"
            ],
            [
             0.3,
             "#f1b6da"
            ],
            [
             0.4,
             "#fde0ef"
            ],
            [
             0.5,
             "#f7f7f7"
            ],
            [
             0.6,
             "#e6f5d0"
            ],
            [
             0.7,
             "#b8e186"
            ],
            [
             0.8,
             "#7fbc41"
            ],
            [
             0.9,
             "#4d9221"
            ],
            [
             1,
             "#276419"
            ]
           ],
           "sequential": [
            [
             0,
             "#0d0887"
            ],
            [
             0.1111111111111111,
             "#46039f"
            ],
            [
             0.2222222222222222,
             "#7201a8"
            ],
            [
             0.3333333333333333,
             "#9c179e"
            ],
            [
             0.4444444444444444,
             "#bd3786"
            ],
            [
             0.5555555555555556,
             "#d8576b"
            ],
            [
             0.6666666666666666,
             "#ed7953"
            ],
            [
             0.7777777777777778,
             "#fb9f3a"
            ],
            [
             0.8888888888888888,
             "#fdca26"
            ],
            [
             1,
             "#f0f921"
            ]
           ],
           "sequentialminus": [
            [
             0,
             "#0d0887"
            ],
            [
             0.1111111111111111,
             "#46039f"
            ],
            [
             0.2222222222222222,
             "#7201a8"
            ],
            [
             0.3333333333333333,
             "#9c179e"
            ],
            [
             0.4444444444444444,
             "#bd3786"
            ],
            [
             0.5555555555555556,
             "#d8576b"
            ],
            [
             0.6666666666666666,
             "#ed7953"
            ],
            [
             0.7777777777777778,
             "#fb9f3a"
            ],
            [
             0.8888888888888888,
             "#fdca26"
            ],
            [
             1,
             "#f0f921"
            ]
           ]
          },
          "colorway": [
           "#636efa",
           "#EF553B",
           "#00cc96",
           "#ab63fa",
           "#FFA15A",
           "#19d3f3",
           "#FF6692",
           "#B6E880",
           "#FF97FF",
           "#FECB52"
          ],
          "font": {
           "color": "#2a3f5f"
          },
          "geo": {
           "bgcolor": "white",
           "lakecolor": "white",
           "landcolor": "#E5ECF6",
           "showlakes": true,
           "showland": true,
           "subunitcolor": "white"
          },
          "hoverlabel": {
           "align": "left"
          },
          "hovermode": "closest",
          "mapbox": {
           "style": "light"
          },
          "paper_bgcolor": "white",
          "plot_bgcolor": "#E5ECF6",
          "polar": {
           "angularaxis": {
            "gridcolor": "white",
            "linecolor": "white",
            "ticks": ""
           },
           "bgcolor": "#E5ECF6",
           "radialaxis": {
            "gridcolor": "white",
            "linecolor": "white",
            "ticks": ""
           }
          },
          "scene": {
           "xaxis": {
            "backgroundcolor": "#E5ECF6",
            "gridcolor": "white",
            "gridwidth": 2,
            "linecolor": "white",
            "showbackground": true,
            "ticks": "",
            "zerolinecolor": "white"
           },
           "yaxis": {
            "backgroundcolor": "#E5ECF6",
            "gridcolor": "white",
            "gridwidth": 2,
            "linecolor": "white",
            "showbackground": true,
            "ticks": "",
            "zerolinecolor": "white"
           },
           "zaxis": {
            "backgroundcolor": "#E5ECF6",
            "gridcolor": "white",
            "gridwidth": 2,
            "linecolor": "white",
            "showbackground": true,
            "ticks": "",
            "zerolinecolor": "white"
           }
          },
          "shapedefaults": {
           "line": {
            "color": "#2a3f5f"
           }
          },
          "ternary": {
           "aaxis": {
            "gridcolor": "white",
            "linecolor": "white",
            "ticks": ""
           },
           "baxis": {
            "gridcolor": "white",
            "linecolor": "white",
            "ticks": ""
           },
           "bgcolor": "#E5ECF6",
           "caxis": {
            "gridcolor": "white",
            "linecolor": "white",
            "ticks": ""
           }
          },
          "title": {
           "x": 0.05
          },
          "xaxis": {
           "automargin": true,
           "gridcolor": "white",
           "linecolor": "white",
           "ticks": "",
           "title": {
            "standoff": 15
           },
           "zerolinecolor": "white",
           "zerolinewidth": 2
          },
          "yaxis": {
           "automargin": true,
           "gridcolor": "white",
           "linecolor": "white",
           "ticks": "",
           "title": {
            "standoff": 15
           },
           "zerolinecolor": "white",
           "zerolinewidth": 2
          }
         }
        },
        "title": {
         "text": "Number of listings available by date"
        },
        "xaxis": {
         "anchor": "y",
         "domain": [
          0,
          1
         ],
         "title": {
          "text": "Date"
         }
        },
        "yaxis": {
         "anchor": "x",
         "domain": [
          0,
          1
         ],
         "title": {
          "text": "number of listings available"
         }
        }
       }
      }
     },
     "metadata": {},
     "output_type": "display_data"
    }
   ],
   "source": [
    "sum_available = calendar[calendar.available == \"t\"].groupby(['date']).size().to_frame(name= 'available').reset_index()\n",
    "sum_available['weekday'] = sum_available['date'].dt.day_name()\n",
    "sum_available = sum_available.set_index('date')\n",
    "\n",
    "fig = px.line(sum_available, x=sum_available.index, y=\"available\", title='Number of listings available by date',hover_data=[\"weekday\"])\n",
    "fig.update_layout(xaxis_title='Date',yaxis_title='number of listings available')\n",
    "fig.update_traces(textposition=\"bottom right\")\n",
    "pyo.iplot(fig)"
   ]
  },
  {
   "cell_type": "markdown",
   "metadata": {},
   "source": [
    "**Insights:**\n",
    "- The analysis examines the availability of listings by date, showcasing the number of listings available on each day.\n",
    "- There are fluctuations in the number of available listings over time, suggesting varying demand and property availability.but as it been observed there is increasing in number of the listings available from year 2023 to year 2024\n",
    "\n",
    "**Recommendations:**\n",
    "- **For Property Managers and Hosts:**\n",
    "  - Use insights from the availability trends to optimize pricing strategies during high-demand periods and increase occupancy during slower periods.\n",
    "  - Plan property maintenance or renovations during periods of lower demand to minimize potential booking loss.\n",
    "\n",
    "- **For Decision-Makers and Investors:**\n",
    "  - Consider the availability trends to understand the seasonality and demand patterns within the market.\n",
    "  - Use this information to make informed decisions about property acquisitions, investments, and pricing strategies.\n",
    "\n",
    "- **For Potential Guests or Buyers:**\n",
    "  - Be mindful of booking timing based on availability trends to secure desired accommodations, especially during peak travel seasons.\n",
    "  - Consider flexibility in travel dates to take advantage of potential price variations and better availability."
   ]
  },
  {
   "cell_type": "markdown",
   "metadata": {},
   "source": [
    "# Average price by date"
   ]
  },
  {
   "cell_type": "code",
   "execution_count": 56,
   "metadata": {},
   "outputs": [
    {
     "data": {
      "application/vnd.plotly.v1+json": {
       "config": {
        "linkText": "Export to plot.ly",
        "plotlyServerURL": "https://plot.ly",
        "showLink": false
       },
       "data": [
        {
         "customdata": [
          [
           "Monday"
          ],
          [
           "Tuesday"
          ],
          [
           "Wednesday"
          ],
          [
           "Thursday"
          ],
          [
           "Friday"
          ],
          [
           "Saturday"
          ],
          [
           "Sunday"
          ],
          [
           "Monday"
          ],
          [
           "Tuesday"
          ],
          [
           "Wednesday"
          ],
          [
           "Thursday"
          ],
          [
           "Friday"
          ],
          [
           "Saturday"
          ],
          [
           "Sunday"
          ],
          [
           "Monday"
          ],
          [
           "Tuesday"
          ],
          [
           "Wednesday"
          ],
          [
           "Thursday"
          ],
          [
           "Friday"
          ],
          [
           "Saturday"
          ],
          [
           "Sunday"
          ],
          [
           "Monday"
          ],
          [
           "Tuesday"
          ],
          [
           "Wednesday"
          ],
          [
           "Thursday"
          ],
          [
           "Friday"
          ],
          [
           "Saturday"
          ],
          [
           "Sunday"
          ],
          [
           "Monday"
          ],
          [
           "Tuesday"
          ],
          [
           "Wednesday"
          ],
          [
           "Thursday"
          ],
          [
           "Friday"
          ],
          [
           "Saturday"
          ],
          [
           "Sunday"
          ],
          [
           "Monday"
          ],
          [
           "Tuesday"
          ],
          [
           "Wednesday"
          ],
          [
           "Thursday"
          ],
          [
           "Friday"
          ],
          [
           "Saturday"
          ],
          [
           "Sunday"
          ],
          [
           "Monday"
          ],
          [
           "Tuesday"
          ],
          [
           "Wednesday"
          ],
          [
           "Thursday"
          ],
          [
           "Friday"
          ],
          [
           "Saturday"
          ],
          [
           "Sunday"
          ],
          [
           "Monday"
          ],
          [
           "Tuesday"
          ],
          [
           "Wednesday"
          ],
          [
           "Thursday"
          ],
          [
           "Friday"
          ],
          [
           "Saturday"
          ],
          [
           "Sunday"
          ],
          [
           "Monday"
          ],
          [
           "Tuesday"
          ],
          [
           "Wednesday"
          ],
          [
           "Thursday"
          ],
          [
           "Friday"
          ],
          [
           "Saturday"
          ],
          [
           "Sunday"
          ],
          [
           "Monday"
          ],
          [
           "Tuesday"
          ],
          [
           "Wednesday"
          ],
          [
           "Thursday"
          ],
          [
           "Friday"
          ],
          [
           "Saturday"
          ],
          [
           "Sunday"
          ],
          [
           "Monday"
          ],
          [
           "Tuesday"
          ],
          [
           "Wednesday"
          ],
          [
           "Thursday"
          ],
          [
           "Friday"
          ],
          [
           "Saturday"
          ],
          [
           "Sunday"
          ],
          [
           "Monday"
          ],
          [
           "Tuesday"
          ],
          [
           "Wednesday"
          ],
          [
           "Thursday"
          ],
          [
           "Friday"
          ],
          [
           "Saturday"
          ],
          [
           "Sunday"
          ],
          [
           "Monday"
          ],
          [
           "Tuesday"
          ],
          [
           "Wednesday"
          ],
          [
           "Thursday"
          ],
          [
           "Friday"
          ],
          [
           "Saturday"
          ],
          [
           "Sunday"
          ],
          [
           "Monday"
          ],
          [
           "Tuesday"
          ],
          [
           "Wednesday"
          ],
          [
           "Thursday"
          ],
          [
           "Friday"
          ],
          [
           "Saturday"
          ],
          [
           "Sunday"
          ],
          [
           "Monday"
          ],
          [
           "Tuesday"
          ],
          [
           "Wednesday"
          ],
          [
           "Thursday"
          ],
          [
           "Friday"
          ],
          [
           "Saturday"
          ],
          [
           "Sunday"
          ],
          [
           "Monday"
          ],
          [
           "Tuesday"
          ],
          [
           "Wednesday"
          ],
          [
           "Thursday"
          ],
          [
           "Friday"
          ],
          [
           "Saturday"
          ],
          [
           "Sunday"
          ],
          [
           "Monday"
          ],
          [
           "Tuesday"
          ],
          [
           "Wednesday"
          ],
          [
           "Thursday"
          ],
          [
           "Friday"
          ],
          [
           "Saturday"
          ],
          [
           "Sunday"
          ],
          [
           "Monday"
          ],
          [
           "Tuesday"
          ],
          [
           "Wednesday"
          ],
          [
           "Thursday"
          ],
          [
           "Friday"
          ],
          [
           "Saturday"
          ],
          [
           "Sunday"
          ],
          [
           "Monday"
          ],
          [
           "Tuesday"
          ],
          [
           "Wednesday"
          ],
          [
           "Thursday"
          ],
          [
           "Friday"
          ],
          [
           "Saturday"
          ],
          [
           "Sunday"
          ],
          [
           "Monday"
          ],
          [
           "Tuesday"
          ],
          [
           "Wednesday"
          ],
          [
           "Thursday"
          ],
          [
           "Friday"
          ],
          [
           "Saturday"
          ],
          [
           "Sunday"
          ],
          [
           "Monday"
          ],
          [
           "Tuesday"
          ],
          [
           "Wednesday"
          ],
          [
           "Thursday"
          ],
          [
           "Friday"
          ],
          [
           "Saturday"
          ],
          [
           "Sunday"
          ],
          [
           "Monday"
          ],
          [
           "Tuesday"
          ],
          [
           "Wednesday"
          ],
          [
           "Thursday"
          ],
          [
           "Friday"
          ],
          [
           "Saturday"
          ],
          [
           "Sunday"
          ],
          [
           "Monday"
          ],
          [
           "Tuesday"
          ],
          [
           "Wednesday"
          ],
          [
           "Thursday"
          ],
          [
           "Friday"
          ],
          [
           "Saturday"
          ],
          [
           "Sunday"
          ],
          [
           "Monday"
          ],
          [
           "Tuesday"
          ],
          [
           "Wednesday"
          ],
          [
           "Thursday"
          ],
          [
           "Friday"
          ],
          [
           "Saturday"
          ],
          [
           "Sunday"
          ],
          [
           "Monday"
          ],
          [
           "Tuesday"
          ],
          [
           "Wednesday"
          ],
          [
           "Thursday"
          ],
          [
           "Friday"
          ],
          [
           "Saturday"
          ],
          [
           "Sunday"
          ],
          [
           "Monday"
          ],
          [
           "Tuesday"
          ],
          [
           "Wednesday"
          ],
          [
           "Thursday"
          ],
          [
           "Friday"
          ],
          [
           "Saturday"
          ],
          [
           "Sunday"
          ],
          [
           "Monday"
          ],
          [
           "Tuesday"
          ],
          [
           "Wednesday"
          ],
          [
           "Thursday"
          ],
          [
           "Friday"
          ],
          [
           "Saturday"
          ],
          [
           "Sunday"
          ],
          [
           "Monday"
          ],
          [
           "Tuesday"
          ],
          [
           "Wednesday"
          ],
          [
           "Thursday"
          ],
          [
           "Friday"
          ],
          [
           "Saturday"
          ],
          [
           "Sunday"
          ],
          [
           "Monday"
          ],
          [
           "Tuesday"
          ],
          [
           "Wednesday"
          ],
          [
           "Thursday"
          ],
          [
           "Friday"
          ],
          [
           "Saturday"
          ],
          [
           "Sunday"
          ],
          [
           "Monday"
          ],
          [
           "Tuesday"
          ],
          [
           "Wednesday"
          ],
          [
           "Thursday"
          ],
          [
           "Friday"
          ],
          [
           "Saturday"
          ],
          [
           "Sunday"
          ],
          [
           "Monday"
          ],
          [
           "Tuesday"
          ],
          [
           "Wednesday"
          ],
          [
           "Thursday"
          ],
          [
           "Friday"
          ],
          [
           "Saturday"
          ],
          [
           "Sunday"
          ],
          [
           "Monday"
          ],
          [
           "Tuesday"
          ],
          [
           "Wednesday"
          ],
          [
           "Thursday"
          ],
          [
           "Friday"
          ],
          [
           "Saturday"
          ],
          [
           "Sunday"
          ],
          [
           "Monday"
          ],
          [
           "Tuesday"
          ],
          [
           "Wednesday"
          ],
          [
           "Thursday"
          ],
          [
           "Friday"
          ],
          [
           "Saturday"
          ],
          [
           "Sunday"
          ],
          [
           "Monday"
          ],
          [
           "Tuesday"
          ],
          [
           "Wednesday"
          ],
          [
           "Thursday"
          ],
          [
           "Friday"
          ],
          [
           "Saturday"
          ],
          [
           "Sunday"
          ],
          [
           "Monday"
          ],
          [
           "Tuesday"
          ],
          [
           "Wednesday"
          ],
          [
           "Thursday"
          ],
          [
           "Friday"
          ],
          [
           "Saturday"
          ],
          [
           "Sunday"
          ],
          [
           "Monday"
          ],
          [
           "Tuesday"
          ],
          [
           "Wednesday"
          ],
          [
           "Thursday"
          ],
          [
           "Friday"
          ],
          [
           "Saturday"
          ],
          [
           "Sunday"
          ],
          [
           "Monday"
          ],
          [
           "Tuesday"
          ],
          [
           "Wednesday"
          ],
          [
           "Thursday"
          ],
          [
           "Friday"
          ],
          [
           "Saturday"
          ],
          [
           "Sunday"
          ],
          [
           "Monday"
          ],
          [
           "Tuesday"
          ],
          [
           "Wednesday"
          ],
          [
           "Thursday"
          ],
          [
           "Friday"
          ],
          [
           "Saturday"
          ],
          [
           "Sunday"
          ],
          [
           "Monday"
          ],
          [
           "Tuesday"
          ],
          [
           "Wednesday"
          ],
          [
           "Thursday"
          ],
          [
           "Friday"
          ],
          [
           "Saturday"
          ],
          [
           "Sunday"
          ],
          [
           "Monday"
          ],
          [
           "Tuesday"
          ],
          [
           "Wednesday"
          ],
          [
           "Thursday"
          ],
          [
           "Friday"
          ],
          [
           "Saturday"
          ],
          [
           "Sunday"
          ],
          [
           "Monday"
          ],
          [
           "Tuesday"
          ],
          [
           "Wednesday"
          ],
          [
           "Thursday"
          ],
          [
           "Friday"
          ],
          [
           "Saturday"
          ],
          [
           "Sunday"
          ],
          [
           "Monday"
          ],
          [
           "Tuesday"
          ],
          [
           "Wednesday"
          ],
          [
           "Thursday"
          ],
          [
           "Friday"
          ],
          [
           "Saturday"
          ],
          [
           "Sunday"
          ],
          [
           "Monday"
          ],
          [
           "Tuesday"
          ],
          [
           "Wednesday"
          ],
          [
           "Thursday"
          ],
          [
           "Friday"
          ],
          [
           "Saturday"
          ],
          [
           "Sunday"
          ],
          [
           "Monday"
          ],
          [
           "Tuesday"
          ],
          [
           "Wednesday"
          ],
          [
           "Thursday"
          ],
          [
           "Friday"
          ],
          [
           "Saturday"
          ],
          [
           "Sunday"
          ],
          [
           "Monday"
          ],
          [
           "Tuesday"
          ],
          [
           "Wednesday"
          ],
          [
           "Thursday"
          ],
          [
           "Friday"
          ],
          [
           "Saturday"
          ],
          [
           "Sunday"
          ],
          [
           "Monday"
          ],
          [
           "Tuesday"
          ],
          [
           "Wednesday"
          ],
          [
           "Thursday"
          ],
          [
           "Friday"
          ],
          [
           "Saturday"
          ],
          [
           "Sunday"
          ],
          [
           "Monday"
          ],
          [
           "Tuesday"
          ],
          [
           "Wednesday"
          ],
          [
           "Thursday"
          ],
          [
           "Friday"
          ],
          [
           "Saturday"
          ],
          [
           "Sunday"
          ],
          [
           "Monday"
          ],
          [
           "Tuesday"
          ],
          [
           "Wednesday"
          ],
          [
           "Thursday"
          ],
          [
           "Friday"
          ],
          [
           "Saturday"
          ],
          [
           "Sunday"
          ],
          [
           "Monday"
          ],
          [
           "Tuesday"
          ],
          [
           "Wednesday"
          ],
          [
           "Thursday"
          ],
          [
           "Friday"
          ],
          [
           "Saturday"
          ],
          [
           "Sunday"
          ],
          [
           "Monday"
          ],
          [
           "Tuesday"
          ],
          [
           "Wednesday"
          ],
          [
           "Thursday"
          ],
          [
           "Friday"
          ],
          [
           "Saturday"
          ],
          [
           "Sunday"
          ],
          [
           "Monday"
          ],
          [
           "Tuesday"
          ],
          [
           "Wednesday"
          ],
          [
           "Thursday"
          ],
          [
           "Friday"
          ],
          [
           "Saturday"
          ],
          [
           "Sunday"
          ],
          [
           "Monday"
          ],
          [
           "Tuesday"
          ],
          [
           "Wednesday"
          ],
          [
           "Thursday"
          ],
          [
           "Friday"
          ],
          [
           "Saturday"
          ],
          [
           "Sunday"
          ],
          [
           "Monday"
          ],
          [
           "Tuesday"
          ]
         ],
         "hovertemplate": "x=%{x}<br>price=%{y}<br>weekday=%{customdata[0]}<extra></extra>",
         "legendgroup": "",
         "line": {
          "color": "#636efa",
          "dash": "solid"
         },
         "marker": {
          "symbol": "circle"
         },
         "mode": "lines",
         "name": "",
         "orientation": "v",
         "showlegend": false,
         "textposition": "bottom right",
         "type": "scatter",
         "x": [
          "2023-06-05T00:00:00",
          "2023-06-06T00:00:00",
          "2023-06-07T00:00:00",
          "2023-06-08T00:00:00",
          "2023-06-09T00:00:00",
          "2023-06-10T00:00:00",
          "2023-06-11T00:00:00",
          "2023-06-12T00:00:00",
          "2023-06-13T00:00:00",
          "2023-06-14T00:00:00",
          "2023-06-15T00:00:00",
          "2023-06-16T00:00:00",
          "2023-06-17T00:00:00",
          "2023-06-18T00:00:00",
          "2023-06-19T00:00:00",
          "2023-06-20T00:00:00",
          "2023-06-21T00:00:00",
          "2023-06-22T00:00:00",
          "2023-06-23T00:00:00",
          "2023-06-24T00:00:00",
          "2023-06-25T00:00:00",
          "2023-06-26T00:00:00",
          "2023-06-27T00:00:00",
          "2023-06-28T00:00:00",
          "2023-06-29T00:00:00",
          "2023-06-30T00:00:00",
          "2023-07-01T00:00:00",
          "2023-07-02T00:00:00",
          "2023-07-03T00:00:00",
          "2023-07-04T00:00:00",
          "2023-07-05T00:00:00",
          "2023-07-06T00:00:00",
          "2023-07-07T00:00:00",
          "2023-07-08T00:00:00",
          "2023-07-09T00:00:00",
          "2023-07-10T00:00:00",
          "2023-07-11T00:00:00",
          "2023-07-12T00:00:00",
          "2023-07-13T00:00:00",
          "2023-07-14T00:00:00",
          "2023-07-15T00:00:00",
          "2023-07-16T00:00:00",
          "2023-07-17T00:00:00",
          "2023-07-18T00:00:00",
          "2023-07-19T00:00:00",
          "2023-07-20T00:00:00",
          "2023-07-21T00:00:00",
          "2023-07-22T00:00:00",
          "2023-07-23T00:00:00",
          "2023-07-24T00:00:00",
          "2023-07-25T00:00:00",
          "2023-07-26T00:00:00",
          "2023-07-27T00:00:00",
          "2023-07-28T00:00:00",
          "2023-07-29T00:00:00",
          "2023-07-30T00:00:00",
          "2023-07-31T00:00:00",
          "2023-08-01T00:00:00",
          "2023-08-02T00:00:00",
          "2023-08-03T00:00:00",
          "2023-08-04T00:00:00",
          "2023-08-05T00:00:00",
          "2023-08-06T00:00:00",
          "2023-08-07T00:00:00",
          "2023-08-08T00:00:00",
          "2023-08-09T00:00:00",
          "2023-08-10T00:00:00",
          "2023-08-11T00:00:00",
          "2023-08-12T00:00:00",
          "2023-08-13T00:00:00",
          "2023-08-14T00:00:00",
          "2023-08-15T00:00:00",
          "2023-08-16T00:00:00",
          "2023-08-17T00:00:00",
          "2023-08-18T00:00:00",
          "2023-08-19T00:00:00",
          "2023-08-20T00:00:00",
          "2023-08-21T00:00:00",
          "2023-08-22T00:00:00",
          "2023-08-23T00:00:00",
          "2023-08-24T00:00:00",
          "2023-08-25T00:00:00",
          "2023-08-26T00:00:00",
          "2023-08-27T00:00:00",
          "2023-08-28T00:00:00",
          "2023-08-29T00:00:00",
          "2023-08-30T00:00:00",
          "2023-08-31T00:00:00",
          "2023-09-01T00:00:00",
          "2023-09-02T00:00:00",
          "2023-09-03T00:00:00",
          "2023-09-04T00:00:00",
          "2023-09-05T00:00:00",
          "2023-09-06T00:00:00",
          "2023-09-07T00:00:00",
          "2023-09-08T00:00:00",
          "2023-09-09T00:00:00",
          "2023-09-10T00:00:00",
          "2023-09-11T00:00:00",
          "2023-09-12T00:00:00",
          "2023-09-13T00:00:00",
          "2023-09-14T00:00:00",
          "2023-09-15T00:00:00",
          "2023-09-16T00:00:00",
          "2023-09-17T00:00:00",
          "2023-09-18T00:00:00",
          "2023-09-19T00:00:00",
          "2023-09-20T00:00:00",
          "2023-09-21T00:00:00",
          "2023-09-22T00:00:00",
          "2023-09-23T00:00:00",
          "2023-09-24T00:00:00",
          "2023-09-25T00:00:00",
          "2023-09-26T00:00:00",
          "2023-09-27T00:00:00",
          "2023-09-28T00:00:00",
          "2023-09-29T00:00:00",
          "2023-09-30T00:00:00",
          "2023-10-01T00:00:00",
          "2023-10-02T00:00:00",
          "2023-10-03T00:00:00",
          "2023-10-04T00:00:00",
          "2023-10-05T00:00:00",
          "2023-10-06T00:00:00",
          "2023-10-07T00:00:00",
          "2023-10-08T00:00:00",
          "2023-10-09T00:00:00",
          "2023-10-10T00:00:00",
          "2023-10-11T00:00:00",
          "2023-10-12T00:00:00",
          "2023-10-13T00:00:00",
          "2023-10-14T00:00:00",
          "2023-10-15T00:00:00",
          "2023-10-16T00:00:00",
          "2023-10-17T00:00:00",
          "2023-10-18T00:00:00",
          "2023-10-19T00:00:00",
          "2023-10-20T00:00:00",
          "2023-10-21T00:00:00",
          "2023-10-22T00:00:00",
          "2023-10-23T00:00:00",
          "2023-10-24T00:00:00",
          "2023-10-25T00:00:00",
          "2023-10-26T00:00:00",
          "2023-10-27T00:00:00",
          "2023-10-28T00:00:00",
          "2023-10-29T00:00:00",
          "2023-10-30T00:00:00",
          "2023-10-31T00:00:00",
          "2023-11-01T00:00:00",
          "2023-11-02T00:00:00",
          "2023-11-03T00:00:00",
          "2023-11-04T00:00:00",
          "2023-11-05T00:00:00",
          "2023-11-06T00:00:00",
          "2023-11-07T00:00:00",
          "2023-11-08T00:00:00",
          "2023-11-09T00:00:00",
          "2023-11-10T00:00:00",
          "2023-11-11T00:00:00",
          "2023-11-12T00:00:00",
          "2023-11-13T00:00:00",
          "2023-11-14T00:00:00",
          "2023-11-15T00:00:00",
          "2023-11-16T00:00:00",
          "2023-11-17T00:00:00",
          "2023-11-18T00:00:00",
          "2023-11-19T00:00:00",
          "2023-11-20T00:00:00",
          "2023-11-21T00:00:00",
          "2023-11-22T00:00:00",
          "2023-11-23T00:00:00",
          "2023-11-24T00:00:00",
          "2023-11-25T00:00:00",
          "2023-11-26T00:00:00",
          "2023-11-27T00:00:00",
          "2023-11-28T00:00:00",
          "2023-11-29T00:00:00",
          "2023-11-30T00:00:00",
          "2023-12-01T00:00:00",
          "2023-12-02T00:00:00",
          "2023-12-03T00:00:00",
          "2023-12-04T00:00:00",
          "2023-12-05T00:00:00",
          "2023-12-06T00:00:00",
          "2023-12-07T00:00:00",
          "2023-12-08T00:00:00",
          "2023-12-09T00:00:00",
          "2023-12-10T00:00:00",
          "2023-12-11T00:00:00",
          "2023-12-12T00:00:00",
          "2023-12-13T00:00:00",
          "2023-12-14T00:00:00",
          "2023-12-15T00:00:00",
          "2023-12-16T00:00:00",
          "2023-12-17T00:00:00",
          "2023-12-18T00:00:00",
          "2023-12-19T00:00:00",
          "2023-12-20T00:00:00",
          "2023-12-21T00:00:00",
          "2023-12-22T00:00:00",
          "2023-12-23T00:00:00",
          "2023-12-24T00:00:00",
          "2023-12-25T00:00:00",
          "2023-12-26T00:00:00",
          "2023-12-27T00:00:00",
          "2023-12-28T00:00:00",
          "2023-12-29T00:00:00",
          "2023-12-30T00:00:00",
          "2023-12-31T00:00:00",
          "2024-01-01T00:00:00",
          "2024-01-02T00:00:00",
          "2024-01-03T00:00:00",
          "2024-01-04T00:00:00",
          "2024-01-05T00:00:00",
          "2024-01-06T00:00:00",
          "2024-01-07T00:00:00",
          "2024-01-08T00:00:00",
          "2024-01-09T00:00:00",
          "2024-01-10T00:00:00",
          "2024-01-11T00:00:00",
          "2024-01-12T00:00:00",
          "2024-01-13T00:00:00",
          "2024-01-14T00:00:00",
          "2024-01-15T00:00:00",
          "2024-01-16T00:00:00",
          "2024-01-17T00:00:00",
          "2024-01-18T00:00:00",
          "2024-01-19T00:00:00",
          "2024-01-20T00:00:00",
          "2024-01-21T00:00:00",
          "2024-01-22T00:00:00",
          "2024-01-23T00:00:00",
          "2024-01-24T00:00:00",
          "2024-01-25T00:00:00",
          "2024-01-26T00:00:00",
          "2024-01-27T00:00:00",
          "2024-01-28T00:00:00",
          "2024-01-29T00:00:00",
          "2024-01-30T00:00:00",
          "2024-01-31T00:00:00",
          "2024-02-01T00:00:00",
          "2024-02-02T00:00:00",
          "2024-02-03T00:00:00",
          "2024-02-04T00:00:00",
          "2024-02-05T00:00:00",
          "2024-02-06T00:00:00",
          "2024-02-07T00:00:00",
          "2024-02-08T00:00:00",
          "2024-02-09T00:00:00",
          "2024-02-10T00:00:00",
          "2024-02-11T00:00:00",
          "2024-02-12T00:00:00",
          "2024-02-13T00:00:00",
          "2024-02-14T00:00:00",
          "2024-02-15T00:00:00",
          "2024-02-16T00:00:00",
          "2024-02-17T00:00:00",
          "2024-02-18T00:00:00",
          "2024-02-19T00:00:00",
          "2024-02-20T00:00:00",
          "2024-02-21T00:00:00",
          "2024-02-22T00:00:00",
          "2024-02-23T00:00:00",
          "2024-02-24T00:00:00",
          "2024-02-25T00:00:00",
          "2024-02-26T00:00:00",
          "2024-02-27T00:00:00",
          "2024-02-28T00:00:00",
          "2024-02-29T00:00:00",
          "2024-03-01T00:00:00",
          "2024-03-02T00:00:00",
          "2024-03-03T00:00:00",
          "2024-03-04T00:00:00",
          "2024-03-05T00:00:00",
          "2024-03-06T00:00:00",
          "2024-03-07T00:00:00",
          "2024-03-08T00:00:00",
          "2024-03-09T00:00:00",
          "2024-03-10T00:00:00",
          "2024-03-11T00:00:00",
          "2024-03-12T00:00:00",
          "2024-03-13T00:00:00",
          "2024-03-14T00:00:00",
          "2024-03-15T00:00:00",
          "2024-03-16T00:00:00",
          "2024-03-17T00:00:00",
          "2024-03-18T00:00:00",
          "2024-03-19T00:00:00",
          "2024-03-20T00:00:00",
          "2024-03-21T00:00:00",
          "2024-03-22T00:00:00",
          "2024-03-23T00:00:00",
          "2024-03-24T00:00:00",
          "2024-03-25T00:00:00",
          "2024-03-26T00:00:00",
          "2024-03-27T00:00:00",
          "2024-03-28T00:00:00",
          "2024-03-29T00:00:00",
          "2024-03-30T00:00:00",
          "2024-03-31T00:00:00",
          "2024-04-01T00:00:00",
          "2024-04-02T00:00:00",
          "2024-04-03T00:00:00",
          "2024-04-04T00:00:00",
          "2024-04-05T00:00:00",
          "2024-04-06T00:00:00",
          "2024-04-07T00:00:00",
          "2024-04-08T00:00:00",
          "2024-04-09T00:00:00",
          "2024-04-10T00:00:00",
          "2024-04-11T00:00:00",
          "2024-04-12T00:00:00",
          "2024-04-13T00:00:00",
          "2024-04-14T00:00:00",
          "2024-04-15T00:00:00",
          "2024-04-16T00:00:00",
          "2024-04-17T00:00:00",
          "2024-04-18T00:00:00",
          "2024-04-19T00:00:00",
          "2024-04-20T00:00:00",
          "2024-04-21T00:00:00",
          "2024-04-22T00:00:00",
          "2024-04-23T00:00:00",
          "2024-04-24T00:00:00",
          "2024-04-25T00:00:00",
          "2024-04-26T00:00:00",
          "2024-04-27T00:00:00",
          "2024-04-28T00:00:00",
          "2024-04-29T00:00:00",
          "2024-04-30T00:00:00",
          "2024-05-01T00:00:00",
          "2024-05-02T00:00:00",
          "2024-05-03T00:00:00",
          "2024-05-04T00:00:00",
          "2024-05-05T00:00:00",
          "2024-05-06T00:00:00",
          "2024-05-07T00:00:00",
          "2024-05-08T00:00:00",
          "2024-05-09T00:00:00",
          "2024-05-10T00:00:00",
          "2024-05-11T00:00:00",
          "2024-05-12T00:00:00",
          "2024-05-13T00:00:00",
          "2024-05-14T00:00:00",
          "2024-05-15T00:00:00",
          "2024-05-16T00:00:00",
          "2024-05-17T00:00:00",
          "2024-05-18T00:00:00",
          "2024-05-19T00:00:00",
          "2024-05-20T00:00:00",
          "2024-05-21T00:00:00",
          "2024-05-22T00:00:00",
          "2024-05-23T00:00:00",
          "2024-05-24T00:00:00",
          "2024-05-25T00:00:00",
          "2024-05-26T00:00:00",
          "2024-05-27T00:00:00",
          "2024-05-28T00:00:00",
          "2024-05-29T00:00:00",
          "2024-05-30T00:00:00",
          "2024-05-31T00:00:00",
          "2024-06-01T00:00:00",
          "2024-06-02T00:00:00",
          "2024-06-03T00:00:00",
          "2024-06-04T00:00:00"
         ],
         "xaxis": "x",
         "y": [
          142,
          277,
          255,
          274,
          297,
          293,
          230,
          244,
          258,
          263,
          267,
          340,
          350,
          270,
          263,
          252,
          258,
          262,
          299,
          311,
          247,
          266,
          267,
          262,
          271,
          293,
          301,
          262,
          262,
          260,
          260,
          269,
          290,
          298,
          258,
          270,
          271,
          271,
          273,
          305,
          322,
          276,
          265,
          275,
          272,
          260,
          275,
          276,
          243,
          250,
          251,
          251,
          250,
          272,
          279,
          253,
          259,
          275,
          282,
          292,
          331,
          335,
          277,
          252,
          252,
          251,
          251,
          274,
          281,
          252,
          253,
          247,
          250,
          253,
          274,
          277,
          243,
          244,
          251,
          256,
          282,
          330,
          358,
          316,
          278,
          246,
          241,
          240,
          268,
          272,
          246,
          253,
          256,
          257,
          263,
          285,
          291,
          257,
          259,
          259,
          269,
          290,
          322,
          326,
          285,
          268,
          260,
          258,
          263,
          285,
          290,
          253,
          250,
          250,
          249,
          253,
          277,
          281,
          248,
          249,
          247,
          251,
          257,
          280,
          282,
          250,
          245,
          244,
          244,
          253,
          291,
          313,
          274,
          248,
          250,
          268,
          285,
          316,
          321,
          264,
          245,
          241,
          240,
          242,
          259,
          263,
          238,
          235,
          233,
          229,
          232,
          244,
          247,
          228,
          230,
          229,
          229,
          232,
          245,
          247,
          226,
          227,
          230,
          231,
          232,
          245,
          247,
          225,
          224,
          223,
          223,
          226,
          240,
          243,
          224,
          223,
          223,
          223,
          227,
          245,
          247,
          229,
          226,
          226,
          227,
          231,
          248,
          251,
          226,
          224,
          224,
          225,
          226,
          243,
          246,
          229,
          229,
          229,
          229,
          232,
          249,
          258,
          249,
          253,
          255,
          261,
          270,
          296,
          310,
          315,
          263,
          243,
          234,
          235,
          245,
          246,
          229,
          223,
          224,
          222,
          223,
          235,
          238,
          225,
          225,
          224,
          224,
          225,
          235,
          236,
          221,
          220,
          221,
          225,
          225,
          237,
          239,
          224,
          224,
          224,
          223,
          228,
          239,
          241,
          227,
          227,
          227,
          228,
          229,
          239,
          241,
          228,
          228,
          231,
          229,
          228,
          238,
          240,
          227,
          227,
          227,
          227,
          228,
          239,
          241,
          227,
          226,
          226,
          226,
          227,
          240,
          244,
          230,
          230,
          231,
          231,
          232,
          244,
          246,
          231,
          231,
          233,
          232,
          236,
          247,
          248,
          230,
          231,
          232,
          232,
          234,
          245,
          247,
          233,
          233,
          234,
          236,
          242,
          256,
          258,
          243,
          242,
          336,
          337,
          337,
          347,
          348,
          336,
          337,
          337,
          337,
          337,
          348,
          348,
          338,
          338,
          339,
          340,
          342,
          352,
          351,
          337,
          337,
          336,
          337,
          341,
          360,
          361,
          343,
          339,
          338,
          340,
          339,
          347,
          350,
          338,
          337,
          335,
          337,
          340,
          348,
          349,
          337,
          336,
          337,
          339,
          337,
          275,
          346,
          337,
          335,
          334,
          334,
          334,
          343,
          341,
          331,
          331,
          332,
          334,
          333,
          340,
          346,
          342,
          343,
          297
         ],
         "yaxis": "y"
        }
       ],
       "layout": {
        "legend": {
         "tracegroupgap": 0
        },
        "template": {
         "data": {
          "bar": [
           {
            "error_x": {
             "color": "#2a3f5f"
            },
            "error_y": {
             "color": "#2a3f5f"
            },
            "marker": {
             "line": {
              "color": "#E5ECF6",
              "width": 0.5
             },
             "pattern": {
              "fillmode": "overlay",
              "size": 10,
              "solidity": 0.2
             }
            },
            "type": "bar"
           }
          ],
          "barpolar": [
           {
            "marker": {
             "line": {
              "color": "#E5ECF6",
              "width": 0.5
             },
             "pattern": {
              "fillmode": "overlay",
              "size": 10,
              "solidity": 0.2
             }
            },
            "type": "barpolar"
           }
          ],
          "carpet": [
           {
            "aaxis": {
             "endlinecolor": "#2a3f5f",
             "gridcolor": "white",
             "linecolor": "white",
             "minorgridcolor": "white",
             "startlinecolor": "#2a3f5f"
            },
            "baxis": {
             "endlinecolor": "#2a3f5f",
             "gridcolor": "white",
             "linecolor": "white",
             "minorgridcolor": "white",
             "startlinecolor": "#2a3f5f"
            },
            "type": "carpet"
           }
          ],
          "choropleth": [
           {
            "colorbar": {
             "outlinewidth": 0,
             "ticks": ""
            },
            "type": "choropleth"
           }
          ],
          "contour": [
           {
            "colorbar": {
             "outlinewidth": 0,
             "ticks": ""
            },
            "colorscale": [
             [
              0,
              "#0d0887"
             ],
             [
              0.1111111111111111,
              "#46039f"
             ],
             [
              0.2222222222222222,
              "#7201a8"
             ],
             [
              0.3333333333333333,
              "#9c179e"
             ],
             [
              0.4444444444444444,
              "#bd3786"
             ],
             [
              0.5555555555555556,
              "#d8576b"
             ],
             [
              0.6666666666666666,
              "#ed7953"
             ],
             [
              0.7777777777777778,
              "#fb9f3a"
             ],
             [
              0.8888888888888888,
              "#fdca26"
             ],
             [
              1,
              "#f0f921"
             ]
            ],
            "type": "contour"
           }
          ],
          "contourcarpet": [
           {
            "colorbar": {
             "outlinewidth": 0,
             "ticks": ""
            },
            "type": "contourcarpet"
           }
          ],
          "heatmap": [
           {
            "colorbar": {
             "outlinewidth": 0,
             "ticks": ""
            },
            "colorscale": [
             [
              0,
              "#0d0887"
             ],
             [
              0.1111111111111111,
              "#46039f"
             ],
             [
              0.2222222222222222,
              "#7201a8"
             ],
             [
              0.3333333333333333,
              "#9c179e"
             ],
             [
              0.4444444444444444,
              "#bd3786"
             ],
             [
              0.5555555555555556,
              "#d8576b"
             ],
             [
              0.6666666666666666,
              "#ed7953"
             ],
             [
              0.7777777777777778,
              "#fb9f3a"
             ],
             [
              0.8888888888888888,
              "#fdca26"
             ],
             [
              1,
              "#f0f921"
             ]
            ],
            "type": "heatmap"
           }
          ],
          "heatmapgl": [
           {
            "colorbar": {
             "outlinewidth": 0,
             "ticks": ""
            },
            "colorscale": [
             [
              0,
              "#0d0887"
             ],
             [
              0.1111111111111111,
              "#46039f"
             ],
             [
              0.2222222222222222,
              "#7201a8"
             ],
             [
              0.3333333333333333,
              "#9c179e"
             ],
             [
              0.4444444444444444,
              "#bd3786"
             ],
             [
              0.5555555555555556,
              "#d8576b"
             ],
             [
              0.6666666666666666,
              "#ed7953"
             ],
             [
              0.7777777777777778,
              "#fb9f3a"
             ],
             [
              0.8888888888888888,
              "#fdca26"
             ],
             [
              1,
              "#f0f921"
             ]
            ],
            "type": "heatmapgl"
           }
          ],
          "histogram": [
           {
            "marker": {
             "pattern": {
              "fillmode": "overlay",
              "size": 10,
              "solidity": 0.2
             }
            },
            "type": "histogram"
           }
          ],
          "histogram2d": [
           {
            "colorbar": {
             "outlinewidth": 0,
             "ticks": ""
            },
            "colorscale": [
             [
              0,
              "#0d0887"
             ],
             [
              0.1111111111111111,
              "#46039f"
             ],
             [
              0.2222222222222222,
              "#7201a8"
             ],
             [
              0.3333333333333333,
              "#9c179e"
             ],
             [
              0.4444444444444444,
              "#bd3786"
             ],
             [
              0.5555555555555556,
              "#d8576b"
             ],
             [
              0.6666666666666666,
              "#ed7953"
             ],
             [
              0.7777777777777778,
              "#fb9f3a"
             ],
             [
              0.8888888888888888,
              "#fdca26"
             ],
             [
              1,
              "#f0f921"
             ]
            ],
            "type": "histogram2d"
           }
          ],
          "histogram2dcontour": [
           {
            "colorbar": {
             "outlinewidth": 0,
             "ticks": ""
            },
            "colorscale": [
             [
              0,
              "#0d0887"
             ],
             [
              0.1111111111111111,
              "#46039f"
             ],
             [
              0.2222222222222222,
              "#7201a8"
             ],
             [
              0.3333333333333333,
              "#9c179e"
             ],
             [
              0.4444444444444444,
              "#bd3786"
             ],
             [
              0.5555555555555556,
              "#d8576b"
             ],
             [
              0.6666666666666666,
              "#ed7953"
             ],
             [
              0.7777777777777778,
              "#fb9f3a"
             ],
             [
              0.8888888888888888,
              "#fdca26"
             ],
             [
              1,
              "#f0f921"
             ]
            ],
            "type": "histogram2dcontour"
           }
          ],
          "mesh3d": [
           {
            "colorbar": {
             "outlinewidth": 0,
             "ticks": ""
            },
            "type": "mesh3d"
           }
          ],
          "parcoords": [
           {
            "line": {
             "colorbar": {
              "outlinewidth": 0,
              "ticks": ""
             }
            },
            "type": "parcoords"
           }
          ],
          "pie": [
           {
            "automargin": true,
            "type": "pie"
           }
          ],
          "scatter": [
           {
            "fillpattern": {
             "fillmode": "overlay",
             "size": 10,
             "solidity": 0.2
            },
            "type": "scatter"
           }
          ],
          "scatter3d": [
           {
            "line": {
             "colorbar": {
              "outlinewidth": 0,
              "ticks": ""
             }
            },
            "marker": {
             "colorbar": {
              "outlinewidth": 0,
              "ticks": ""
             }
            },
            "type": "scatter3d"
           }
          ],
          "scattercarpet": [
           {
            "marker": {
             "colorbar": {
              "outlinewidth": 0,
              "ticks": ""
             }
            },
            "type": "scattercarpet"
           }
          ],
          "scattergeo": [
           {
            "marker": {
             "colorbar": {
              "outlinewidth": 0,
              "ticks": ""
             }
            },
            "type": "scattergeo"
           }
          ],
          "scattergl": [
           {
            "marker": {
             "colorbar": {
              "outlinewidth": 0,
              "ticks": ""
             }
            },
            "type": "scattergl"
           }
          ],
          "scattermapbox": [
           {
            "marker": {
             "colorbar": {
              "outlinewidth": 0,
              "ticks": ""
             }
            },
            "type": "scattermapbox"
           }
          ],
          "scatterpolar": [
           {
            "marker": {
             "colorbar": {
              "outlinewidth": 0,
              "ticks": ""
             }
            },
            "type": "scatterpolar"
           }
          ],
          "scatterpolargl": [
           {
            "marker": {
             "colorbar": {
              "outlinewidth": 0,
              "ticks": ""
             }
            },
            "type": "scatterpolargl"
           }
          ],
          "scatterternary": [
           {
            "marker": {
             "colorbar": {
              "outlinewidth": 0,
              "ticks": ""
             }
            },
            "type": "scatterternary"
           }
          ],
          "surface": [
           {
            "colorbar": {
             "outlinewidth": 0,
             "ticks": ""
            },
            "colorscale": [
             [
              0,
              "#0d0887"
             ],
             [
              0.1111111111111111,
              "#46039f"
             ],
             [
              0.2222222222222222,
              "#7201a8"
             ],
             [
              0.3333333333333333,
              "#9c179e"
             ],
             [
              0.4444444444444444,
              "#bd3786"
             ],
             [
              0.5555555555555556,
              "#d8576b"
             ],
             [
              0.6666666666666666,
              "#ed7953"
             ],
             [
              0.7777777777777778,
              "#fb9f3a"
             ],
             [
              0.8888888888888888,
              "#fdca26"
             ],
             [
              1,
              "#f0f921"
             ]
            ],
            "type": "surface"
           }
          ],
          "table": [
           {
            "cells": {
             "fill": {
              "color": "#EBF0F8"
             },
             "line": {
              "color": "white"
             }
            },
            "header": {
             "fill": {
              "color": "#C8D4E3"
             },
             "line": {
              "color": "white"
             }
            },
            "type": "table"
           }
          ]
         },
         "layout": {
          "annotationdefaults": {
           "arrowcolor": "#2a3f5f",
           "arrowhead": 0,
           "arrowwidth": 1
          },
          "autotypenumbers": "strict",
          "coloraxis": {
           "colorbar": {
            "outlinewidth": 0,
            "ticks": ""
           }
          },
          "colorscale": {
           "diverging": [
            [
             0,
             "#8e0152"
            ],
            [
             0.1,
             "#c51b7d"
            ],
            [
             0.2,
             "#de77ae"
            ],
            [
             0.3,
             "#f1b6da"
            ],
            [
             0.4,
             "#fde0ef"
            ],
            [
             0.5,
             "#f7f7f7"
            ],
            [
             0.6,
             "#e6f5d0"
            ],
            [
             0.7,
             "#b8e186"
            ],
            [
             0.8,
             "#7fbc41"
            ],
            [
             0.9,
             "#4d9221"
            ],
            [
             1,
             "#276419"
            ]
           ],
           "sequential": [
            [
             0,
             "#0d0887"
            ],
            [
             0.1111111111111111,
             "#46039f"
            ],
            [
             0.2222222222222222,
             "#7201a8"
            ],
            [
             0.3333333333333333,
             "#9c179e"
            ],
            [
             0.4444444444444444,
             "#bd3786"
            ],
            [
             0.5555555555555556,
             "#d8576b"
            ],
            [
             0.6666666666666666,
             "#ed7953"
            ],
            [
             0.7777777777777778,
             "#fb9f3a"
            ],
            [
             0.8888888888888888,
             "#fdca26"
            ],
            [
             1,
             "#f0f921"
            ]
           ],
           "sequentialminus": [
            [
             0,
             "#0d0887"
            ],
            [
             0.1111111111111111,
             "#46039f"
            ],
            [
             0.2222222222222222,
             "#7201a8"
            ],
            [
             0.3333333333333333,
             "#9c179e"
            ],
            [
             0.4444444444444444,
             "#bd3786"
            ],
            [
             0.5555555555555556,
             "#d8576b"
            ],
            [
             0.6666666666666666,
             "#ed7953"
            ],
            [
             0.7777777777777778,
             "#fb9f3a"
            ],
            [
             0.8888888888888888,
             "#fdca26"
            ],
            [
             1,
             "#f0f921"
            ]
           ]
          },
          "colorway": [
           "#636efa",
           "#EF553B",
           "#00cc96",
           "#ab63fa",
           "#FFA15A",
           "#19d3f3",
           "#FF6692",
           "#B6E880",
           "#FF97FF",
           "#FECB52"
          ],
          "font": {
           "color": "#2a3f5f"
          },
          "geo": {
           "bgcolor": "white",
           "lakecolor": "white",
           "landcolor": "#E5ECF6",
           "showlakes": true,
           "showland": true,
           "subunitcolor": "white"
          },
          "hoverlabel": {
           "align": "left"
          },
          "hovermode": "closest",
          "mapbox": {
           "style": "light"
          },
          "paper_bgcolor": "white",
          "plot_bgcolor": "#E5ECF6",
          "polar": {
           "angularaxis": {
            "gridcolor": "white",
            "linecolor": "white",
            "ticks": ""
           },
           "bgcolor": "#E5ECF6",
           "radialaxis": {
            "gridcolor": "white",
            "linecolor": "white",
            "ticks": ""
           }
          },
          "scene": {
           "xaxis": {
            "backgroundcolor": "#E5ECF6",
            "gridcolor": "white",
            "gridwidth": 2,
            "linecolor": "white",
            "showbackground": true,
            "ticks": "",
            "zerolinecolor": "white"
           },
           "yaxis": {
            "backgroundcolor": "#E5ECF6",
            "gridcolor": "white",
            "gridwidth": 2,
            "linecolor": "white",
            "showbackground": true,
            "ticks": "",
            "zerolinecolor": "white"
           },
           "zaxis": {
            "backgroundcolor": "#E5ECF6",
            "gridcolor": "white",
            "gridwidth": 2,
            "linecolor": "white",
            "showbackground": true,
            "ticks": "",
            "zerolinecolor": "white"
           }
          },
          "shapedefaults": {
           "line": {
            "color": "#2a3f5f"
           }
          },
          "ternary": {
           "aaxis": {
            "gridcolor": "white",
            "linecolor": "white",
            "ticks": ""
           },
           "baxis": {
            "gridcolor": "white",
            "linecolor": "white",
            "ticks": ""
           },
           "bgcolor": "#E5ECF6",
           "caxis": {
            "gridcolor": "white",
            "linecolor": "white",
            "ticks": ""
           }
          },
          "title": {
           "x": 0.05
          },
          "xaxis": {
           "automargin": true,
           "gridcolor": "white",
           "linecolor": "white",
           "ticks": "",
           "title": {
            "standoff": 15
           },
           "zerolinecolor": "white",
           "zerolinewidth": 2
          },
          "yaxis": {
           "automargin": true,
           "gridcolor": "white",
           "linecolor": "white",
           "ticks": "",
           "title": {
            "standoff": 15
           },
           "zerolinecolor": "white",
           "zerolinewidth": 2
          }
         }
        },
        "title": {
         "text": "Average price of available 2 persons accommodation by date"
        },
        "xaxis": {
         "anchor": "y",
         "domain": [
          0,
          1
         ],
         "title": {
          "text": "Date"
         }
        },
        "yaxis": {
         "anchor": "x",
         "domain": [
          0,
          1
         ],
         "title": {
          "text": "Price"
         }
        }
       }
      }
     },
     "metadata": {},
     "output_type": "display_data"
    }
   ],
   "source": [
    "average_price = calendar[(calendar.available == \"t\") & (calendar.accommodates == 2)].groupby('date')['price'].mean().astype(np.int64).reset_index()\n",
    "average_price['weekday'] = average_price['date'].dt.day_name()\n",
    "average_price = average_price.set_index('date')\n",
    "fig = px.line(average_price, x=sum_available.index, y=\"price\", title='Average price of available 2 persons accommodation by date',hover_data=[\"weekday\"])\n",
    "fig.update_layout(xaxis_title='Date',yaxis_title='Price')\n",
    "fig.update_traces(textposition=\"bottom right\")\n",
    "pyo.iplot(fig)"
   ]
  },
  {
   "cell_type": "markdown",
   "metadata": {},
   "source": [
    "**Insights:**\n",
    "- The analysis presents the average price of available accommodations for two persons over time.\n",
    "- The graph depicts fluctuations in the average price, indicating price changes in response to demand and seasonality.The peak of average price is due to higher prices in weekends\n",
    "\n",
    "**Recommendations:**\n",
    "- **For Property Managers and Hosts:**\n",
    "  - Utilize average price trends to adjust pricing strategies based on demand patterns and maximize revenue during peak seasons.\n",
    "  - Offer competitive pricing during slower periods to attract more bookings and maintain consistent occupancy rates.\n",
    "\n",
    "- **For Decision-Makers and Investors:**\n",
    "  - Analyze average price trends to gain insights into pricing dynamics and potential revenue opportunities within the market.\n",
    "  - Understand how pricing changes influence booking volumes and property profitability.\n",
    "\n",
    "- **For Potential Guests or Buyers:**\n",
    "  - Consider the average price trends when planning travel to align with your budget and desired accommodation quality.\n",
    "  - Be aware of potential price increases during peak seasons and plan accordingly."
   ]
  }
 ],
 "metadata": {
  "kernelspec": {
   "display_name": "Python 3 (ipykernel)",
   "language": "python",
   "name": "python3"
  },
  "language_info": {
   "codemirror_mode": {
    "name": "ipython",
    "version": 3
   },
   "file_extension": ".py",
   "mimetype": "text/x-python",
   "name": "python",
   "nbconvert_exporter": "python",
   "pygments_lexer": "ipython3",
   "version": "3.11.4"
  }
 },
 "nbformat": 4,
 "nbformat_minor": 4
}
